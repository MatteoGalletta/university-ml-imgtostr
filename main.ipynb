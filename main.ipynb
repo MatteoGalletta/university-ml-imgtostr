{
 "cells": [
  {
   "cell_type": "code",
   "execution_count": 32,
   "id": "6e2cf299",
   "metadata": {},
   "outputs": [
    {
     "name": "stdout",
     "output_type": "stream",
     "text": [
      "Number of runs: 100\n",
      "Average inference time: 0.000275 seconds\n",
      "Standard deviation: 0.000016 seconds\n",
      "Number of runs: 100\n",
      "Average inference time: 0.000427 seconds\n",
      "Standard deviation: 0.000167 seconds\n"
     ]
    }
   ],
   "source": [
    "import torch\n",
    "import torch.nn as nn\n",
    "import time\n",
    "import numpy as np\n",
    "\n",
    "def test(device = None):\n",
    "    # Select device: use XPU if available, else fallback to CPU\n",
    "    device = torch.device(device)\n",
    "\n",
    "    # Define the neural network architecture\n",
    "    class NeuralNetwork(nn.Module):\n",
    "        def __init__(self):\n",
    "            super(NeuralNetwork, self).__init__()\n",
    "            self.layer1 = nn.Linear(40, 1024)\n",
    "            self.layer2 = nn.Linear(1024, 1024)\n",
    "            self.layer3 = nn.Linear(1024, 1024)\n",
    "            self.layer4 = nn.Linear(1024, 20)\n",
    "            self.relu = nn.ReLU()\n",
    "\n",
    "        def forward(self, x):\n",
    "            x = self.relu(self.layer1(x))\n",
    "            x = self.relu(self.layer2(x))\n",
    "            x = self.relu(self.layer3(x))\n",
    "            x = self.layer4(x)\n",
    "            return x\n",
    "\n",
    "    # Instantiate the model and move to device\n",
    "    model = NeuralNetwork().to(device)\n",
    "    model.eval()  # Set the model to evaluation mode\n",
    "\n",
    "    # Create a dummy input tensor and move to device\n",
    "    dummy_input = torch.randn(1, 40, device=device)\n",
    "\n",
    "    # Number of times to run the inference for averaging\n",
    "    num_runs = 100\n",
    "    inference_times = []\n",
    "\n",
    "    with torch.no_grad():  # Deactivate autograd for faster inference\n",
    "        # Warm-up run (important to initialize everything)\n",
    "        for _ in range(10):\n",
    "            _ = model(dummy_input)\n",
    "\n",
    "        # Measure inference time over multiple runs\n",
    "        for _ in range(num_runs):\n",
    "            start_time = time.perf_counter()\n",
    "            output = model(dummy_input)\n",
    "            end_time = time.perf_counter()\n",
    "            inference_times.append(end_time - start_time)\n",
    "\n",
    "    # Calculate the average inference time and standard deviation\n",
    "    average_inference_time = np.mean(inference_times)\n",
    "    std_dev_inference_time = np.std(inference_times)\n",
    "\n",
    "    print(f\"Number of runs: {num_runs}\")\n",
    "    print(f\"Average inference time: {average_inference_time:.6f} seconds\")\n",
    "    print(f\"Standard deviation: {std_dev_inference_time:.6f} seconds\")\n",
    "\n",
    "test('xpu')\n",
    "test('cpu')"
   ]
  }
 ],
 "metadata": {
  "kernelspec": {
   "display_name": ".venv",
   "language": "python",
   "name": "python3"
  },
  "language_info": {
   "codemirror_mode": {
    "name": "ipython",
    "version": 3
   },
   "file_extension": ".py",
   "mimetype": "text/x-python",
   "name": "python",
   "nbconvert_exporter": "python",
   "pygments_lexer": "ipython3",
   "version": "3.13.3"
  }
 },
 "nbformat": 4,
 "nbformat_minor": 5
}
