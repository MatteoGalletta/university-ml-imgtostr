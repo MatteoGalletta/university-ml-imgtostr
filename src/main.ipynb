{
 "cells": [
  {
   "cell_type": "code",
   "execution_count": 1,
   "id": "a38a1b97",
   "metadata": {},
   "outputs": [
    {
     "name": "stdout",
     "output_type": "stream",
     "text": [
      "Requirement already satisfied: matplotlib in /home/kevin/.pyenv/versions/3.8.10/lib/python3.8/site-packages (3.7.5)\n",
      "Requirement already satisfied: numpy in /home/kevin/.pyenv/versions/3.8.10/lib/python3.8/site-packages (1.24.4)\n",
      "Requirement already satisfied: tensorboard in /home/kevin/.pyenv/versions/3.8.10/lib/python3.8/site-packages (2.14.0)\n",
      "Requirement already satisfied: standard-imghdr in /home/kevin/.pyenv/versions/3.8.10/lib/python3.8/site-packages (3.13.0)\n",
      "Requirement already satisfied: torchnet in /home/kevin/.pyenv/versions/3.8.10/lib/python3.8/site-packages (0.0.4)\n",
      "Requirement already satisfied: packaging>=20.0 in /home/kevin/.pyenv/versions/3.8.10/lib/python3.8/site-packages (from matplotlib) (24.2)\n",
      "Requirement already satisfied: contourpy>=1.0.1 in /home/kevin/.pyenv/versions/3.8.10/lib/python3.8/site-packages (from matplotlib) (1.1.1)\n",
      "Requirement already satisfied: pillow>=6.2.0 in /home/kevin/.pyenv/versions/3.8.10/lib/python3.8/site-packages (from matplotlib) (10.4.0)\n",
      "Requirement already satisfied: importlib-resources>=3.2.0 in /home/kevin/.pyenv/versions/3.8.10/lib/python3.8/site-packages (from matplotlib) (6.4.5)\n",
      "Requirement already satisfied: python-dateutil>=2.7 in /home/kevin/.pyenv/versions/3.8.10/lib/python3.8/site-packages (from matplotlib) (2.9.0.post0)\n",
      "Requirement already satisfied: pyparsing>=2.3.1 in /home/kevin/.pyenv/versions/3.8.10/lib/python3.8/site-packages (from matplotlib) (3.1.4)\n",
      "Requirement already satisfied: kiwisolver>=1.0.1 in /home/kevin/.pyenv/versions/3.8.10/lib/python3.8/site-packages (from matplotlib) (1.4.7)\n",
      "Requirement already satisfied: cycler>=0.10 in /home/kevin/.pyenv/versions/3.8.10/lib/python3.8/site-packages (from matplotlib) (0.12.1)\n",
      "Requirement already satisfied: fonttools>=4.22.0 in /home/kevin/.pyenv/versions/3.8.10/lib/python3.8/site-packages (from matplotlib) (4.57.0)\n",
      "Requirement already satisfied: zipp>=3.1.0 in /home/kevin/.pyenv/versions/3.8.10/lib/python3.8/site-packages (from importlib-resources>=3.2.0->matplotlib) (3.20.2)\n",
      "Requirement already satisfied: six>=1.5 in /home/kevin/.pyenv/versions/3.8.10/lib/python3.8/site-packages (from python-dateutil>=2.7->matplotlib) (1.17.0)\n",
      "Requirement already satisfied: markdown>=2.6.8 in /home/kevin/.pyenv/versions/3.8.10/lib/python3.8/site-packages (from tensorboard) (3.7)\n",
      "Requirement already satisfied: setuptools>=41.0.0 in /home/kevin/.pyenv/versions/3.8.10/lib/python3.8/site-packages (from tensorboard) (56.0.0)\n",
      "Requirement already satisfied: wheel>=0.26 in /home/kevin/.pyenv/versions/3.8.10/lib/python3.8/site-packages (from tensorboard) (0.45.1)\n",
      "Requirement already satisfied: google-auth<3,>=1.6.3 in /home/kevin/.pyenv/versions/3.8.10/lib/python3.8/site-packages (from tensorboard) (2.40.1)\n",
      "Requirement already satisfied: google-auth-oauthlib<1.1,>=0.5 in /home/kevin/.pyenv/versions/3.8.10/lib/python3.8/site-packages (from tensorboard) (1.0.0)\n",
      "Requirement already satisfied: protobuf>=3.19.6 in /home/kevin/.pyenv/versions/3.8.10/lib/python3.8/site-packages (from tensorboard) (5.29.4)\n",
      "Requirement already satisfied: tensorboard-data-server<0.8.0,>=0.7.0 in /home/kevin/.pyenv/versions/3.8.10/lib/python3.8/site-packages (from tensorboard) (0.7.2)\n",
      "Requirement already satisfied: absl-py>=0.4 in /home/kevin/.pyenv/versions/3.8.10/lib/python3.8/site-packages (from tensorboard) (2.2.2)\n",
      "Requirement already satisfied: grpcio>=1.48.2 in /home/kevin/.pyenv/versions/3.8.10/lib/python3.8/site-packages (from tensorboard) (1.70.0)\n",
      "Requirement already satisfied: werkzeug>=1.0.1 in /home/kevin/.pyenv/versions/3.8.10/lib/python3.8/site-packages (from tensorboard) (3.0.6)\n",
      "Requirement already satisfied: requests<3,>=2.21.0 in /home/kevin/.pyenv/versions/3.8.10/lib/python3.8/site-packages (from tensorboard) (2.32.3)\n",
      "Requirement already satisfied: pyasn1-modules>=0.2.1 in /home/kevin/.pyenv/versions/3.8.10/lib/python3.8/site-packages (from google-auth<3,>=1.6.3->tensorboard) (0.4.2)\n",
      "Requirement already satisfied: cachetools<6.0,>=2.0.0 in /home/kevin/.pyenv/versions/3.8.10/lib/python3.8/site-packages (from google-auth<3,>=1.6.3->tensorboard) (5.5.2)\n",
      "Requirement already satisfied: rsa<5,>=3.1.4 in /home/kevin/.pyenv/versions/3.8.10/lib/python3.8/site-packages (from google-auth<3,>=1.6.3->tensorboard) (4.9.1)\n",
      "Requirement already satisfied: requests-oauthlib>=0.7.0 in /home/kevin/.pyenv/versions/3.8.10/lib/python3.8/site-packages (from google-auth-oauthlib<1.1,>=0.5->tensorboard) (2.0.0)\n",
      "Requirement already satisfied: importlib-metadata>=4.4 in /home/kevin/.pyenv/versions/3.8.10/lib/python3.8/site-packages (from markdown>=2.6.8->tensorboard) (8.5.0)\n",
      "Requirement already satisfied: pyasn1<0.7.0,>=0.6.1 in /home/kevin/.pyenv/versions/3.8.10/lib/python3.8/site-packages (from pyasn1-modules>=0.2.1->google-auth<3,>=1.6.3->tensorboard) (0.6.1)\n",
      "Requirement already satisfied: idna<4,>=2.5 in /home/kevin/.pyenv/versions/3.8.10/lib/python3.8/site-packages (from requests<3,>=2.21.0->tensorboard) (3.10)\n",
      "Requirement already satisfied: charset-normalizer<4,>=2 in /home/kevin/.pyenv/versions/3.8.10/lib/python3.8/site-packages (from requests<3,>=2.21.0->tensorboard) (3.4.0)\n",
      "Requirement already satisfied: certifi>=2017.4.17 in /home/kevin/.pyenv/versions/3.8.10/lib/python3.8/site-packages (from requests<3,>=2.21.0->tensorboard) (2024.12.14)\n",
      "Requirement already satisfied: urllib3<3,>=1.21.1 in /home/kevin/.pyenv/versions/3.8.10/lib/python3.8/site-packages (from requests<3,>=2.21.0->tensorboard) (2.2.3)\n",
      "Requirement already satisfied: oauthlib>=3.0.0 in /home/kevin/.pyenv/versions/3.8.10/lib/python3.8/site-packages (from requests-oauthlib>=0.7.0->google-auth-oauthlib<1.1,>=0.5->tensorboard) (3.2.2)\n",
      "Requirement already satisfied: MarkupSafe>=2.1.1 in /home/kevin/.pyenv/versions/3.8.10/lib/python3.8/site-packages (from werkzeug>=1.0.1->tensorboard) (2.1.5)\n",
      "Requirement already satisfied: torch in /home/kevin/.pyenv/versions/3.8.10/lib/python3.8/site-packages (from torchnet) (2.4.1)\n",
      "Requirement already satisfied: visdom in /home/kevin/.pyenv/versions/3.8.10/lib/python3.8/site-packages (from torchnet) (0.2.4)\n",
      "Requirement already satisfied: nvidia-cusolver-cu12==11.4.5.107 in /home/kevin/.pyenv/versions/3.8.10/lib/python3.8/site-packages (from torch->torchnet) (11.4.5.107)\n",
      "Requirement already satisfied: nvidia-cuda-cupti-cu12==12.1.105 in /home/kevin/.pyenv/versions/3.8.10/lib/python3.8/site-packages (from torch->torchnet) (12.1.105)\n",
      "Requirement already satisfied: nvidia-nvtx-cu12==12.1.105 in /home/kevin/.pyenv/versions/3.8.10/lib/python3.8/site-packages (from torch->torchnet) (12.1.105)\n",
      "Requirement already satisfied: nvidia-nccl-cu12==2.20.5 in /home/kevin/.pyenv/versions/3.8.10/lib/python3.8/site-packages (from torch->torchnet) (2.20.5)\n",
      "Requirement already satisfied: triton==3.0.0 in /home/kevin/.pyenv/versions/3.8.10/lib/python3.8/site-packages (from torch->torchnet) (3.0.0)\n",
      "Requirement already satisfied: nvidia-cufft-cu12==11.0.2.54 in /home/kevin/.pyenv/versions/3.8.10/lib/python3.8/site-packages (from torch->torchnet) (11.0.2.54)\n",
      "Requirement already satisfied: typing-extensions>=4.8.0 in /home/kevin/.pyenv/versions/3.8.10/lib/python3.8/site-packages (from torch->torchnet) (4.12.2)\n",
      "Requirement already satisfied: jinja2 in /home/kevin/.pyenv/versions/3.8.10/lib/python3.8/site-packages (from torch->torchnet) (3.1.6)\n",
      "Requirement already satisfied: filelock in /home/kevin/.pyenv/versions/3.8.10/lib/python3.8/site-packages (from torch->torchnet) (3.16.1)\n",
      "Requirement already satisfied: networkx in /home/kevin/.pyenv/versions/3.8.10/lib/python3.8/site-packages (from torch->torchnet) (3.1)\n",
      "Requirement already satisfied: sympy in /home/kevin/.pyenv/versions/3.8.10/lib/python3.8/site-packages (from torch->torchnet) (1.13.3)\n",
      "Requirement already satisfied: nvidia-cudnn-cu12==9.1.0.70 in /home/kevin/.pyenv/versions/3.8.10/lib/python3.8/site-packages (from torch->torchnet) (9.1.0.70)\n",
      "Requirement already satisfied: nvidia-curand-cu12==10.3.2.106 in /home/kevin/.pyenv/versions/3.8.10/lib/python3.8/site-packages (from torch->torchnet) (10.3.2.106)\n",
      "Requirement already satisfied: fsspec in /home/kevin/.pyenv/versions/3.8.10/lib/python3.8/site-packages (from torch->torchnet) (2025.3.0)\n",
      "Requirement already satisfied: nvidia-cusparse-cu12==12.1.0.106 in /home/kevin/.pyenv/versions/3.8.10/lib/python3.8/site-packages (from torch->torchnet) (12.1.0.106)\n",
      "Requirement already satisfied: nvidia-cuda-nvrtc-cu12==12.1.105 in /home/kevin/.pyenv/versions/3.8.10/lib/python3.8/site-packages (from torch->torchnet) (12.1.105)\n",
      "Requirement already satisfied: nvidia-cublas-cu12==12.1.3.1 in /home/kevin/.pyenv/versions/3.8.10/lib/python3.8/site-packages (from torch->torchnet) (12.1.3.1)\n",
      "Requirement already satisfied: nvidia-cuda-runtime-cu12==12.1.105 in /home/kevin/.pyenv/versions/3.8.10/lib/python3.8/site-packages (from torch->torchnet) (12.1.105)\n",
      "Requirement already satisfied: nvidia-nvjitlink-cu12 in /home/kevin/.pyenv/versions/3.8.10/lib/python3.8/site-packages (from nvidia-cusolver-cu12==11.4.5.107->torch->torchnet) (12.8.93)\n",
      "Requirement already satisfied: mpmath<1.4,>=1.1.0 in /home/kevin/.pyenv/versions/3.8.10/lib/python3.8/site-packages (from sympy->torch->torchnet) (1.3.0)\n",
      "Requirement already satisfied: scipy in /home/kevin/.pyenv/versions/3.8.10/lib/python3.8/site-packages (from visdom->torchnet) (1.10.1)\n",
      "Requirement already satisfied: tornado in /home/kevin/.pyenv/versions/3.8.10/lib/python3.8/site-packages (from visdom->torchnet) (6.4.2)\n",
      "Requirement already satisfied: websocket-client in /home/kevin/.pyenv/versions/3.8.10/lib/python3.8/site-packages (from visdom->torchnet) (1.8.0)\n",
      "Requirement already satisfied: jsonpatch in /home/kevin/.pyenv/versions/3.8.10/lib/python3.8/site-packages (from visdom->torchnet) (1.33)\n",
      "Requirement already satisfied: jsonpointer>=1.9 in /home/kevin/.pyenv/versions/3.8.10/lib/python3.8/site-packages (from jsonpatch->visdom->torchnet) (3.0.0)\n",
      "\u001b[33mWARNING: You are using pip version 21.1.1; however, version 25.0.1 is available.\n",
      "You should consider upgrading via the '/home/kevin/.pyenv/versions/3.8.10/bin/python3.8 -m pip install --upgrade pip' command.\u001b[0m\n"
     ]
    }
   ],
   "source": [
    "!pip install matplotlib numpy tensorboard standard-imghdr torchnet"
   ]
  },
  {
   "cell_type": "code",
   "execution_count": 1,
   "id": "c0534afa",
   "metadata": {},
   "outputs": [],
   "source": [
    "# imports\n",
    "import matplotlib.pyplot as plt\n",
    "import numpy as np\n",
    "\n",
    "import torch\n",
    "import torchvision\n",
    "import torchvision.transforms as transforms\n",
    "\n",
    "import torch.nn as nn\n",
    "import torch.nn.functional as F\n",
    "import torch.optim as optim\n",
    "\n",
    "from torch.utils.data.dataset import Dataset\n",
    "from PIL import Image, ImageDraw, ImageFont\n",
    "from ImageToStringNet import ImageToStringNet, classes\n",
    "\n",
    "from sklearn.metrics import accuracy_score"
   ]
  },
  {
   "cell_type": "code",
   "execution_count": 48,
   "id": "2dd7e5a0",
   "metadata": {},
   "outputs": [
    {
     "name": "stdout",
     "output_type": "stream",
     "text": [
      "Classes:  96\n"
     ]
    }
   ],
   "source": [
    "print(\"Classes: \", len(classes))\n",
    "\n",
    "class DigitDataset(Dataset):\n",
    "\tdef __init__(self, imgs_path, txt_path, transform=None):\n",
    "\t\tself.imgs_path = imgs_path\n",
    "\t\tself.images = np.loadtxt(txt_path, dtype=str, delimiter='\\t', comments=[])\n",
    "\t\tself.transform = transform\n",
    "\t\tself.targets = [classes.index(c) for _, c, _, _ in self.images]\n",
    "\t\tself.targets = torch.LongTensor(self.targets)\n",
    "\t\t\n",
    "\t\tself.data = [Image.open(f'{self.imgs_path}/{i}').convert('L') for i, _, _, _ in self.images]\n",
    "\t\tself.data = [self.transform(i) for i in self.data]\n",
    "\t\tself.data = torch.stack(self.data, dim=0)\n",
    "\n",
    "\tdef __getitem__(self, index):\n",
    "\t\t_, _, t, b = self.images[index]\n",
    "\n",
    "\t\t# Image Tensor, Label, Top Margin (%), Bottom Margin (%)\n",
    "\t\treturn self.data[index], self.targets[index], np.float32(t), np.float32(b)\n",
    "\n",
    "\tdef __len__(self):\n",
    "\t\treturn len(self.images)"
   ]
  },
  {
   "cell_type": "code",
   "execution_count": 49,
   "id": "244fcb1f",
   "metadata": {},
   "outputs": [],
   "source": [
    "# transforms\n",
    "transform = transforms.Compose(\n",
    "\t[transforms.ToTensor(),\n",
    "\ttransforms.Normalize((0.5,), (0.5,))])\n",
    "\n",
    "dataset_dir = \"../dataset/digit_dataset\"\n",
    "trainset = DigitDataset(imgs_path=dataset_dir, txt_path=\"../dataset/digit_dataset/train.txt\", transform=transforms.ToTensor())\n",
    "testset = DigitDataset(imgs_path=dataset_dir, txt_path=\"../dataset/digit_dataset/test.txt\", transform=transforms.ToTensor())\n",
    "\n",
    "# dataloaders\n",
    "batch_size = 256\n",
    "trainloader = torch.utils.data.DataLoader(trainset, batch_size=batch_size,\n",
    "\t\t\t\t\t\t\t\t\t\tshuffle=True, num_workers=2)\n",
    "\n",
    "\n",
    "testloader = torch.utils.data.DataLoader(testset, batch_size=batch_size,\n",
    "\t\t\t\t\t\t\t\t\t\tshuffle=False, num_workers=2)\n",
    "\n",
    "# helper function to show an image\n",
    "# (used in the `plot_classes_preds` function below)\n",
    "def matplotlib_imshow(img, one_channel=False):\n",
    "\tif one_channel:\n",
    "\t\timg = img.mean(dim=0)\n",
    "\timg = img / 2 + 0.5     # unnormalize\n",
    "\tnpimg = img.numpy()\n",
    "\tif one_channel:\n",
    "\t\tplt.imshow(npimg, cmap=\"Greys\")\n",
    "\telse:\n",
    "\t\tplt.imshow(np.transpose(npimg, (1, 2, 0)))"
   ]
  },
  {
   "cell_type": "code",
   "execution_count": 50,
   "id": "d35060c5",
   "metadata": {},
   "outputs": [],
   "source": [
    "net = ImageToStringNet()"
   ]
  },
  {
   "cell_type": "code",
   "execution_count": 52,
   "id": "75b1ba0e",
   "metadata": {},
   "outputs": [],
   "source": [
    "criterion = nn.CrossEntropyLoss()\n",
    "optimizer = optim.SGD(net.parameters(), lr=0.001, momentum=0.9)"
   ]
  },
  {
   "cell_type": "code",
   "execution_count": 65,
   "id": "e73c98ef",
   "metadata": {},
   "outputs": [],
   "source": [
    "from torch.utils.tensorboard import SummaryWriter\n",
    "\n",
    "# default `log_dir` is \"runs\" - we'll be more specific here\n",
    "writer = SummaryWriter('runs/exp1')"
   ]
  },
  {
   "cell_type": "code",
   "execution_count": 55,
   "id": "a8988577",
   "metadata": {},
   "outputs": [
    {
     "data": {
      "text/plain": [
       "torch.Size([256, 1, 28, 28])"
      ]
     },
     "execution_count": 55,
     "metadata": {},
     "output_type": "execute_result"
    }
   ],
   "source": [
    "dataiter = iter(trainloader)\n",
    "next(dataiter)[0].shape"
   ]
  },
  {
   "cell_type": "code",
   "execution_count": 66,
   "id": "0402b84a",
   "metadata": {},
   "outputs": [
    {
     "data": {
      "image/png": "[encoded data removed]",
      "text/plain": [
       "<Figure size 640x480 with 1 Axes>"
      ]
     },
     "metadata": {},
     "output_type": "display_data"
    }
   ],
   "source": [
    "# get some random training images\n",
    "dataiter = iter(trainloader)\n",
    "images, labels, t, b = next(dataiter)\n",
    "\n",
    "# create grid of images\n",
    "img_grid = torchvision.utils.make_grid(images)\n",
    "\n",
    "# show images\n",
    "matplotlib_imshow(img_grid, one_channel=True)\n",
    "\n",
    "# write to tensorboard\n",
    "writer.add_image('four_img-to-str_images', img_grid)"
   ]
  },
  {
   "cell_type": "markdown",
   "id": "f61a3f94",
   "metadata": {
    "vscode": {
     "languageId": "bat"
    }
   },
   "source": [
    "tensorboard --logdir=runs"
   ]
  },
  {
   "cell_type": "code",
   "execution_count": 67,
   "id": "e677528f",
   "metadata": {},
   "outputs": [],
   "source": [
    "writer.add_graph(net, (images, t, b))\n",
    "writer.close()"
   ]
  },
  {
   "cell_type": "code",
   "execution_count": 68,
   "id": "cf20f8d3",
   "metadata": {},
   "outputs": [
    {
     "name": "stdout",
     "output_type": "stream",
     "text": [
      "Images shape:  torch.Size([100, 1, 28, 28])\n",
      "Labels shape:  torch.Size([100])\n"
     ]
    }
   ],
   "source": [
    "# helper function\n",
    "def select_n_random(data, labels, n=100):\n",
    "\t'''\n",
    "\tSelects n random datapoints and their corresponding labels from a dataset\n",
    "\t'''\n",
    "\tassert len(data) == len(labels)\n",
    "\n",
    "\tperm = torch.randperm(len(data))\n",
    "\treturn data[perm][:n], labels[perm][:n]\n",
    "\n",
    "# select random images and their target indices\n",
    "images, labels = select_n_random(trainset.data, trainset.targets)\n",
    "print(\"Images shape: \", images.shape)\n",
    "print(\"Labels shape: \", labels.shape)\n",
    "\n",
    "# get the class labels for each image\n",
    "class_labels = [classes[lab] for lab in labels]\n",
    "\n",
    "# log embeddings\n",
    "features = images.view(-1, 28 * 28)\n",
    "writer.add_embedding(features,\n",
    "\t\t\t\t\tmetadata=class_labels,\n",
    "\t\t\t\t\tlabel_img=images)\n",
    "writer.close()"
   ]
  },
  {
   "cell_type": "code",
   "execution_count": 69,
   "id": "521483c9",
   "metadata": {},
   "outputs": [],
   "source": [
    "# helper functions\n",
    "\n",
    "def images_to_probs(net, images, top_margin, bottom_margin):\n",
    "\t'''\n",
    "\tGenerates predictions and corresponding probabilities from a trained\n",
    "\tnetwork and a list of images\n",
    "\t'''\n",
    "\toutput = net(images, top_margin, bottom_margin)\n",
    "\t# convert output probabilities to predicted class\n",
    "\n",
    "\toutput = output.cpu()\n",
    "\n",
    "\t_, preds_tensor = torch.max(output, 1)\n",
    "\tpreds = np.squeeze(preds_tensor.numpy())\n",
    "\treturn preds, [F.softmax(el, dim=0)[i].item() for i, el in zip(preds, output)]\n",
    "\n",
    "\n",
    "def plot_classes_preds(net, images, labels, top_margin, bottom_margin):\n",
    "\t'''\n",
    "\tGenerates matplotlib Figure using a trained network, along with images\n",
    "\tand labels from a batch, that shows the network's top prediction along\n",
    "\twith its probability, alongside the actual label, coloring this\n",
    "\tinformation based on whether the prediction was correct or not.\n",
    "\tUses the \"images_to_probs\" function.\n",
    "\t'''\n",
    "\tpreds, probs = images_to_probs(net, images, top_margin, bottom_margin)\n",
    "\t# plot the images in the batch, along with predicted and true labels\n",
    "\n",
    "\timages = images.cpu()\n",
    "\n",
    "\tfig = plt.figure(figsize=(12, 48))\n",
    "\tfor idx in np.arange(4):\n",
    "\t\tax = fig.add_subplot(1, 4, idx+1, xticks=[], yticks=[])\n",
    "\t\tmatplotlib_imshow(images[idx], one_channel=True)\n",
    "\t\tax.set_title(\"{0}, {1:.1f}%\\n(label: {2})\".format(\n",
    "\t\t\tclasses[preds[idx]],\n",
    "\t\t\tprobs[idx] * 100.0,\n",
    "\t\t\tclasses[labels[idx]]),\n",
    "\t\t\t\t\tcolor=(\"green\" if preds[idx]==labels[idx].item() else \"red\"))\n",
    "\treturn fig"
   ]
  },
  {
   "cell_type": "code",
   "execution_count": 70,
   "id": "498e76f6",
   "metadata": {},
   "outputs": [],
   "source": [
    "if torch.xpu.is_available():\n",
    "\tnet = net.xpu()"
   ]
  },
  {
   "cell_type": "code",
   "execution_count": 71,
   "id": "f089486f",
   "metadata": {},
   "outputs": [],
   "source": [
    "class AverageValueMeter():\n",
    "\tdef __init__(self):\n",
    "\t\tself.reset()\n",
    "\t\n",
    "\tdef reset(self):\n",
    "\t\tself.sum = 0\n",
    "\t\tself.num = 0\n",
    "\t\n",
    "\tdef add(self, value, num):\n",
    "\t\tself.sum += value * num\n",
    "\t\tself.num += num\n",
    "\t\n",
    "\tdef value(self):\n",
    "\t\ttry:\n",
    "\t\t\treturn self.sum / self.num\n",
    "\t\texcept:\n",
    "\t\t\treturn None"
   ]
  },
  {
   "cell_type": "code",
   "execution_count": 72,
   "id": "13499442",
   "metadata": {},
   "outputs": [
    {
     "name": "stdout",
     "output_type": "stream",
     "text": [
      "Epoch 1\n",
      "\tLoss: 0.8035\n",
      "\tAccuracy: 0.8246\n",
      "Epoch 2\n",
      "\tLoss: 0.8552\n",
      "\tAccuracy: 0.8183\n",
      "Epoch 3\n",
      "\tLoss: 0.8851\n",
      "\tAccuracy: 0.8245\n",
      "Epoch 4\n",
      "\tLoss: 0.8427\n",
      "\tAccuracy: 0.8292\n",
      "Epoch 5\n",
      "\tLoss: 0.8772\n",
      "\tAccuracy: 0.8308\n",
      "Epoch 6\n",
      "\tLoss: 0.8760\n",
      "\tAccuracy: 0.8218\n",
      "Epoch 7\n",
      "\tLoss: 0.8818\n",
      "\tAccuracy: 0.8287\n",
      "Epoch 8\n"
     ]
    },
    {
     "ename": "KeyboardInterrupt",
     "evalue": "",
     "output_type": "error",
     "traceback": [
      "\u001b[0;31m---------------------------------------------------------------------------\u001b[0m",
      "\u001b[0;31mKeyboardInterrupt\u001b[0m                         Traceback (most recent call last)",
      "Cell \u001b[0;32mIn[72], line 25\u001b[0m\n\u001b[1;32m     22\u001b[0m loss \u001b[38;5;241m=\u001b[39m criterion(outputs, labels)\n\u001b[1;32m     24\u001b[0m \u001b[38;5;28;01mif\u001b[39;00m mode \u001b[38;5;241m==\u001b[39m \u001b[38;5;124m\"\u001b[39m\u001b[38;5;124mtrain\u001b[39m\u001b[38;5;124m\"\u001b[39m:\n\u001b[0;32m---> 25\u001b[0m \t\u001b[43mloss\u001b[49m\u001b[38;5;241;43m.\u001b[39;49m\u001b[43mbackward\u001b[49m\u001b[43m(\u001b[49m\u001b[43m)\u001b[49m\n\u001b[1;32m     26\u001b[0m \toptimizer\u001b[38;5;241m.\u001b[39mstep()\n\u001b[1;32m     27\u001b[0m \toptimizer\u001b[38;5;241m.\u001b[39mzero_grad()\n",
      "File \u001b[0;32m~/.pyenv/versions/3.8.10/lib/python3.8/site-packages/torch/_tensor.py:521\u001b[0m, in \u001b[0;36mTensor.backward\u001b[0;34m(self, gradient, retain_graph, create_graph, inputs)\u001b[0m\n\u001b[1;32m    511\u001b[0m \u001b[38;5;28;01mif\u001b[39;00m has_torch_function_unary(\u001b[38;5;28mself\u001b[39m):\n\u001b[1;32m    512\u001b[0m     \u001b[38;5;28;01mreturn\u001b[39;00m handle_torch_function(\n\u001b[1;32m    513\u001b[0m         Tensor\u001b[38;5;241m.\u001b[39mbackward,\n\u001b[1;32m    514\u001b[0m         (\u001b[38;5;28mself\u001b[39m,),\n\u001b[0;32m   (...)\u001b[0m\n\u001b[1;32m    519\u001b[0m         inputs\u001b[38;5;241m=\u001b[39minputs,\n\u001b[1;32m    520\u001b[0m     )\n\u001b[0;32m--> 521\u001b[0m \u001b[43mtorch\u001b[49m\u001b[38;5;241;43m.\u001b[39;49m\u001b[43mautograd\u001b[49m\u001b[38;5;241;43m.\u001b[39;49m\u001b[43mbackward\u001b[49m\u001b[43m(\u001b[49m\n\u001b[1;32m    522\u001b[0m \u001b[43m    \u001b[49m\u001b[38;5;28;43mself\u001b[39;49m\u001b[43m,\u001b[49m\u001b[43m \u001b[49m\u001b[43mgradient\u001b[49m\u001b[43m,\u001b[49m\u001b[43m \u001b[49m\u001b[43mretain_graph\u001b[49m\u001b[43m,\u001b[49m\u001b[43m \u001b[49m\u001b[43mcreate_graph\u001b[49m\u001b[43m,\u001b[49m\u001b[43m \u001b[49m\u001b[43minputs\u001b[49m\u001b[38;5;241;43m=\u001b[39;49m\u001b[43minputs\u001b[49m\n\u001b[1;32m    523\u001b[0m \u001b[43m\u001b[49m\u001b[43m)\u001b[49m\n",
      "File \u001b[0;32m~/.pyenv/versions/3.8.10/lib/python3.8/site-packages/torch/autograd/__init__.py:289\u001b[0m, in \u001b[0;36mbackward\u001b[0;34m(tensors, grad_tensors, retain_graph, create_graph, grad_variables, inputs)\u001b[0m\n\u001b[1;32m    284\u001b[0m     retain_graph \u001b[38;5;241m=\u001b[39m create_graph\n\u001b[1;32m    286\u001b[0m \u001b[38;5;66;03m# The reason we repeat the same comment below is that\u001b[39;00m\n\u001b[1;32m    287\u001b[0m \u001b[38;5;66;03m# some Python versions print out the first line of a multi-line function\u001b[39;00m\n\u001b[1;32m    288\u001b[0m \u001b[38;5;66;03m# calls in the traceback and some print out the last line\u001b[39;00m\n\u001b[0;32m--> 289\u001b[0m \u001b[43m_engine_run_backward\u001b[49m\u001b[43m(\u001b[49m\n\u001b[1;32m    290\u001b[0m \u001b[43m    \u001b[49m\u001b[43mtensors\u001b[49m\u001b[43m,\u001b[49m\n\u001b[1;32m    291\u001b[0m \u001b[43m    \u001b[49m\u001b[43mgrad_tensors_\u001b[49m\u001b[43m,\u001b[49m\n\u001b[1;32m    292\u001b[0m \u001b[43m    \u001b[49m\u001b[43mretain_graph\u001b[49m\u001b[43m,\u001b[49m\n\u001b[1;32m    293\u001b[0m \u001b[43m    \u001b[49m\u001b[43mcreate_graph\u001b[49m\u001b[43m,\u001b[49m\n\u001b[1;32m    294\u001b[0m \u001b[43m    \u001b[49m\u001b[43minputs\u001b[49m\u001b[43m,\u001b[49m\n\u001b[1;32m    295\u001b[0m \u001b[43m    \u001b[49m\u001b[43mallow_unreachable\u001b[49m\u001b[38;5;241;43m=\u001b[39;49m\u001b[38;5;28;43;01mTrue\u001b[39;49;00m\u001b[43m,\u001b[49m\n\u001b[1;32m    296\u001b[0m \u001b[43m    \u001b[49m\u001b[43maccumulate_grad\u001b[49m\u001b[38;5;241;43m=\u001b[39;49m\u001b[38;5;28;43;01mTrue\u001b[39;49;00m\u001b[43m,\u001b[49m\n\u001b[1;32m    297\u001b[0m \u001b[43m\u001b[49m\u001b[43m)\u001b[49m\n",
      "File \u001b[0;32m~/.pyenv/versions/3.8.10/lib/python3.8/site-packages/torch/autograd/graph.py:769\u001b[0m, in \u001b[0;36m_engine_run_backward\u001b[0;34m(t_outputs, *args, **kwargs)\u001b[0m\n\u001b[1;32m    767\u001b[0m     unregister_hooks \u001b[38;5;241m=\u001b[39m _register_logging_hooks_on_whole_graph(t_outputs)\n\u001b[1;32m    768\u001b[0m \u001b[38;5;28;01mtry\u001b[39;00m:\n\u001b[0;32m--> 769\u001b[0m     \u001b[38;5;28;01mreturn\u001b[39;00m \u001b[43mVariable\u001b[49m\u001b[38;5;241;43m.\u001b[39;49m\u001b[43m_execution_engine\u001b[49m\u001b[38;5;241;43m.\u001b[39;49m\u001b[43mrun_backward\u001b[49m\u001b[43m(\u001b[49m\u001b[43m  \u001b[49m\u001b[38;5;66;43;03m# Calls into the C++ engine to run the backward pass\u001b[39;49;00m\n\u001b[1;32m    770\u001b[0m \u001b[43m        \u001b[49m\u001b[43mt_outputs\u001b[49m\u001b[43m,\u001b[49m\u001b[43m \u001b[49m\u001b[38;5;241;43m*\u001b[39;49m\u001b[43margs\u001b[49m\u001b[43m,\u001b[49m\u001b[43m \u001b[49m\u001b[38;5;241;43m*\u001b[39;49m\u001b[38;5;241;43m*\u001b[39;49m\u001b[43mkwargs\u001b[49m\n\u001b[1;32m    771\u001b[0m \u001b[43m    \u001b[49m\u001b[43m)\u001b[49m  \u001b[38;5;66;03m# Calls into the C++ engine to run the backward pass\u001b[39;00m\n\u001b[1;32m    772\u001b[0m \u001b[38;5;28;01mfinally\u001b[39;00m:\n\u001b[1;32m    773\u001b[0m     \u001b[38;5;28;01mif\u001b[39;00m attach_logging_hooks:\n",
      "\u001b[0;31mKeyboardInterrupt\u001b[0m: "
     ]
    }
   ],
   "source": [
    "loss_meter = AverageValueMeter()\n",
    "accuracy_meter = AverageValueMeter()\n",
    "\n",
    "global_step = 0\n",
    "for epoch in range(50):  # loop over the dataset multiple times\n",
    "\tprint(f'Epoch {epoch + 1}')\n",
    "\tfor mode in [\"train\", \"test\"]:\n",
    "\t\tloss_meter.reset()\n",
    "\t\taccuracy_meter.reset()\n",
    "\t\tfor i, data in enumerate(trainloader if mode == \"train\" else testloader, 0):\n",
    "\t\t\tglobal_step += batch_size\n",
    "\t\t\twith torch.set_grad_enabled(mode == \"train\"):\n",
    "\t\t\t\t# get the inputs; data is a list of [inputs, labels]\n",
    "\n",
    "\t\t\t\tinputs, labels, t, b = data\n",
    "\t\t\t\tif torch.xpu.is_available():\n",
    "\t\t\t\t\tinputs, labels, t, b = inputs.xpu(), labels.xpu(), t.xpu(), b.xpu()\n",
    "\n",
    "\n",
    "\t\t\t\t# forward + backward + optimize\n",
    "\t\t\t\toutputs = net(inputs, t, b)\n",
    "\t\t\t\tloss = criterion(outputs, labels)\n",
    "\n",
    "\t\t\t\tif mode == \"train\":\n",
    "\t\t\t\t\tloss.backward()\n",
    "\t\t\t\t\toptimizer.step()\n",
    "\t\t\t\t\toptimizer.zero_grad()\n",
    "\n",
    "\t\t\t\tloss_meter.add(loss.item(), inputs.size(0))\n",
    "\t\t\t\taccuracy_meter.add(accuracy_score(labels.cpu(), outputs.cpu().max(1)[1]), inputs.size(0))\n",
    "\n",
    "\t\t\t\tif i % 10 == 9:\n",
    "\t\t\t\t\twriter.add_scalar(f'loss/{mode}',\n",
    "\t\t\t\t\t\t\t\t\tloss_meter.value(),\n",
    "\t\t\t\t\t\t\t\t\tglobal_step)\n",
    "\t\t\t\t\twriter.add_scalar(f'accuracy/{mode}',\n",
    "\t\t\t\t\t\t\t\t\taccuracy_meter.value(),\n",
    "\t\t\t\t\t\t\t\t\tglobal_step)\n",
    "\n",
    "\t\t\t\t# ...log a Matplotlib Figure showing the model's predictions on a\n",
    "\t\t\t\t# random mini-batch\n",
    "\tif mode == \"test\":\n",
    "\t\twriter.add_figure('predictions vs. actuals',\n",
    "\t\t\t\t\t\tplot_classes_preds(net, inputs, labels, t, b),\n",
    "\t\t\t\t\t\tglobal_step)\n",
    "\tprint(f'\\tLoss: {loss_meter.value():.4f}\\n\\tAccuracy: {accuracy_meter.value():.4f}')\n",
    "\n",
    "print('Finished Training')"
   ]
  },
  {
   "cell_type": "code",
   "execution_count": 26,
   "id": "e0a2e801",
   "metadata": {},
   "outputs": [],
   "source": [
    "# 1. gets the probability predictions in a test_size x num_classes Tensor\n",
    "# 2. gets the preds in a test_size Tensor\n",
    "# takes ~10 seconds to run\n",
    "class_probs = []\n",
    "class_label = []\n",
    "with torch.no_grad():\n",
    "\tfor data in testloader:\n",
    "\t\timages, labels, t, b = data\n",
    "\n",
    "\t\tif torch.xpu.is_available():\n",
    "\t\t\timages, t, b = images.xpu(), t.xpu(), b.xpu()\n",
    "\n",
    "\t\toutput = net(images, t, b)\n",
    "\n",
    "\t\toutput = output.cpu()\n",
    "\n",
    "\t\tclass_probs_batch = [F.softmax(el, dim=0) for el in output]\n",
    "\n",
    "\t\tclass_probs.append(class_probs_batch)\n",
    "\t\tclass_label.append(labels)\n",
    "\n",
    "test_probs = torch.cat([torch.stack(batch) for batch in class_probs])\n",
    "test_label = torch.cat(class_label)\n",
    "\n",
    "# helper function\n",
    "def add_pr_curve_tensorboard(class_index, test_probs, test_label, global_step=0):\n",
    "\t'''\n",
    "\tTakes in a \"class_index\" from 0 to 9 and plots the corresponding\n",
    "\tprecision-recall curve\n",
    "\t'''\n",
    "\ttensorboard_truth = test_label == class_index\n",
    "\ttensorboard_probs = test_probs[:, class_index]\n",
    "\n",
    "\twriter.add_pr_curve(classes[class_index],\n",
    "\t\t\t\t\t\ttensorboard_truth,\n",
    "\t\t\t\t\t\ttensorboard_probs,\n",
    "\t\t\t\t\t\tglobal_step=global_step)\n",
    "\twriter.close()\n",
    "\n",
    "# plot all the pr curves\n",
    "for i in range(len(classes)):\n",
    "\tadd_pr_curve_tensorboard(i, test_probs, test_label)"
   ]
  },
  {
   "cell_type": "code",
   "execution_count": 63,
   "id": "2acf64fc",
   "metadata": {},
   "outputs": [],
   "source": [
    "torch.save(net.state_dict(), 'model_weights.pth')"
   ]
  },
  {
   "cell_type": "markdown",
   "id": "657439bc",
   "metadata": {},
   "source": [
    "# ---"
   ]
  },
  {
   "cell_type": "code",
   "execution_count": 32,
   "id": "f5ad3d0f",
   "metadata": {},
   "outputs": [
    {
     "name": "stdout",
     "output_type": "stream",
     "text": [
      "Using Intel GPU (XPU)\n"
     ]
    }
   ],
   "source": [
    "import torch\n",
    "\n",
    "if torch.xpu.is_available():\n",
    "\tprint(\"Using Intel GPU (XPU)\")\n",
    "else:\n",
    "\tprint(\"No supported GPU backend detected\")"
   ]
  },
  {
   "cell_type": "code",
   "execution_count": 33,
   "id": "fb8dc617",
   "metadata": {},
   "outputs": [],
   "source": [
    "import torch.nn as nn\n",
    "import torch.nn.functional as F\n",
    "\n",
    "conv1 = nn.Conv2d(1, 6, 5)\n",
    "pool = nn.MaxPool2d(2, 2)\n",
    "conv2 = nn.Conv2d(6, 16, 5)\n",
    "fc1 = nn.Linear(16 * 4 * 4, 120)\n",
    "fc2 = nn.Linear(120, 84)\n",
    "fc3 = nn.Linear(84, 10)"
   ]
  },
  {
   "cell_type": "code",
   "execution_count": 34,
   "id": "621042a3",
   "metadata": {},
   "outputs": [
    {
     "data": {
      "text/plain": [
       "<__main__.DigitDataset at 0x7f7504933620>"
      ]
     },
     "execution_count": 34,
     "metadata": {},
     "output_type": "execute_result"
    }
   ],
   "source": [
    "trainloader.dataset"
   ]
  },
  {
   "cell_type": "code",
   "execution_count": 35,
   "id": "fc3bcb87",
   "metadata": {},
   "outputs": [
    {
     "name": "stdout",
     "output_type": "stream",
     "text": [
      "conv1: torch.Size([6, 24, 24])\n",
      "F.relu: torch.Size([6, 24, 24])\n",
      "pool: torch.Size([6, 12, 12])\n",
      "conv2: torch.Size([16, 8, 8])\n",
      "F.relu: torch.Size([16, 8, 8])\n",
      "pool: torch.Size([16, 4, 4])\n"
     ]
    },
    {
     "data": {
      "text/plain": [
       "torch.Size([1, 256])"
      ]
     },
     "execution_count": 35,
     "metadata": {},
     "output_type": "execute_result"
    }
   ],
   "source": [
    "img = torch.rand(1,28,28)\n",
    "x = conv1(img)\n",
    "print(\"conv1:\",x.shape)\n",
    "\n",
    "x = F.relu(x)\n",
    "print(\"F.relu:\",x.shape)\n",
    "\n",
    "x = pool(x)\n",
    "print(\"pool:\",x.shape)\n",
    "\n",
    "x = conv2(x)\n",
    "print(\"conv2:\",x.shape)\n",
    "\n",
    "x = F.relu(x)\n",
    "print(\"F.relu:\",x.shape)\n",
    "\n",
    "x = pool(x)\n",
    "print(\"pool:\",x.shape)\n",
    "\n",
    "x.view(-1, 16 * 4 * 4).shape"
   ]
  }
 ],
 "metadata": {
  "kernelspec": {
   "display_name": "Python 3",
   "language": "python",
   "name": "python3"
  },
  "language_info": {
   "codemirror_mode": {
    "name": "ipython",
    "version": 3
   },
   "file_extension": ".py",
   "mimetype": "text/x-python",
   "name": "python",
   "nbconvert_exporter": "python",
   "pygments_lexer": "ipython3",
   "version": "3.8.10"
  }
 },
 "nbformat": 4,
 "nbformat_minor": 5
}
