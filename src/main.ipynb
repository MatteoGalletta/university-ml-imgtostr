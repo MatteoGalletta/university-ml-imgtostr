{
 "cells": [
  {
   "cell_type": "code",
   "execution_count": 9,
   "id": "a38a1b97",
   "metadata": {},
   "outputs": [
    {
     "name": "stdout",
     "output_type": "stream",
     "text": [
      "Requirement already satisfied: torchvision in /home/kevin/Documents/uni/3anno/2_semestre/MACHINE LEARNING/project/university-ml-imgtostr/.venv/lib/python3.8/site-packages (0.19.1)\n",
      "Requirement already satisfied: matplotlib in /home/kevin/Documents/uni/3anno/2_semestre/MACHINE LEARNING/project/university-ml-imgtostr/.venv/lib/python3.8/site-packages (3.7.5)\n",
      "Requirement already satisfied: numpy in /home/kevin/Documents/uni/3anno/2_semestre/MACHINE LEARNING/project/university-ml-imgtostr/.venv/lib/python3.8/site-packages (1.24.4)\n",
      "Requirement already satisfied: tensorboard in /home/kevin/Documents/uni/3anno/2_semestre/MACHINE LEARNING/project/university-ml-imgtostr/.venv/lib/python3.8/site-packages (2.14.0)\n",
      "Requirement already satisfied: standard-imghdr in /home/kevin/Documents/uni/3anno/2_semestre/MACHINE LEARNING/project/university-ml-imgtostr/.venv/lib/python3.8/site-packages (3.13.0)\n",
      "Requirement already satisfied: torchnet in /home/kevin/Documents/uni/3anno/2_semestre/MACHINE LEARNING/project/university-ml-imgtostr/.venv/lib/python3.8/site-packages (0.0.4)\n",
      "Collecting scikit-learn\n",
      "  Downloading scikit_learn-1.3.2-cp38-cp38-manylinux_2_17_x86_64.manylinux2014_x86_64.whl.metadata (11 kB)\n",
      "Requirement already satisfied: torch==2.4.1 in /home/kevin/Documents/uni/3anno/2_semestre/MACHINE LEARNING/project/university-ml-imgtostr/.venv/lib/python3.8/site-packages (from torchvision) (2.4.1)\n",
      "Requirement already satisfied: pillow!=8.3.*,>=5.3.0 in /home/kevin/Documents/uni/3anno/2_semestre/MACHINE LEARNING/project/university-ml-imgtostr/.venv/lib/python3.8/site-packages (from torchvision) (10.4.0)\n",
      "Requirement already satisfied: filelock in /home/kevin/Documents/uni/3anno/2_semestre/MACHINE LEARNING/project/university-ml-imgtostr/.venv/lib/python3.8/site-packages (from torch==2.4.1->torchvision) (3.16.1)\n",
      "Requirement already satisfied: typing-extensions>=4.8.0 in /home/kevin/Documents/uni/3anno/2_semestre/MACHINE LEARNING/project/university-ml-imgtostr/.venv/lib/python3.8/site-packages (from torch==2.4.1->torchvision) (4.13.2)\n",
      "Requirement already satisfied: sympy in /home/kevin/Documents/uni/3anno/2_semestre/MACHINE LEARNING/project/university-ml-imgtostr/.venv/lib/python3.8/site-packages (from torch==2.4.1->torchvision) (1.13.3)\n",
      "Requirement already satisfied: networkx in /home/kevin/Documents/uni/3anno/2_semestre/MACHINE LEARNING/project/university-ml-imgtostr/.venv/lib/python3.8/site-packages (from torch==2.4.1->torchvision) (3.1)\n",
      "Requirement already satisfied: jinja2 in /home/kevin/Documents/uni/3anno/2_semestre/MACHINE LEARNING/project/university-ml-imgtostr/.venv/lib/python3.8/site-packages (from torch==2.4.1->torchvision) (3.1.6)\n",
      "Requirement already satisfied: fsspec in /home/kevin/Documents/uni/3anno/2_semestre/MACHINE LEARNING/project/university-ml-imgtostr/.venv/lib/python3.8/site-packages (from torch==2.4.1->torchvision) (2025.3.0)\n",
      "Requirement already satisfied: nvidia-cuda-nvrtc-cu12==12.1.105 in /home/kevin/Documents/uni/3anno/2_semestre/MACHINE LEARNING/project/university-ml-imgtostr/.venv/lib/python3.8/site-packages (from torch==2.4.1->torchvision) (12.1.105)\n",
      "Requirement already satisfied: nvidia-cuda-runtime-cu12==12.1.105 in /home/kevin/Documents/uni/3anno/2_semestre/MACHINE LEARNING/project/university-ml-imgtostr/.venv/lib/python3.8/site-packages (from torch==2.4.1->torchvision) (12.1.105)\n",
      "Requirement already satisfied: nvidia-cuda-cupti-cu12==12.1.105 in /home/kevin/Documents/uni/3anno/2_semestre/MACHINE LEARNING/project/university-ml-imgtostr/.venv/lib/python3.8/site-packages (from torch==2.4.1->torchvision) (12.1.105)\n",
      "Requirement already satisfied: nvidia-cudnn-cu12==9.1.0.70 in /home/kevin/Documents/uni/3anno/2_semestre/MACHINE LEARNING/project/university-ml-imgtostr/.venv/lib/python3.8/site-packages (from torch==2.4.1->torchvision) (9.1.0.70)\n",
      "Requirement already satisfied: nvidia-cublas-cu12==12.1.3.1 in /home/kevin/Documents/uni/3anno/2_semestre/MACHINE LEARNING/project/university-ml-imgtostr/.venv/lib/python3.8/site-packages (from torch==2.4.1->torchvision) (12.1.3.1)\n",
      "Requirement already satisfied: nvidia-cufft-cu12==11.0.2.54 in /home/kevin/Documents/uni/3anno/2_semestre/MACHINE LEARNING/project/university-ml-imgtostr/.venv/lib/python3.8/site-packages (from torch==2.4.1->torchvision) (11.0.2.54)\n",
      "Requirement already satisfied: nvidia-curand-cu12==10.3.2.106 in /home/kevin/Documents/uni/3anno/2_semestre/MACHINE LEARNING/project/university-ml-imgtostr/.venv/lib/python3.8/site-packages (from torch==2.4.1->torchvision) (10.3.2.106)\n",
      "Requirement already satisfied: nvidia-cusolver-cu12==11.4.5.107 in /home/kevin/Documents/uni/3anno/2_semestre/MACHINE LEARNING/project/university-ml-imgtostr/.venv/lib/python3.8/site-packages (from torch==2.4.1->torchvision) (11.4.5.107)\n",
      "Requirement already satisfied: nvidia-cusparse-cu12==12.1.0.106 in /home/kevin/Documents/uni/3anno/2_semestre/MACHINE LEARNING/project/university-ml-imgtostr/.venv/lib/python3.8/site-packages (from torch==2.4.1->torchvision) (12.1.0.106)\n",
      "Requirement already satisfied: nvidia-nccl-cu12==2.20.5 in /home/kevin/Documents/uni/3anno/2_semestre/MACHINE LEARNING/project/university-ml-imgtostr/.venv/lib/python3.8/site-packages (from torch==2.4.1->torchvision) (2.20.5)\n",
      "Requirement already satisfied: nvidia-nvtx-cu12==12.1.105 in /home/kevin/Documents/uni/3anno/2_semestre/MACHINE LEARNING/project/university-ml-imgtostr/.venv/lib/python3.8/site-packages (from torch==2.4.1->torchvision) (12.1.105)\n",
      "Requirement already satisfied: triton==3.0.0 in /home/kevin/Documents/uni/3anno/2_semestre/MACHINE LEARNING/project/university-ml-imgtostr/.venv/lib/python3.8/site-packages (from torch==2.4.1->torchvision) (3.0.0)\n",
      "Requirement already satisfied: nvidia-nvjitlink-cu12 in /home/kevin/Documents/uni/3anno/2_semestre/MACHINE LEARNING/project/university-ml-imgtostr/.venv/lib/python3.8/site-packages (from nvidia-cusolver-cu12==11.4.5.107->torch==2.4.1->torchvision) (12.9.41)\n",
      "Requirement already satisfied: contourpy>=1.0.1 in /home/kevin/Documents/uni/3anno/2_semestre/MACHINE LEARNING/project/university-ml-imgtostr/.venv/lib/python3.8/site-packages (from matplotlib) (1.1.1)\n",
      "Requirement already satisfied: cycler>=0.10 in /home/kevin/Documents/uni/3anno/2_semestre/MACHINE LEARNING/project/university-ml-imgtostr/.venv/lib/python3.8/site-packages (from matplotlib) (0.12.1)\n",
      "Requirement already satisfied: fonttools>=4.22.0 in /home/kevin/Documents/uni/3anno/2_semestre/MACHINE LEARNING/project/university-ml-imgtostr/.venv/lib/python3.8/site-packages (from matplotlib) (4.57.0)\n",
      "Requirement already satisfied: kiwisolver>=1.0.1 in /home/kevin/Documents/uni/3anno/2_semestre/MACHINE LEARNING/project/university-ml-imgtostr/.venv/lib/python3.8/site-packages (from matplotlib) (1.4.7)\n",
      "Requirement already satisfied: packaging>=20.0 in /home/kevin/Documents/uni/3anno/2_semestre/MACHINE LEARNING/project/university-ml-imgtostr/.venv/lib/python3.8/site-packages (from matplotlib) (25.0)\n",
      "Requirement already satisfied: pyparsing>=2.3.1 in /home/kevin/Documents/uni/3anno/2_semestre/MACHINE LEARNING/project/university-ml-imgtostr/.venv/lib/python3.8/site-packages (from matplotlib) (3.1.4)\n",
      "Requirement already satisfied: python-dateutil>=2.7 in /home/kevin/Documents/uni/3anno/2_semestre/MACHINE LEARNING/project/university-ml-imgtostr/.venv/lib/python3.8/site-packages (from matplotlib) (2.9.0.post0)\n",
      "Requirement already satisfied: importlib-resources>=3.2.0 in /home/kevin/Documents/uni/3anno/2_semestre/MACHINE LEARNING/project/university-ml-imgtostr/.venv/lib/python3.8/site-packages (from matplotlib) (6.4.5)\n",
      "Requirement already satisfied: absl-py>=0.4 in /home/kevin/Documents/uni/3anno/2_semestre/MACHINE LEARNING/project/university-ml-imgtostr/.venv/lib/python3.8/site-packages (from tensorboard) (2.3.0)\n",
      "Requirement already satisfied: grpcio>=1.48.2 in /home/kevin/Documents/uni/3anno/2_semestre/MACHINE LEARNING/project/university-ml-imgtostr/.venv/lib/python3.8/site-packages (from tensorboard) (1.70.0)\n",
      "Requirement already satisfied: google-auth<3,>=1.6.3 in /home/kevin/Documents/uni/3anno/2_semestre/MACHINE LEARNING/project/university-ml-imgtostr/.venv/lib/python3.8/site-packages (from tensorboard) (2.40.2)\n",
      "Requirement already satisfied: google-auth-oauthlib<1.1,>=0.5 in /home/kevin/Documents/uni/3anno/2_semestre/MACHINE LEARNING/project/university-ml-imgtostr/.venv/lib/python3.8/site-packages (from tensorboard) (1.0.0)\n",
      "Requirement already satisfied: markdown>=2.6.8 in /home/kevin/Documents/uni/3anno/2_semestre/MACHINE LEARNING/project/university-ml-imgtostr/.venv/lib/python3.8/site-packages (from tensorboard) (3.7)\n",
      "Requirement already satisfied: protobuf>=3.19.6 in /home/kevin/Documents/uni/3anno/2_semestre/MACHINE LEARNING/project/university-ml-imgtostr/.venv/lib/python3.8/site-packages (from tensorboard) (5.29.4)\n",
      "Requirement already satisfied: requests<3,>=2.21.0 in /home/kevin/Documents/uni/3anno/2_semestre/MACHINE LEARNING/project/university-ml-imgtostr/.venv/lib/python3.8/site-packages (from tensorboard) (2.32.3)\n",
      "Requirement already satisfied: setuptools>=41.0.0 in /home/kevin/Documents/uni/3anno/2_semestre/MACHINE LEARNING/project/university-ml-imgtostr/.venv/lib/python3.8/site-packages (from tensorboard) (56.0.0)\n",
      "Requirement already satisfied: tensorboard-data-server<0.8.0,>=0.7.0 in /home/kevin/Documents/uni/3anno/2_semestre/MACHINE LEARNING/project/university-ml-imgtostr/.venv/lib/python3.8/site-packages (from tensorboard) (0.7.2)\n",
      "Requirement already satisfied: werkzeug>=1.0.1 in /home/kevin/Documents/uni/3anno/2_semestre/MACHINE LEARNING/project/university-ml-imgtostr/.venv/lib/python3.8/site-packages (from tensorboard) (3.0.6)\n",
      "Requirement already satisfied: wheel>=0.26 in /home/kevin/Documents/uni/3anno/2_semestre/MACHINE LEARNING/project/university-ml-imgtostr/.venv/lib/python3.8/site-packages (from tensorboard) (0.45.1)\n",
      "Requirement already satisfied: six in /home/kevin/Documents/uni/3anno/2_semestre/MACHINE LEARNING/project/university-ml-imgtostr/.venv/lib/python3.8/site-packages (from torchnet) (1.17.0)\n",
      "Requirement already satisfied: visdom in /home/kevin/Documents/uni/3anno/2_semestre/MACHINE LEARNING/project/university-ml-imgtostr/.venv/lib/python3.8/site-packages (from torchnet) (0.2.4)\n",
      "Requirement already satisfied: scipy>=1.5.0 in /home/kevin/Documents/uni/3anno/2_semestre/MACHINE LEARNING/project/university-ml-imgtostr/.venv/lib/python3.8/site-packages (from scikit-learn) (1.10.1)\n",
      "Collecting joblib>=1.1.1 (from scikit-learn)\n",
      "  Downloading joblib-1.4.2-py3-none-any.whl.metadata (5.4 kB)\n",
      "Collecting threadpoolctl>=2.0.0 (from scikit-learn)\n",
      "  Downloading threadpoolctl-3.5.0-py3-none-any.whl.metadata (13 kB)\n",
      "Requirement already satisfied: cachetools<6.0,>=2.0.0 in /home/kevin/Documents/uni/3anno/2_semestre/MACHINE LEARNING/project/university-ml-imgtostr/.venv/lib/python3.8/site-packages (from google-auth<3,>=1.6.3->tensorboard) (5.5.2)\n",
      "Requirement already satisfied: pyasn1-modules>=0.2.1 in /home/kevin/Documents/uni/3anno/2_semestre/MACHINE LEARNING/project/university-ml-imgtostr/.venv/lib/python3.8/site-packages (from google-auth<3,>=1.6.3->tensorboard) (0.4.2)\n",
      "Requirement already satisfied: rsa<5,>=3.1.4 in /home/kevin/Documents/uni/3anno/2_semestre/MACHINE LEARNING/project/university-ml-imgtostr/.venv/lib/python3.8/site-packages (from google-auth<3,>=1.6.3->tensorboard) (4.9.1)\n",
      "Requirement already satisfied: requests-oauthlib>=0.7.0 in /home/kevin/Documents/uni/3anno/2_semestre/MACHINE LEARNING/project/university-ml-imgtostr/.venv/lib/python3.8/site-packages (from google-auth-oauthlib<1.1,>=0.5->tensorboard) (2.0.0)\n",
      "Requirement already satisfied: zipp>=3.1.0 in /home/kevin/Documents/uni/3anno/2_semestre/MACHINE LEARNING/project/university-ml-imgtostr/.venv/lib/python3.8/site-packages (from importlib-resources>=3.2.0->matplotlib) (3.20.2)\n",
      "Requirement already satisfied: importlib-metadata>=4.4 in /home/kevin/Documents/uni/3anno/2_semestre/MACHINE LEARNING/project/university-ml-imgtostr/.venv/lib/python3.8/site-packages (from markdown>=2.6.8->tensorboard) (8.5.0)\n",
      "Requirement already satisfied: charset-normalizer<4,>=2 in /home/kevin/Documents/uni/3anno/2_semestre/MACHINE LEARNING/project/university-ml-imgtostr/.venv/lib/python3.8/site-packages (from requests<3,>=2.21.0->tensorboard) (3.4.2)\n",
      "Requirement already satisfied: idna<4,>=2.5 in /home/kevin/Documents/uni/3anno/2_semestre/MACHINE LEARNING/project/university-ml-imgtostr/.venv/lib/python3.8/site-packages (from requests<3,>=2.21.0->tensorboard) (3.10)\n",
      "Requirement already satisfied: urllib3<3,>=1.21.1 in /home/kevin/Documents/uni/3anno/2_semestre/MACHINE LEARNING/project/university-ml-imgtostr/.venv/lib/python3.8/site-packages (from requests<3,>=2.21.0->tensorboard) (2.2.3)\n",
      "Requirement already satisfied: certifi>=2017.4.17 in /home/kevin/Documents/uni/3anno/2_semestre/MACHINE LEARNING/project/university-ml-imgtostr/.venv/lib/python3.8/site-packages (from requests<3,>=2.21.0->tensorboard) (2025.4.26)\n",
      "Requirement already satisfied: MarkupSafe>=2.1.1 in /home/kevin/Documents/uni/3anno/2_semestre/MACHINE LEARNING/project/university-ml-imgtostr/.venv/lib/python3.8/site-packages (from werkzeug>=1.0.1->tensorboard) (2.1.5)\n",
      "Requirement already satisfied: tornado in /home/kevin/Documents/uni/3anno/2_semestre/MACHINE LEARNING/project/university-ml-imgtostr/.venv/lib/python3.8/site-packages (from visdom->torchnet) (6.4.2)\n",
      "Requirement already satisfied: jsonpatch in /home/kevin/Documents/uni/3anno/2_semestre/MACHINE LEARNING/project/university-ml-imgtostr/.venv/lib/python3.8/site-packages (from visdom->torchnet) (1.33)\n",
      "Requirement already satisfied: websocket-client in /home/kevin/Documents/uni/3anno/2_semestre/MACHINE LEARNING/project/university-ml-imgtostr/.venv/lib/python3.8/site-packages (from visdom->torchnet) (1.8.0)\n",
      "Requirement already satisfied: pyasn1<0.7.0,>=0.6.1 in /home/kevin/Documents/uni/3anno/2_semestre/MACHINE LEARNING/project/university-ml-imgtostr/.venv/lib/python3.8/site-packages (from pyasn1-modules>=0.2.1->google-auth<3,>=1.6.3->tensorboard) (0.6.1)\n",
      "Requirement already satisfied: oauthlib>=3.0.0 in /home/kevin/Documents/uni/3anno/2_semestre/MACHINE LEARNING/project/university-ml-imgtostr/.venv/lib/python3.8/site-packages (from requests-oauthlib>=0.7.0->google-auth-oauthlib<1.1,>=0.5->tensorboard) (3.2.2)\n",
      "Requirement already satisfied: jsonpointer>=1.9 in /home/kevin/Documents/uni/3anno/2_semestre/MACHINE LEARNING/project/university-ml-imgtostr/.venv/lib/python3.8/site-packages (from jsonpatch->visdom->torchnet) (3.0.0)\n",
      "Requirement already satisfied: mpmath<1.4,>=1.1.0 in /home/kevin/Documents/uni/3anno/2_semestre/MACHINE LEARNING/project/university-ml-imgtostr/.venv/lib/python3.8/site-packages (from sympy->torch==2.4.1->torchvision) (1.3.0)\n",
      "Downloading scikit_learn-1.3.2-cp38-cp38-manylinux_2_17_x86_64.manylinux2014_x86_64.whl (11.1 MB)\n",
      "\u001b[2K   \u001b[90m━━━━━━━━━━━━━━━━━━━━━━━━━━━━━━━━━━━━━━━━\u001b[0m \u001b[32m11.1/11.1 MB\u001b[0m \u001b[31m2.7 MB/s\u001b[0m eta \u001b[36m0:00:00\u001b[0m00:01\u001b[0m00:01\u001b[0m\n",
      "\u001b[?25hDownloading joblib-1.4.2-py3-none-any.whl (301 kB)\n",
      "Downloading threadpoolctl-3.5.0-py3-none-any.whl (18 kB)\n",
      "Installing collected packages: threadpoolctl, joblib, scikit-learn\n",
      "Successfully installed joblib-1.4.2 scikit-learn-1.3.2 threadpoolctl-3.5.0\n"
     ]
    }
   ],
   "source": [
    "!pip install torchvision matplotlib numpy tensorboard standard-imghdr torchnet scikit-learn"
   ]
  },
  {
   "cell_type": "code",
   "execution_count": 15,
   "id": "c0534afa",
   "metadata": {},
   "outputs": [],
   "source": [
    "# imports\n",
    "import matplotlib.pyplot as plt\n",
    "import numpy as np\n",
    "\n",
    "import torch\n",
    "import torchvision\n",
    "import torchvision.transforms as transforms\n",
    "\n",
    "import torch.nn as nn\n",
    "import torch.nn.functional as F\n",
    "import torch.optim as optim\n",
    "\n",
    "from torch.utils.data.dataset import Dataset\n",
    "from PIL import Image, ImageDraw, ImageFont\n",
    "from sklearn.metrics import accuracy_score\n",
    "\n",
    "from torch.utils.tensorboard import SummaryWriter\n",
    "\n",
    "from ImageToStringNet import ImageToStringNet, classes\n",
    "from ImageToStringNetDropout import ImageToStringNetDropout"
   ]
  },
  {
   "cell_type": "code",
   "execution_count": 11,
   "id": "2dd7e5a0",
   "metadata": {},
   "outputs": [
    {
     "name": "stdout",
     "output_type": "stream",
     "text": [
      "Classes:  96\n"
     ]
    }
   ],
   "source": [
    "print(\"Classes: \", len(classes))\n",
    "\n",
    "class DigitDataset(Dataset):\n",
    "    def __init__(self, imgs_path, txt_path, transform=None):\n",
    "        self.imgs_path = imgs_path\n",
    "        self.images = np.loadtxt(txt_path, dtype=str, delimiter='\\t', comments=[])\n",
    "        self.transform = transform\n",
    "        self.targets = [classes.index(c) for _, c, _, _ in self.images]\n",
    "        self.targets = torch.LongTensor(self.targets)\n",
    "        \n",
    "        self.data = [Image.open(f'{self.imgs_path}/{i}').convert('L') for i, _, _, _ in self.images]\n",
    "        self.data = [self.transform(i) for i in self.data]\n",
    "        self.data = torch.stack(self.data, dim=0)\n",
    "\n",
    "    def __getitem__(self, index):\n",
    "        _, _, t, b = self.images[index]\n",
    "\n",
    "        # Image Tensor, Label, Top Margin (%), Bottom Margin (%)\n",
    "        return self.data[index], self.targets[index], np.float32(t), np.float32(b)\n",
    "\n",
    "    def __len__(self):\n",
    "        return len(self.images)"
   ]
  },
  {
   "cell_type": "code",
   "execution_count": 12,
   "id": "244fcb1f",
   "metadata": {},
   "outputs": [],
   "source": [
    "# transforms\n",
    "transform = transforms.Compose(\n",
    "    [transforms.ToTensor(),\n",
    "    transforms.Normalize((0.5,), (0.5,))])\n",
    "\n",
    "dataset_dir = \"../dataset/digit_dataset\"\n",
    "trainset = DigitDataset(imgs_path=dataset_dir, txt_path=\"../dataset/digit_dataset/train.txt\", transform=transforms.ToTensor())\n",
    "testset = DigitDataset(imgs_path=dataset_dir, txt_path=\"../dataset/digit_dataset/test.txt\", transform=transforms.ToTensor())\n",
    "\n",
    "# dataloaders\n",
    "batch_size = 256\n",
    "trainloader = torch.utils.data.DataLoader(trainset, batch_size=batch_size,\n",
    "                                        shuffle=True, num_workers=2)\n",
    "\n",
    "\n",
    "testloader = torch.utils.data.DataLoader(testset, batch_size=batch_size,\n",
    "                                        shuffle=False, num_workers=2)\n",
    "\n",
    "# helper function to show an image\n",
    "# (used in the `plot_classes_preds` function below)\n",
    "def matplotlib_imshow(img, one_channel=False):\n",
    "    if one_channel:\n",
    "        img = img.mean(dim=0)\n",
    "    img = img / 2 + 0.5     # unnormalize\n",
    "    npimg = img.numpy()\n",
    "    if one_channel:\n",
    "        plt.imshow(npimg, cmap=\"Greys\")\n",
    "    else:\n",
    "        plt.imshow(np.transpose(npimg, (1, 2, 0)))"
   ]
  },
  {
   "cell_type": "code",
   "execution_count": 13,
   "id": "d35060c5",
   "metadata": {},
   "outputs": [],
   "source": [
    "#net = ImageToStringNet()\n",
    "net = ImageToStringNetDropout()"
   ]
  },
  {
   "cell_type": "code",
   "execution_count": 14,
   "id": "75b1ba0e",
   "metadata": {},
   "outputs": [],
   "source": [
    "criterion = nn.CrossEntropyLoss()\n",
    "optimizer = optim.SGD(net.parameters(), lr=0.001, momentum=0.9)"
   ]
  },
  {
   "cell_type": "code",
   "execution_count": 16,
   "id": "e73c98ef",
   "metadata": {},
   "outputs": [],
   "source": [
    "writer = SummaryWriter('runs/exp3_dropout')"
   ]
  },
  {
   "cell_type": "code",
   "execution_count": 17,
   "id": "a8988577",
   "metadata": {},
   "outputs": [
    {
     "data": {
      "text/plain": [
       "torch.Size([256, 1, 28, 28])"
      ]
     },
     "execution_count": 17,
     "metadata": {},
     "output_type": "execute_result"
    }
   ],
   "source": [
    "dataiter = iter(trainloader)\n",
    "next(dataiter)[0].shape"
   ]
  },
  {
   "cell_type": "code",
   "execution_count": 18,
   "id": "0402b84a",
   "metadata": {},
   "outputs": [
    {
     "data": {
      "image/png": "[encoded data removed]",
      "text/plain": [
       "<Figure size 640x480 with 1 Axes>"
      ]
     },
     "metadata": {},
     "output_type": "display_data"
    }
   ],
   "source": [
    "# get some random training images\n",
    "dataiter = iter(trainloader)\n",
    "images, labels, t, b = next(dataiter)\n",
    "\n",
    "# create grid of images\n",
    "img_grid = torchvision.utils.make_grid(images)\n",
    "\n",
    "# show images\n",
    "matplotlib_imshow(img_grid, one_channel=True)\n",
    "\n",
    "# write to tensorboard\n",
    "writer.add_image('four_img-to-str_images', img_grid)"
   ]
  },
  {
   "cell_type": "markdown",
   "id": "f61a3f94",
   "metadata": {
    "vscode": {
     "languageId": "bat"
    }
   },
   "source": [
    "tensorboard --logdir=runs"
   ]
  },
  {
   "cell_type": "code",
   "execution_count": 19,
   "id": "e677528f",
   "metadata": {},
   "outputs": [],
   "source": [
    "writer.add_graph(net, (images, t, b))\n",
    "writer.close()"
   ]
  },
  {
   "cell_type": "code",
   "execution_count": 20,
   "id": "cf20f8d3",
   "metadata": {},
   "outputs": [
    {
     "name": "stdout",
     "output_type": "stream",
     "text": [
      "Images shape:  torch.Size([100, 1, 28, 28])\n",
      "Labels shape:  torch.Size([100])\n"
     ]
    }
   ],
   "source": [
    "# helper function\n",
    "def select_n_random(data, labels, n=100):\n",
    "    '''\n",
    "    Selects n random datapoints and their corresponding labels from a dataset\n",
    "    '''\n",
    "    assert len(data) == len(labels)\n",
    "\n",
    "    perm = torch.randperm(len(data))\n",
    "    return data[perm][:n], labels[perm][:n]\n",
    "\n",
    "# select random images and their target indices\n",
    "images, labels = select_n_random(trainset.data, trainset.targets)\n",
    "print(\"Images shape: \", images.shape)\n",
    "print(\"Labels shape: \", labels.shape)\n",
    "\n",
    "# get the class labels for each image\n",
    "class_labels = [classes[lab] for lab in labels]\n",
    "\n",
    "# log embeddings\n",
    "features = images.view(-1, 28 * 28)\n",
    "writer.add_embedding(features,\n",
    "                    metadata=class_labels,\n",
    "                    label_img=images)\n",
    "writer.close()"
   ]
  },
  {
   "cell_type": "code",
   "execution_count": 21,
   "id": "521483c9",
   "metadata": {},
   "outputs": [],
   "source": [
    "# helper functions\n",
    "\n",
    "def images_to_probs(net, images, top_margin, bottom_margin):\n",
    "    '''\n",
    "    Generates predictions and corresponding probabilities from a trained\n",
    "    network and a list of images\n",
    "    '''\n",
    "    output = net(images, top_margin, bottom_margin)\n",
    "    # convert output probabilities to predicted class\n",
    "\n",
    "    output = output.cpu()\n",
    "\n",
    "    _, preds_tensor = torch.max(output, 1)\n",
    "    preds = np.squeeze(preds_tensor.numpy())\n",
    "    return preds, [F.softmax(el, dim=0)[i].item() for i, el in zip(preds, output)]\n",
    "\n",
    "\n",
    "def plot_classes_preds(net, images, labels, top_margin, bottom_margin):\n",
    "    '''\n",
    "    Generates matplotlib Figure using a trained network, along with images\n",
    "    and labels from a batch, that shows the network's top prediction along\n",
    "    with its probability, alongside the actual label, coloring this\n",
    "    information based on whether the prediction was correct or not.\n",
    "    Uses the \"images_to_probs\" function.\n",
    "    '''\n",
    "    preds, probs = images_to_probs(net, images, top_margin, bottom_margin)\n",
    "    # plot the images in the batch, along with predicted and true labels\n",
    "\n",
    "    images = images.cpu()\n",
    "\n",
    "    fig = plt.figure(figsize=(12, 48))\n",
    "    for idx in np.arange(4):\n",
    "        ax = fig.add_subplot(1, 4, idx+1, xticks=[], yticks=[])\n",
    "        matplotlib_imshow(images[idx], one_channel=True)\n",
    "        ax.set_title(\"{0}, {1:.1f}%\\n(label: {2})\".format(\n",
    "            classes[preds[idx]],\n",
    "            probs[idx] * 100.0,\n",
    "            classes[labels[idx]]),\n",
    "                    color=(\"green\" if preds[idx]==labels[idx].item() else \"red\"))\n",
    "    return fig"
   ]
  },
  {
   "cell_type": "code",
   "execution_count": 22,
   "id": "498e76f6",
   "metadata": {},
   "outputs": [],
   "source": [
    "if torch.xpu.is_available():\n",
    "    net = net.xpu()"
   ]
  },
  {
   "cell_type": "code",
   "execution_count": 23,
   "id": "f089486f",
   "metadata": {},
   "outputs": [],
   "source": [
    "class AverageValueMeter():\n",
    "    def __init__(self):\n",
    "        self.reset()\n",
    "    \n",
    "    def reset(self):\n",
    "        self.sum = 0\n",
    "        self.num = 0\n",
    "    \n",
    "    def add(self, value, num):\n",
    "        self.sum += value * num\n",
    "        self.num += num\n",
    "    \n",
    "    def value(self):\n",
    "        try:\n",
    "            return self.sum / self.num\n",
    "        except:\n",
    "            return None"
   ]
  },
  {
   "cell_type": "code",
   "execution_count": 24,
   "id": "4aa3885c",
   "metadata": {},
   "outputs": [],
   "source": [
    "loss_meter = AverageValueMeter()\n",
    "accuracy_meter = AverageValueMeter()\n",
    "\n",
    "global_step = 0\n",
    "epochs = 25\n",
    "\n",
    "loader = {\n",
    "    'train': trainloader,\n",
    "    'test': testloader\n",
    "}"
   ]
  },
  {
   "cell_type": "code",
   "execution_count": 25,
   "id": "13499442",
   "metadata": {},
   "outputs": [
    {
     "name": "stdout",
     "output_type": "stream",
     "text": [
      "Epoch 1\n",
      "\t[train]\tLoss: 4.5591, Accuracy: 0.0140\n",
      "\t[test]\tLoss: 4.5494, Accuracy: 0.0174\n",
      "=============================================================\n",
      "Epoch 2\n",
      "\t[train]\tLoss: 4.5252, Accuracy: 0.0218\n",
      "\t[test]\tLoss: 4.4712, Accuracy: 0.0238\n",
      "=============================================================\n",
      "Epoch 3\n",
      "\t[train]\tLoss: 4.3411, Accuracy: 0.0383\n",
      "\t[test]\tLoss: 4.0323, Accuracy: 0.0773\n",
      "=============================================================\n",
      "Epoch 4\n",
      "\t[train]\tLoss: 3.4573, Accuracy: 0.1571\n",
      "\t[test]\tLoss: 2.6368, Accuracy: 0.2929\n",
      "=============================================================\n",
      "Epoch 5\n",
      "\t[train]\tLoss: 2.1879, Accuracy: 0.3810\n",
      "\t[test]\tLoss: 1.7437, Accuracy: 0.4854\n",
      "=============================================================\n",
      "Epoch 6\n",
      "\t[train]\tLoss: 1.6115, Accuracy: 0.5122\n",
      "\t[test]\tLoss: 1.4266, Accuracy: 0.5622\n",
      "=============================================================\n",
      "Epoch 7\n",
      "\t[train]\tLoss: 1.3575, Accuracy: 0.5746\n",
      "\t[test]\tLoss: 1.2810, Accuracy: 0.5998\n",
      "=============================================================\n",
      "Epoch 8\n",
      "\t[train]\tLoss: 1.2068, Accuracy: 0.6150\n",
      "\t[test]\tLoss: 1.1597, Accuracy: 0.6348\n",
      "=============================================================\n",
      "Epoch 9\n",
      "\t[train]\tLoss: 1.1110, Accuracy: 0.6411\n",
      "\t[test]\tLoss: 1.0792, Accuracy: 0.6552\n",
      "=============================================================\n",
      "Epoch 10\n",
      "\t[train]\tLoss: 1.0275, Accuracy: 0.6630\n",
      "\t[test]\tLoss: 1.0289, Accuracy: 0.6702\n",
      "=============================================================\n",
      "Epoch 11\n",
      "\t[train]\tLoss: 0.9686, Accuracy: 0.6799\n",
      "\t[test]\tLoss: 0.9994, Accuracy: 0.6762\n",
      "=============================================================\n",
      "Epoch 12\n",
      "\t[train]\tLoss: 0.9208, Accuracy: 0.6943\n",
      "\t[test]\tLoss: 0.9579, Accuracy: 0.6880\n",
      "=============================================================\n",
      "Epoch 13\n",
      "\t[train]\tLoss: 0.8728, Accuracy: 0.7061\n",
      "\t[test]\tLoss: 0.9385, Accuracy: 0.7029\n",
      "=============================================================\n",
      "Epoch 14\n",
      "\t[train]\tLoss: 0.8416, Accuracy: 0.7151\n",
      "\t[test]\tLoss: 0.9082, Accuracy: 0.7093\n",
      "=============================================================\n",
      "Epoch 15\n",
      "\t[train]\tLoss: 0.8061, Accuracy: 0.7246\n",
      "\t[test]\tLoss: 0.8733, Accuracy: 0.7115\n",
      "=============================================================\n",
      "Epoch 16\n",
      "\t[train]\tLoss: 0.7818, Accuracy: 0.7324\n",
      "\t[test]\tLoss: 0.8552, Accuracy: 0.7209\n",
      "=============================================================\n",
      "Epoch 17\n",
      "\t[train]\tLoss: 0.7559, Accuracy: 0.7395\n",
      "\t[test]\tLoss: 0.8503, Accuracy: 0.7222\n",
      "=============================================================\n",
      "Epoch 18\n",
      "\t[train]\tLoss: 0.7381, Accuracy: 0.7432\n",
      "\t[test]\tLoss: 0.8392, Accuracy: 0.7315\n",
      "=============================================================\n",
      "Epoch 19\n",
      "\t[train]\tLoss: 0.7137, Accuracy: 0.7522\n",
      "\t[test]\tLoss: 0.8147, Accuracy: 0.7389\n",
      "=============================================================\n",
      "Epoch 20\n",
      "\t[train]\tLoss: 0.6979, Accuracy: 0.7539\n",
      "\t[test]\tLoss: 0.8166, Accuracy: 0.7386\n",
      "=============================================================\n",
      "Epoch 21\n",
      "\t[train]\tLoss: 0.6798, Accuracy: 0.7592\n",
      "\t[test]\tLoss: 0.7819, Accuracy: 0.7472\n",
      "=============================================================\n",
      "Epoch 22\n",
      "\t[train]\tLoss: 0.6691, Accuracy: 0.7641\n",
      "\t[test]\tLoss: 0.7860, Accuracy: 0.7469\n",
      "=============================================================\n",
      "Epoch 23\n",
      "\t[train]\tLoss: 0.6556, Accuracy: 0.7669\n",
      "\t[test]\tLoss: 0.7502, Accuracy: 0.7566\n",
      "=============================================================\n",
      "Epoch 24\n",
      "\t[train]\tLoss: 0.6391, Accuracy: 0.7720\n",
      "\t[test]\tLoss: 0.7563, Accuracy: 0.7515\n",
      "=============================================================\n",
      "Epoch 25\n",
      "\t[train]\tLoss: 0.6290, Accuracy: 0.7739\n",
      "\t[test]\tLoss: 0.7631, Accuracy: 0.7567\n",
      "=============================================================\n",
      "Finished Training\n"
     ]
    }
   ],
   "source": [
    "for epoch in range(epochs):  # loop over the dataset multiple times\n",
    "    print(f'Epoch {epoch + 1}')\n",
    "    for mode in [\"train\", \"test\"]:\n",
    "        loss_meter.reset()\n",
    "        accuracy_meter.reset()\n",
    "        for i, data in enumerate(loader[mode]):\n",
    "            global_step += batch_size\n",
    "            with torch.set_grad_enabled(mode == \"train\"):\n",
    "                # get the inputs; data is a list of [inputs, labels]\n",
    "\n",
    "                inputs, labels, t, b = data\n",
    "                if torch.xpu.is_available():\n",
    "                    inputs, labels, t, b = inputs.xpu(), labels.xpu(), t.xpu(), b.xpu()\n",
    "\n",
    "\n",
    "                # forward + backward + optimize\n",
    "                outputs = net(inputs, t, b)\n",
    "                loss = criterion(outputs, labels)\n",
    "\n",
    "                if mode == \"train\":\n",
    "                    loss.backward()\n",
    "                    optimizer.step()\n",
    "                    optimizer.zero_grad()\n",
    "\n",
    "                loss_meter.add(loss.item(), inputs.size(0))\n",
    "                accuracy_meter.add(accuracy_score(labels.cpu(), outputs.cpu().max(1)[1]), inputs.size(0))\n",
    "\n",
    "                if i % 10 == 9:\n",
    "                    writer.add_scalar(f'loss/{mode}',\n",
    "                                    loss_meter.value(),\n",
    "                                    global_step)\n",
    "                    writer.add_scalar(f'accuracy/{mode}',\n",
    "                                    accuracy_meter.value(),\n",
    "                                    global_step)\n",
    "\n",
    "                # ...log a Matplotlib Figure showing the model's predictions on a\n",
    "                # random mini-batch\n",
    "        print(f'\\t[{mode}]\\tLoss: {loss_meter.value():.4f}, Accuracy: {accuracy_meter.value():.4f}')\n",
    "    print('=============================================================')\n",
    "    if mode == \"test\":\n",
    "        writer.add_figure('predictions vs. actuals',\n",
    "                        plot_classes_preds(net, inputs, labels, t, b),\n",
    "                        global_step)\n",
    "\n",
    "print('Finished Training')"
   ]
  },
  {
   "cell_type": "code",
   "execution_count": null,
   "id": "e0a2e801",
   "metadata": {},
   "outputs": [],
   "source": [
    "# 1. gets the probability predictions in a test_size x num_classes Tensor\n",
    "# 2. gets the preds in a test_size Tensor\n",
    "# takes ~10 seconds to run\n",
    "class_probs = []\n",
    "class_label = []\n",
    "with torch.no_grad():\n",
    "    for data in testloader:\n",
    "        images, labels, t, b = data\n",
    "\n",
    "        if torch.xpu.is_available():\n",
    "            images, t, b = images.xpu(), t.xpu(), b.xpu()\n",
    "\n",
    "        output = net(images, t, b)\n",
    "\n",
    "        output = output.cpu()\n",
    "\n",
    "        class_probs_batch = [F.softmax(el, dim=0) for el in output]\n",
    "\n",
    "        class_probs.append(class_probs_batch)\n",
    "        class_label.append(labels)\n",
    "\n",
    "test_probs = torch.cat([torch.stack(batch) for batch in class_probs])\n",
    "test_label = torch.cat(class_label)\n",
    "\n",
    "# helper function\n",
    "def add_pr_curve_tensorboard(class_index, test_probs, test_label, global_step=0):\n",
    "    '''\n",
    "    Takes in a \"class_index\" from 0 to 9 and plots the corresponding\n",
    "    precision-recall curve\n",
    "    '''\n",
    "    tensorboard_truth = test_label == class_index\n",
    "    tensorboard_probs = test_probs[:, class_index]\n",
    "\n",
    "    writer.add_pr_curve(classes[class_index],\n",
    "                        tensorboard_truth,\n",
    "                        tensorboard_probs,\n",
    "                        global_step=global_step)\n",
    "    writer.close()\n",
    "\n",
    "# plot all the pr curves\n",
    "for i in range(len(classes)):\n",
    "    add_pr_curve_tensorboard(i, test_probs, test_label)"
   ]
  },
  {
   "cell_type": "code",
   "execution_count": 26,
   "id": "2acf64fc",
   "metadata": {},
   "outputs": [],
   "source": [
    "torch.save(net.state_dict(), 'model_weights_v4_25-epochs-dropout.pth')"
   ]
  },
  {
   "cell_type": "markdown",
   "id": "657439bc",
   "metadata": {},
   "source": [
    "# ---"
   ]
  },
  {
   "cell_type": "code",
   "execution_count": null,
   "id": "f5ad3d0f",
   "metadata": {},
   "outputs": [
    {
     "name": "stdout",
     "output_type": "stream",
     "text": [
      "Using Intel GPU (XPU)\n"
     ]
    }
   ],
   "source": [
    "import torch\n",
    "\n",
    "if torch.xpu.is_available():\n",
    "    print(\"Using Intel GPU (XPU)\")\n",
    "else:\n",
    "    print(\"No supported GPU backend detected\")"
   ]
  },
  {
   "cell_type": "code",
   "execution_count": null,
   "id": "fb8dc617",
   "metadata": {},
   "outputs": [],
   "source": [
    "import torch.nn as nn\n",
    "import torch.nn.functional as F\n",
    "\n",
    "conv1 = nn.Conv2d(1, 6, 5)\n",
    "pool = nn.MaxPool2d(2, 2)\n",
    "conv2 = nn.Conv2d(6, 16, 5)\n",
    "fc1 = nn.Linear(16 * 4 * 4, 120)\n",
    "fc2 = nn.Linear(120, 84)\n",
    "fc3 = nn.Linear(84, 10)"
   ]
  },
  {
   "cell_type": "code",
   "execution_count": null,
   "id": "621042a3",
   "metadata": {},
   "outputs": [
    {
     "data": {
      "text/plain": [
       "<__main__.DigitDataset at 0x7f7504933620>"
      ]
     },
     "execution_count": 34,
     "metadata": {},
     "output_type": "execute_result"
    }
   ],
   "source": [
    "trainloader.dataset"
   ]
  },
  {
   "cell_type": "code",
   "execution_count": null,
   "id": "fc3bcb87",
   "metadata": {},
   "outputs": [
    {
     "name": "stdout",
     "output_type": "stream",
     "text": [
      "conv1: torch.Size([6, 24, 24])\n",
      "F.relu: torch.Size([6, 24, 24])\n",
      "pool: torch.Size([6, 12, 12])\n",
      "conv2: torch.Size([16, 8, 8])\n",
      "F.relu: torch.Size([16, 8, 8])\n",
      "pool: torch.Size([16, 4, 4])\n"
     ]
    },
    {
     "data": {
      "text/plain": [
       "torch.Size([1, 256])"
      ]
     },
     "execution_count": 35,
     "metadata": {},
     "output_type": "execute_result"
    }
   ],
   "source": [
    "img = torch.rand(1,28,28)\n",
    "x = conv1(img)\n",
    "print(\"conv1:\",x.shape)\n",
    "\n",
    "x = F.relu(x)\n",
    "print(\"F.relu:\",x.shape)\n",
    "\n",
    "x = pool(x)\n",
    "print(\"pool:\",x.shape)\n",
    "\n",
    "x = conv2(x)\n",
    "print(\"conv2:\",x.shape)\n",
    "\n",
    "x = F.relu(x)\n",
    "print(\"F.relu:\",x.shape)\n",
    "\n",
    "x = pool(x)\n",
    "print(\"pool:\",x.shape)\n",
    "\n",
    "x.view(-1, 16 * 4 * 4).shape"
   ]
  }
 ],
 "metadata": {
  "kernelspec": {
   "display_name": ".venv",
   "language": "python",
   "name": "python3"
  },
  "language_info": {
   "codemirror_mode": {
    "name": "ipython",
    "version": 3
   },
   "file_extension": ".py",
   "mimetype": "text/x-python",
   "name": "python",
   "nbconvert_exporter": "python",
   "pygments_lexer": "ipython3",
   "version": "3.8.10"
  }
 },
 "nbformat": 4,
 "nbformat_minor": 5
}
