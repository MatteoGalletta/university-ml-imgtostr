{
 "cells": [
  {
   "cell_type": "code",
   "execution_count": 5,
   "id": "a38a1b97",
   "metadata": {},
   "outputs": [
    {
     "name": "stdout",
     "output_type": "stream",
     "text": [
      "Requirement already satisfied: matplotlib in /home/teogalletta/Documents/university-ml-imgtostr/.venv/lib64/python3.13/site-packages (3.10.3)\n",
      "Requirement already satisfied: numpy in /home/teogalletta/Documents/university-ml-imgtostr/.venv/lib64/python3.13/site-packages (2.1.2)\n",
      "Requirement already satisfied: tensorboard in /home/teogalletta/Documents/university-ml-imgtostr/.venv/lib64/python3.13/site-packages (2.19.0)\n",
      "Requirement already satisfied: standard-imghdr in /home/teogalletta/Documents/university-ml-imgtostr/.venv/lib64/python3.13/site-packages (3.13.0)\n",
      "Requirement already satisfied: torchnet in /home/teogalletta/Documents/university-ml-imgtostr/.venv/lib64/python3.13/site-packages (0.0.4)\n",
      "Requirement already satisfied: contourpy>=1.0.1 in /home/teogalletta/Documents/university-ml-imgtostr/.venv/lib64/python3.13/site-packages (from matplotlib) (1.3.2)\n",
      "Requirement already satisfied: cycler>=0.10 in /home/teogalletta/Documents/university-ml-imgtostr/.venv/lib64/python3.13/site-packages (from matplotlib) (0.12.1)\n",
      "Requirement already satisfied: fonttools>=4.22.0 in /home/teogalletta/Documents/university-ml-imgtostr/.venv/lib64/python3.13/site-packages (from matplotlib) (4.58.0)\n",
      "Requirement already satisfied: kiwisolver>=1.3.1 in /home/teogalletta/Documents/university-ml-imgtostr/.venv/lib64/python3.13/site-packages (from matplotlib) (1.4.8)\n",
      "Requirement already satisfied: packaging>=20.0 in /home/teogalletta/Documents/university-ml-imgtostr/.venv/lib64/python3.13/site-packages (from matplotlib) (25.0)\n",
      "Requirement already satisfied: pillow>=8 in /home/teogalletta/Documents/university-ml-imgtostr/.venv/lib64/python3.13/site-packages (from matplotlib) (11.0.0)\n",
      "Requirement already satisfied: pyparsing>=2.3.1 in /home/teogalletta/Documents/university-ml-imgtostr/.venv/lib64/python3.13/site-packages (from matplotlib) (3.2.3)\n",
      "Requirement already satisfied: python-dateutil>=2.7 in /home/teogalletta/Documents/university-ml-imgtostr/.venv/lib64/python3.13/site-packages (from matplotlib) (2.9.0.post0)\n",
      "Requirement already satisfied: absl-py>=0.4 in /home/teogalletta/Documents/university-ml-imgtostr/.venv/lib64/python3.13/site-packages (from tensorboard) (2.2.2)\n",
      "Requirement already satisfied: grpcio>=1.48.2 in /home/teogalletta/Documents/university-ml-imgtostr/.venv/lib64/python3.13/site-packages (from tensorboard) (1.71.0)\n",
      "Requirement already satisfied: markdown>=2.6.8 in /home/teogalletta/Documents/university-ml-imgtostr/.venv/lib64/python3.13/site-packages (from tensorboard) (3.8)\n",
      "Requirement already satisfied: protobuf!=4.24.0,>=3.19.6 in /home/teogalletta/Documents/university-ml-imgtostr/.venv/lib64/python3.13/site-packages (from tensorboard) (6.31.0)\n",
      "Requirement already satisfied: setuptools>=41.0.0 in /home/teogalletta/Documents/university-ml-imgtostr/.venv/lib64/python3.13/site-packages (from tensorboard) (70.2.0)\n",
      "Requirement already satisfied: six>1.9 in /home/teogalletta/Documents/university-ml-imgtostr/.venv/lib64/python3.13/site-packages (from tensorboard) (1.17.0)\n",
      "Requirement already satisfied: tensorboard-data-server<0.8.0,>=0.7.0 in /home/teogalletta/Documents/university-ml-imgtostr/.venv/lib64/python3.13/site-packages (from tensorboard) (0.7.2)\n",
      "Requirement already satisfied: werkzeug>=1.0.1 in /home/teogalletta/Documents/university-ml-imgtostr/.venv/lib64/python3.13/site-packages (from tensorboard) (3.1.3)\n",
      "Requirement already satisfied: torch in /home/teogalletta/Documents/university-ml-imgtostr/.venv/lib64/python3.13/site-packages (from torchnet) (2.7.0+xpu)\n",
      "Requirement already satisfied: visdom in /home/teogalletta/Documents/university-ml-imgtostr/.venv/lib64/python3.13/site-packages (from torchnet) (0.2.4)\n",
      "Requirement already satisfied: MarkupSafe>=2.1.1 in /home/teogalletta/Documents/university-ml-imgtostr/.venv/lib64/python3.13/site-packages (from werkzeug>=1.0.1->tensorboard) (3.0.2)\n",
      "Requirement already satisfied: filelock in /home/teogalletta/Documents/university-ml-imgtostr/.venv/lib64/python3.13/site-packages (from torch->torchnet) (3.13.1)\n",
      "Requirement already satisfied: typing-extensions>=4.10.0 in /home/teogalletta/Documents/university-ml-imgtostr/.venv/lib64/python3.13/site-packages (from torch->torchnet) (4.12.2)\n",
      "Requirement already satisfied: sympy>=1.13.3 in /home/teogalletta/Documents/university-ml-imgtostr/.venv/lib64/python3.13/site-packages (from torch->torchnet) (1.13.3)\n",
      "Requirement already satisfied: networkx in /home/teogalletta/Documents/university-ml-imgtostr/.venv/lib64/python3.13/site-packages (from torch->torchnet) (3.3)\n",
      "Requirement already satisfied: jinja2 in /home/teogalletta/Documents/university-ml-imgtostr/.venv/lib64/python3.13/site-packages (from torch->torchnet) (3.1.4)\n",
      "Requirement already satisfied: fsspec in /home/teogalletta/Documents/university-ml-imgtostr/.venv/lib64/python3.13/site-packages (from torch->torchnet) (2024.6.1)\n",
      "Requirement already satisfied: intel-cmplr-lib-rt==2025.0.4 in /home/teogalletta/Documents/university-ml-imgtostr/.venv/lib64/python3.13/site-packages (from torch->torchnet) (2025.0.4)\n",
      "Requirement already satisfied: intel-cmplr-lib-ur==2025.0.4 in /home/teogalletta/Documents/university-ml-imgtostr/.venv/lib64/python3.13/site-packages (from torch->torchnet) (2025.0.4)\n",
      "Requirement already satisfied: intel-cmplr-lic-rt==2025.0.4 in /home/teogalletta/Documents/university-ml-imgtostr/.venv/lib64/python3.13/site-packages (from torch->torchnet) (2025.0.4)\n",
      "Requirement already satisfied: intel-sycl-rt==2025.0.4 in /home/teogalletta/Documents/university-ml-imgtostr/.venv/lib64/python3.13/site-packages (from torch->torchnet) (2025.0.4)\n",
      "Requirement already satisfied: tcmlib==1.2.0 in /home/teogalletta/Documents/university-ml-imgtostr/.venv/lib64/python3.13/site-packages (from torch->torchnet) (1.2.0)\n",
      "Requirement already satisfied: umf==0.9.1 in /home/teogalletta/Documents/university-ml-imgtostr/.venv/lib64/python3.13/site-packages (from torch->torchnet) (0.9.1)\n",
      "Requirement already satisfied: intel-pti==0.10.1 in /home/teogalletta/Documents/university-ml-imgtostr/.venv/lib64/python3.13/site-packages (from torch->torchnet) (0.10.1)\n",
      "Requirement already satisfied: pytorch-triton-xpu==3.3.0 in /home/teogalletta/Documents/university-ml-imgtostr/.venv/lib64/python3.13/site-packages (from torch->torchnet) (3.3.0)\n",
      "Requirement already satisfied: scipy in /home/teogalletta/Documents/university-ml-imgtostr/.venv/lib64/python3.13/site-packages (from visdom->torchnet) (1.15.3)\n",
      "Requirement already satisfied: requests in /home/teogalletta/Documents/university-ml-imgtostr/.venv/lib64/python3.13/site-packages (from visdom->torchnet) (2.32.3)\n",
      "Requirement already satisfied: tornado in /home/teogalletta/Documents/university-ml-imgtostr/.venv/lib64/python3.13/site-packages (from visdom->torchnet) (6.5)\n",
      "Requirement already satisfied: jsonpatch in /home/teogalletta/Documents/university-ml-imgtostr/.venv/lib64/python3.13/site-packages (from visdom->torchnet) (1.33)\n",
      "Requirement already satisfied: websocket-client in /home/teogalletta/Documents/university-ml-imgtostr/.venv/lib64/python3.13/site-packages (from visdom->torchnet) (1.8.0)\n",
      "Requirement already satisfied: mpmath<1.4,>=1.1.0 in /home/teogalletta/Documents/university-ml-imgtostr/.venv/lib64/python3.13/site-packages (from sympy>=1.13.3->torch->torchnet) (1.3.0)\n",
      "Requirement already satisfied: jsonpointer>=1.9 in /home/teogalletta/Documents/university-ml-imgtostr/.venv/lib64/python3.13/site-packages (from jsonpatch->visdom->torchnet) (3.0.0)\n",
      "Requirement already satisfied: charset-normalizer<4,>=2 in /home/teogalletta/Documents/university-ml-imgtostr/.venv/lib64/python3.13/site-packages (from requests->visdom->torchnet) (3.4.2)\n",
      "Requirement already satisfied: idna<4,>=2.5 in /home/teogalletta/Documents/university-ml-imgtostr/.venv/lib64/python3.13/site-packages (from requests->visdom->torchnet) (3.10)\n",
      "Requirement already satisfied: urllib3<3,>=1.21.1 in /home/teogalletta/Documents/university-ml-imgtostr/.venv/lib64/python3.13/site-packages (from requests->visdom->torchnet) (2.4.0)\n",
      "Requirement already satisfied: certifi>=2017.4.17 in /home/teogalletta/Documents/university-ml-imgtostr/.venv/lib64/python3.13/site-packages (from requests->visdom->torchnet) (2025.4.26)\n",
      "\n",
      "\u001b[1m[\u001b[0m\u001b[34;49mnotice\u001b[0m\u001b[1;39;49m]\u001b[0m\u001b[39;49m A new release of pip is available: \u001b[0m\u001b[31;49m24.3.1\u001b[0m\u001b[39;49m -> \u001b[0m\u001b[32;49m25.1.1\u001b[0m\n",
      "\u001b[1m[\u001b[0m\u001b[34;49mnotice\u001b[0m\u001b[1;39;49m]\u001b[0m\u001b[39;49m To update, run: \u001b[0m\u001b[32;49mpip install --upgrade pip\u001b[0m\n"
     ]
    }
   ],
   "source": [
    "!pip install matplotlib numpy tensorboard standard-imghdr torchnet"
   ]
  },
  {
   "cell_type": "code",
   "execution_count": 9,
   "id": "c0534afa",
   "metadata": {},
   "outputs": [],
   "source": [
    "# imports\n",
    "import matplotlib.pyplot as plt\n",
    "import numpy as np\n",
    "\n",
    "import torch\n",
    "import torchvision\n",
    "import torchvision.transforms as transforms\n",
    "\n",
    "import torch.nn as nn\n",
    "import torch.nn.functional as F\n",
    "import torch.optim as optim\n",
    "\n",
    "from torch.utils.data.dataset import Dataset\n",
    "from PIL import Image, ImageDraw, ImageFont\n",
    "from sklearn.metrics import accuracy_score\n",
    "\n",
    "from ImageToStringNet import ImageToStringNet, classes\n",
    "from ImageToStringNetDropout import ImageToStringNetDropout"
   ]
  },
  {
   "cell_type": "code",
   "execution_count": 7,
   "id": "2dd7e5a0",
   "metadata": {},
   "outputs": [
    {
     "name": "stdout",
     "output_type": "stream",
     "text": [
      "Classes:  96\n"
     ]
    }
   ],
   "source": [
    "print(\"Classes: \", len(classes))\n",
    "\n",
    "class DigitDataset(Dataset):\n",
    "    def __init__(self, imgs_path, txt_path, transform=None):\n",
    "        self.imgs_path = imgs_path\n",
    "        self.images = np.loadtxt(txt_path, dtype=str, delimiter='\\t', comments=[])\n",
    "        self.transform = transform\n",
    "        self.targets = [classes.index(c) for _, c, _, _ in self.images]\n",
    "        self.targets = torch.LongTensor(self.targets)\n",
    "        \n",
    "        self.data = [Image.open(f'{self.imgs_path}/{i}').convert('L') for i, _, _, _ in self.images]\n",
    "        self.data = [self.transform(i) for i in self.data]\n",
    "        self.data = torch.stack(self.data, dim=0)\n",
    "\n",
    "    def __getitem__(self, index):\n",
    "        _, _, t, b = self.images[index]\n",
    "\n",
    "        # Image Tensor, Label, Top Margin (%), Bottom Margin (%)\n",
    "        return self.data[index], self.targets[index], np.float32(t), np.float32(b)\n",
    "\n",
    "    def __len__(self):\n",
    "        return len(self.images)"
   ]
  },
  {
   "cell_type": "code",
   "execution_count": 8,
   "id": "244fcb1f",
   "metadata": {},
   "outputs": [],
   "source": [
    "# transforms\n",
    "transform = transforms.Compose(\n",
    "    [transforms.ToTensor(),\n",
    "    transforms.Normalize((0.5,), (0.5,))])\n",
    "\n",
    "dataset_dir = \"../dataset/digit_dataset\"\n",
    "trainset = DigitDataset(imgs_path=dataset_dir, txt_path=\"../dataset/digit_dataset/train.txt\", transform=transforms.ToTensor())\n",
    "testset = DigitDataset(imgs_path=dataset_dir, txt_path=\"../dataset/digit_dataset/test.txt\", transform=transforms.ToTensor())\n",
    "\n",
    "# dataloaders\n",
    "batch_size = 256\n",
    "trainloader = torch.utils.data.DataLoader(trainset, batch_size=batch_size,\n",
    "                                        shuffle=True, num_workers=2)\n",
    "\n",
    "\n",
    "testloader = torch.utils.data.DataLoader(testset, batch_size=batch_size,\n",
    "                                        shuffle=False, num_workers=2)\n",
    "\n",
    "# helper function to show an image\n",
    "# (used in the `plot_classes_preds` function below)\n",
    "def matplotlib_imshow(img, one_channel=False):\n",
    "    if one_channel:\n",
    "        img = img.mean(dim=0)\n",
    "    img = img / 2 + 0.5     # unnormalize\n",
    "    npimg = img.numpy()\n",
    "    if one_channel:\n",
    "        plt.imshow(npimg, cmap=\"Greys\")\n",
    "    else:\n",
    "        plt.imshow(np.transpose(npimg, (1, 2, 0)))"
   ]
  },
  {
   "cell_type": "code",
   "execution_count": null,
   "id": "d35060c5",
   "metadata": {},
   "outputs": [
    {
     "ename": "NameError",
     "evalue": "name 'ImageToStringNetDropout' is not defined",
     "output_type": "error",
     "traceback": [
      "\u001b[31m---------------------------------------------------------------------------\u001b[39m",
      "\u001b[31mNameError\u001b[39m                                 Traceback (most recent call last)",
      "\u001b[36mCell\u001b[39m\u001b[36m \u001b[39m\u001b[32mIn[1]\u001b[39m\u001b[32m, line 2\u001b[39m\n\u001b[32m      1\u001b[39m \u001b[38;5;66;03m#net = ImageToStringNet()\u001b[39;00m\n\u001b[32m----> \u001b[39m\u001b[32m2\u001b[39m net = \u001b[43mImageToStringNetDropout\u001b[49m()\n",
      "\u001b[31mNameError\u001b[39m: name 'ImageToStringNetDropout' is not defined"
     ]
    }
   ],
   "source": [
    "#net = ImageToStringNet()\n",
    "net = ImageToStringNetDropout()"
   ]
  },
  {
   "cell_type": "code",
   "execution_count": null,
   "id": "75b1ba0e",
   "metadata": {},
   "outputs": [],
   "source": [
    "criterion = nn.CrossEntropyLoss()\n",
    "optimizer = optim.SGD(net.parameters(), lr=0.001, momentum=0.9)"
   ]
  },
  {
   "cell_type": "code",
   "execution_count": null,
   "id": "e73c98ef",
   "metadata": {},
   "outputs": [],
   "source": [
    "from torch.utils.tensorboard import SummaryWriter\n",
    "\n",
    "# default `log_dir` is \"runs\" - we'll be more specific here\n",
    "writer = SummaryWriter('runs/exp2_25-epochs')"
   ]
  },
  {
   "cell_type": "code",
   "execution_count": null,
   "id": "a8988577",
   "metadata": {},
   "outputs": [
    {
     "data": {
      "text/plain": [
       "torch.Size([256, 1, 28, 28])"
      ]
     },
     "execution_count": 7,
     "metadata": {},
     "output_type": "execute_result"
    }
   ],
   "source": [
    "dataiter = iter(trainloader)\n",
    "next(dataiter)[0].shape"
   ]
  },
  {
   "cell_type": "code",
   "execution_count": null,
   "id": "0402b84a",
   "metadata": {},
   "outputs": [
    {
     "data": {
      "image/png": "[encoded data removed]",
      "text/plain": [
       "<Figure size 640x480 with 1 Axes>"
      ]
     },
     "metadata": {},
     "output_type": "display_data"
    }
   ],
   "source": [
    "# get some random training images\n",
    "dataiter = iter(trainloader)\n",
    "images, labels, t, b = next(dataiter)\n",
    "\n",
    "# create grid of images\n",
    "img_grid = torchvision.utils.make_grid(images)\n",
    "\n",
    "# show images\n",
    "matplotlib_imshow(img_grid, one_channel=True)\n",
    "\n",
    "# write to tensorboard\n",
    "writer.add_image('four_img-to-str_images', img_grid)"
   ]
  },
  {
   "cell_type": "markdown",
   "id": "f61a3f94",
   "metadata": {
    "vscode": {
     "languageId": "bat"
    }
   },
   "source": [
    "tensorboard --logdir=runs"
   ]
  },
  {
   "cell_type": "code",
   "execution_count": null,
   "id": "e677528f",
   "metadata": {},
   "outputs": [],
   "source": [
    "writer.add_graph(net, (images, t, b))\n",
    "writer.close()"
   ]
  },
  {
   "cell_type": "code",
   "execution_count": null,
   "id": "cf20f8d3",
   "metadata": {},
   "outputs": [
    {
     "name": "stdout",
     "output_type": "stream",
     "text": [
      "Images shape:  torch.Size([100, 1, 28, 28])\n",
      "Labels shape:  torch.Size([100])\n"
     ]
    }
   ],
   "source": [
    "# helper function\n",
    "def select_n_random(data, labels, n=100):\n",
    "    '''\n",
    "    Selects n random datapoints and their corresponding labels from a dataset\n",
    "    '''\n",
    "    assert len(data) == len(labels)\n",
    "\n",
    "    perm = torch.randperm(len(data))\n",
    "    return data[perm][:n], labels[perm][:n]\n",
    "\n",
    "# select random images and their target indices\n",
    "images, labels = select_n_random(trainset.data, trainset.targets)\n",
    "print(\"Images shape: \", images.shape)\n",
    "print(\"Labels shape: \", labels.shape)\n",
    "\n",
    "# get the class labels for each image\n",
    "class_labels = [classes[lab] for lab in labels]\n",
    "\n",
    "# log embeddings\n",
    "features = images.view(-1, 28 * 28)\n",
    "writer.add_embedding(features,\n",
    "                    metadata=class_labels,\n",
    "                    label_img=images)\n",
    "writer.close()"
   ]
  },
  {
   "cell_type": "code",
   "execution_count": null,
   "id": "521483c9",
   "metadata": {},
   "outputs": [],
   "source": [
    "# helper functions\n",
    "\n",
    "def images_to_probs(net, images, top_margin, bottom_margin):\n",
    "    '''\n",
    "    Generates predictions and corresponding probabilities from a trained\n",
    "    network and a list of images\n",
    "    '''\n",
    "    output = net(images, top_margin, bottom_margin)\n",
    "    # convert output probabilities to predicted class\n",
    "\n",
    "    output = output.cpu()\n",
    "\n",
    "    _, preds_tensor = torch.max(output, 1)\n",
    "    preds = np.squeeze(preds_tensor.numpy())\n",
    "    return preds, [F.softmax(el, dim=0)[i].item() for i, el in zip(preds, output)]\n",
    "\n",
    "\n",
    "def plot_classes_preds(net, images, labels, top_margin, bottom_margin):\n",
    "    '''\n",
    "    Generates matplotlib Figure using a trained network, along with images\n",
    "    and labels from a batch, that shows the network's top prediction along\n",
    "    with its probability, alongside the actual label, coloring this\n",
    "    information based on whether the prediction was correct or not.\n",
    "    Uses the \"images_to_probs\" function.\n",
    "    '''\n",
    "    preds, probs = images_to_probs(net, images, top_margin, bottom_margin)\n",
    "    # plot the images in the batch, along with predicted and true labels\n",
    "\n",
    "    images = images.cpu()\n",
    "\n",
    "    fig = plt.figure(figsize=(12, 48))\n",
    "    for idx in np.arange(4):\n",
    "        ax = fig.add_subplot(1, 4, idx+1, xticks=[], yticks=[])\n",
    "        matplotlib_imshow(images[idx], one_channel=True)\n",
    "        ax.set_title(\"{0}, {1:.1f}%\\n(label: {2})\".format(\n",
    "            classes[preds[idx]],\n",
    "            probs[idx] * 100.0,\n",
    "            classes[labels[idx]]),\n",
    "                    color=(\"green\" if preds[idx]==labels[idx].item() else \"red\"))\n",
    "    return fig"
   ]
  },
  {
   "cell_type": "code",
   "execution_count": null,
   "id": "498e76f6",
   "metadata": {},
   "outputs": [],
   "source": [
    "if torch.xpu.is_available():\n",
    "    net = net.xpu()"
   ]
  },
  {
   "cell_type": "code",
   "execution_count": null,
   "id": "f089486f",
   "metadata": {},
   "outputs": [],
   "source": [
    "class AverageValueMeter():\n",
    "    def __init__(self):\n",
    "        self.reset()\n",
    "    \n",
    "    def reset(self):\n",
    "        self.sum = 0\n",
    "        self.num = 0\n",
    "    \n",
    "    def add(self, value, num):\n",
    "        self.sum += value * num\n",
    "        self.num += num\n",
    "    \n",
    "    def value(self):\n",
    "        try:\n",
    "            return self.sum / self.num\n",
    "        except:\n",
    "            return None"
   ]
  },
  {
   "cell_type": "code",
   "execution_count": null,
   "id": "4aa3885c",
   "metadata": {},
   "outputs": [],
   "source": [
    "loss_meter = AverageValueMeter()\n",
    "accuracy_meter = AverageValueMeter()\n",
    "\n",
    "global_step = 0\n",
    "epochs = 25\n",
    "\n",
    "loader = {\n",
    "    'train': trainloader,\n",
    "    'test': testloader\n",
    "}"
   ]
  },
  {
   "cell_type": "code",
   "execution_count": null,
   "id": "13499442",
   "metadata": {},
   "outputs": [
    {
     "name": "stdout",
     "output_type": "stream",
     "text": [
      "Epoch 1\n",
      "\t[train]\tLoss: 4.5417, Accuracy: 0.0090\n",
      "\t[test]\tLoss: 4.5526, Accuracy: 0.0092\n",
      "=============================================================\n",
      "Epoch 2\n",
      "\t[train]\tLoss: 4.5004, Accuracy: 0.0284\n",
      "\t[test]\tLoss: 4.5075, Accuracy: 0.0363\n",
      "=============================================================\n",
      "Epoch 3\n",
      "\t[train]\tLoss: 4.3311, Accuracy: 0.0489\n",
      "\t[test]\tLoss: 3.8813, Accuracy: 0.1904\n",
      "=============================================================\n",
      "Epoch 4\n",
      "\t[train]\tLoss: 2.2186, Accuracy: 0.4741\n",
      "\t[test]\tLoss: 1.0060, Accuracy: 0.7295\n",
      "=============================================================\n",
      "Epoch 5\n",
      "\t[train]\tLoss: 0.7822, Accuracy: 0.7715\n",
      "\t[test]\tLoss: 0.7082, Accuracy: 0.7989\n",
      "=============================================================\n",
      "Epoch 6\n",
      "\t[train]\tLoss: 0.5375, Accuracy: 0.8321\n",
      "\t[test]\tLoss: 0.6636, Accuracy: 0.8214\n",
      "=============================================================\n",
      "Epoch 7\n",
      "\t[train]\tLoss: 0.4370, Accuracy: 0.8600\n",
      "\t[test]\tLoss: 0.6171, Accuracy: 0.8224\n",
      "=============================================================\n",
      "Epoch 8\n",
      "\t[train]\tLoss: 0.3731, Accuracy: 0.8781\n",
      "\t[test]\tLoss: 0.6280, Accuracy: 0.8214\n",
      "=============================================================\n",
      "Epoch 9\n",
      "\t[train]\tLoss: 0.3341, Accuracy: 0.8895\n",
      "\t[test]\tLoss: 0.6428, Accuracy: 0.8269\n",
      "=============================================================\n",
      "Epoch 10\n",
      "\t[train]\tLoss: 0.3069, Accuracy: 0.8978\n",
      "\t[test]\tLoss: 0.6092, Accuracy: 0.8418\n",
      "=============================================================\n",
      "Epoch 11\n",
      "\t[train]\tLoss: 0.2844, Accuracy: 0.9032\n",
      "\t[test]\tLoss: 0.6692, Accuracy: 0.8447\n",
      "=============================================================\n",
      "Epoch 12\n",
      "\t[train]\tLoss: 0.2598, Accuracy: 0.9101\n",
      "\t[test]\tLoss: 0.6649, Accuracy: 0.8406\n",
      "=============================================================\n",
      "Epoch 13\n",
      "\t[train]\tLoss: 0.2433, Accuracy: 0.9142\n",
      "\t[test]\tLoss: 0.7421, Accuracy: 0.8518\n",
      "=============================================================\n",
      "Epoch 14\n",
      "\t[train]\tLoss: 0.2436, Accuracy: 0.9156\n",
      "\t[test]\tLoss: 0.7248, Accuracy: 0.8310\n",
      "=============================================================\n",
      "Epoch 15\n",
      "\t[train]\tLoss: 0.2214, Accuracy: 0.9229\n",
      "\t[test]\tLoss: 0.7190, Accuracy: 0.8503\n",
      "=============================================================\n",
      "Epoch 16\n",
      "\t[train]\tLoss: 0.2061, Accuracy: 0.9266\n",
      "\t[test]\tLoss: 0.7523, Accuracy: 0.8368\n",
      "=============================================================\n",
      "Epoch 17\n",
      "\t[train]\tLoss: 0.1991, Accuracy: 0.9293\n",
      "\t[test]\tLoss: 0.7673, Accuracy: 0.8510\n",
      "=============================================================\n",
      "Epoch 18\n",
      "\t[train]\tLoss: 0.1959, Accuracy: 0.9306\n",
      "\t[test]\tLoss: 0.7698, Accuracy: 0.8528\n",
      "=============================================================\n",
      "Epoch 19\n",
      "\t[train]\tLoss: 0.1918, Accuracy: 0.9319\n",
      "\t[test]\tLoss: 0.7530, Accuracy: 0.8473\n",
      "=============================================================\n",
      "Epoch 20\n",
      "\t[train]\tLoss: 0.1732, Accuracy: 0.9374\n",
      "\t[test]\tLoss: 0.8388, Accuracy: 0.8500\n",
      "=============================================================\n",
      "Epoch 21\n",
      "\t[train]\tLoss: 0.1737, Accuracy: 0.9380\n",
      "\t[test]\tLoss: 0.7884, Accuracy: 0.8326\n",
      "=============================================================\n",
      "Epoch 22\n",
      "\t[train]\tLoss: 0.1727, Accuracy: 0.9369\n",
      "\t[test]\tLoss: 0.8601, Accuracy: 0.8419\n",
      "=============================================================\n",
      "Epoch 23\n",
      "\t[train]\tLoss: 0.1581, Accuracy: 0.9429\n",
      "\t[test]\tLoss: 0.8676, Accuracy: 0.8511\n",
      "=============================================================\n",
      "Epoch 24\n",
      "\t[train]\tLoss: 0.1660, Accuracy: 0.9413\n",
      "\t[test]\tLoss: 0.8938, Accuracy: 0.8502\n",
      "=============================================================\n",
      "Epoch 25\n",
      "\t[train]\tLoss: 0.1510, Accuracy: 0.9455\n",
      "\t[test]\tLoss: 0.9942, Accuracy: 0.8401\n",
      "=============================================================\n",
      "Finished Training\n"
     ]
    }
   ],
   "source": [
    "for epoch in range(epochs):  # loop over the dataset multiple times\n",
    "    print(f'Epoch {epoch + 1}')\n",
    "    for mode in [\"train\", \"test\"]:\n",
    "        loss_meter.reset()\n",
    "        accuracy_meter.reset()\n",
    "        for i, data in enumerate(loader[mode]):\n",
    "            global_step += batch_size\n",
    "            with torch.set_grad_enabled(mode == \"train\"):\n",
    "                # get the inputs; data is a list of [inputs, labels]\n",
    "\n",
    "                inputs, labels, t, b = data\n",
    "                if torch.xpu.is_available():\n",
    "                    inputs, labels, t, b = inputs.xpu(), labels.xpu(), t.xpu(), b.xpu()\n",
    "\n",
    "\n",
    "                # forward + backward + optimize\n",
    "                outputs = net(inputs, t, b)\n",
    "                loss = criterion(outputs, labels)\n",
    "\n",
    "                if mode == \"train\":\n",
    "                    loss.backward()\n",
    "                    optimizer.step()\n",
    "                    optimizer.zero_grad()\n",
    "\n",
    "                loss_meter.add(loss.item(), inputs.size(0))\n",
    "                accuracy_meter.add(accuracy_score(labels.cpu(), outputs.cpu().max(1)[1]), inputs.size(0))\n",
    "\n",
    "                if i % 10 == 9:\n",
    "                    writer.add_scalar(f'loss/{mode}',\n",
    "                                    loss_meter.value(),\n",
    "                                    global_step)\n",
    "                    writer.add_scalar(f'accuracy/{mode}',\n",
    "                                    accuracy_meter.value(),\n",
    "                                    global_step)\n",
    "\n",
    "                # ...log a Matplotlib Figure showing the model's predictions on a\n",
    "                # random mini-batch\n",
    "        print(f'\\t[{mode}]\\tLoss: {loss_meter.value():.4f}, Accuracy: {accuracy_meter.value():.4f}')\n",
    "    print('=============================================================')\n",
    "    if mode == \"test\":\n",
    "        writer.add_figure('predictions vs. actuals',\n",
    "                        plot_classes_preds(net, inputs, labels, t, b),\n",
    "                        global_step)\n",
    "\n",
    "print('Finished Training')"
   ]
  },
  {
   "cell_type": "code",
   "execution_count": null,
   "id": "e0a2e801",
   "metadata": {},
   "outputs": [],
   "source": [
    "# 1. gets the probability predictions in a test_size x num_classes Tensor\n",
    "# 2. gets the preds in a test_size Tensor\n",
    "# takes ~10 seconds to run\n",
    "class_probs = []\n",
    "class_label = []\n",
    "with torch.no_grad():\n",
    "    for data in testloader:\n",
    "        images, labels, t, b = data\n",
    "\n",
    "        if torch.xpu.is_available():\n",
    "            images, t, b = images.xpu(), t.xpu(), b.xpu()\n",
    "\n",
    "        output = net(images, t, b)\n",
    "\n",
    "        output = output.cpu()\n",
    "\n",
    "        class_probs_batch = [F.softmax(el, dim=0) for el in output]\n",
    "\n",
    "        class_probs.append(class_probs_batch)\n",
    "        class_label.append(labels)\n",
    "\n",
    "test_probs = torch.cat([torch.stack(batch) for batch in class_probs])\n",
    "test_label = torch.cat(class_label)\n",
    "\n",
    "# helper function\n",
    "def add_pr_curve_tensorboard(class_index, test_probs, test_label, global_step=0):\n",
    "    '''\n",
    "    Takes in a \"class_index\" from 0 to 9 and plots the corresponding\n",
    "    precision-recall curve\n",
    "    '''\n",
    "    tensorboard_truth = test_label == class_index\n",
    "    tensorboard_probs = test_probs[:, class_index]\n",
    "\n",
    "    writer.add_pr_curve(classes[class_index],\n",
    "                        tensorboard_truth,\n",
    "                        tensorboard_probs,\n",
    "                        global_step=global_step)\n",
    "    writer.close()\n",
    "\n",
    "# plot all the pr curves\n",
    "for i in range(len(classes)):\n",
    "    add_pr_curve_tensorboard(i, test_probs, test_label)"
   ]
  },
  {
   "cell_type": "code",
   "execution_count": null,
   "id": "2acf64fc",
   "metadata": {},
   "outputs": [],
   "source": [
    "torch.save(net.state_dict(), 'model_weights_v3_25-epochs.pth')"
   ]
  },
  {
   "cell_type": "markdown",
   "id": "657439bc",
   "metadata": {},
   "source": [
    "# ---"
   ]
  },
  {
   "cell_type": "code",
   "execution_count": null,
   "id": "f5ad3d0f",
   "metadata": {},
   "outputs": [
    {
     "name": "stdout",
     "output_type": "stream",
     "text": [
      "Using Intel GPU (XPU)\n"
     ]
    }
   ],
   "source": [
    "import torch\n",
    "\n",
    "if torch.xpu.is_available():\n",
    "    print(\"Using Intel GPU (XPU)\")\n",
    "else:\n",
    "    print(\"No supported GPU backend detected\")"
   ]
  },
  {
   "cell_type": "code",
   "execution_count": null,
   "id": "fb8dc617",
   "metadata": {},
   "outputs": [],
   "source": [
    "import torch.nn as nn\n",
    "import torch.nn.functional as F\n",
    "\n",
    "conv1 = nn.Conv2d(1, 6, 5)\n",
    "pool = nn.MaxPool2d(2, 2)\n",
    "conv2 = nn.Conv2d(6, 16, 5)\n",
    "fc1 = nn.Linear(16 * 4 * 4, 120)\n",
    "fc2 = nn.Linear(120, 84)\n",
    "fc3 = nn.Linear(84, 10)"
   ]
  },
  {
   "cell_type": "code",
   "execution_count": null,
   "id": "621042a3",
   "metadata": {},
   "outputs": [
    {
     "data": {
      "text/plain": [
       "<__main__.DigitDataset at 0x7f7504933620>"
      ]
     },
     "execution_count": 34,
     "metadata": {},
     "output_type": "execute_result"
    }
   ],
   "source": [
    "trainloader.dataset"
   ]
  },
  {
   "cell_type": "code",
   "execution_count": null,
   "id": "fc3bcb87",
   "metadata": {},
   "outputs": [
    {
     "name": "stdout",
     "output_type": "stream",
     "text": [
      "conv1: torch.Size([6, 24, 24])\n",
      "F.relu: torch.Size([6, 24, 24])\n",
      "pool: torch.Size([6, 12, 12])\n",
      "conv2: torch.Size([16, 8, 8])\n",
      "F.relu: torch.Size([16, 8, 8])\n",
      "pool: torch.Size([16, 4, 4])\n"
     ]
    },
    {
     "data": {
      "text/plain": [
       "torch.Size([1, 256])"
      ]
     },
     "execution_count": 35,
     "metadata": {},
     "output_type": "execute_result"
    }
   ],
   "source": [
    "img = torch.rand(1,28,28)\n",
    "x = conv1(img)\n",
    "print(\"conv1:\",x.shape)\n",
    "\n",
    "x = F.relu(x)\n",
    "print(\"F.relu:\",x.shape)\n",
    "\n",
    "x = pool(x)\n",
    "print(\"pool:\",x.shape)\n",
    "\n",
    "x = conv2(x)\n",
    "print(\"conv2:\",x.shape)\n",
    "\n",
    "x = F.relu(x)\n",
    "print(\"F.relu:\",x.shape)\n",
    "\n",
    "x = pool(x)\n",
    "print(\"pool:\",x.shape)\n",
    "\n",
    "x.view(-1, 16 * 4 * 4).shape"
   ]
  }
 ],
 "metadata": {
  "kernelspec": {
   "display_name": ".venv",
   "language": "python",
   "name": "python3"
  },
  "language_info": {
   "codemirror_mode": {
    "name": "ipython",
    "version": 3
   },
   "file_extension": ".py",
   "mimetype": "text/x-python",
   "name": "python",
   "nbconvert_exporter": "python",
   "pygments_lexer": "ipython3",
   "version": "3.13.3"
  }
 },
 "nbformat": 4,
 "nbformat_minor": 5
}
