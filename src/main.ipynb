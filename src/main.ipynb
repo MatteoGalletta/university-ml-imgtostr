{
 "cells": [
  {
   "cell_type": "code",
   "execution_count": 69,
   "id": "a38a1b97",
   "metadata": {},
   "outputs": [
    {
     "name": "stdout",
     "output_type": "stream",
     "text": [
      "Requirement already satisfied: torchvision in /home/teogalletta/Documents/university-ml-imgtostr/.venv/lib64/python3.13/site-packages (0.22.0+xpu)\n",
      "Requirement already satisfied: matplotlib in /home/teogalletta/Documents/university-ml-imgtostr/.venv/lib64/python3.13/site-packages (3.10.3)\n",
      "Requirement already satisfied: numpy in /home/teogalletta/Documents/university-ml-imgtostr/.venv/lib64/python3.13/site-packages (2.1.2)\n",
      "Requirement already satisfied: tensorboard in /home/teogalletta/Documents/university-ml-imgtostr/.venv/lib64/python3.13/site-packages (2.19.0)\n",
      "Requirement already satisfied: standard-imghdr in /home/teogalletta/Documents/university-ml-imgtostr/.venv/lib64/python3.13/site-packages (3.13.0)\n",
      "Requirement already satisfied: torchnet in /home/teogalletta/Documents/university-ml-imgtostr/.venv/lib64/python3.13/site-packages (0.0.4)\n",
      "Requirement already satisfied: scikit-learn in /home/teogalletta/Documents/university-ml-imgtostr/.venv/lib64/python3.13/site-packages (1.6.1)\n",
      "Requirement already satisfied: opencv-python in /home/teogalletta/Documents/university-ml-imgtostr/.venv/lib64/python3.13/site-packages (4.11.0.86)\n",
      "Requirement already satisfied: Levenshtein in /home/teogalletta/Documents/university-ml-imgtostr/.venv/lib64/python3.13/site-packages (0.27.1)\n",
      "Requirement already satisfied: pycm in /home/teogalletta/Documents/university-ml-imgtostr/.venv/lib64/python3.13/site-packages (4.3)\n",
      "Requirement already satisfied: torch==2.7.0 in /home/teogalletta/Documents/university-ml-imgtostr/.venv/lib64/python3.13/site-packages (from torchvision) (2.7.0+xpu)\n",
      "Requirement already satisfied: pillow!=8.3.*,>=5.3.0 in /home/teogalletta/Documents/university-ml-imgtostr/.venv/lib64/python3.13/site-packages (from torchvision) (11.0.0)\n",
      "Requirement already satisfied: filelock in /home/teogalletta/Documents/university-ml-imgtostr/.venv/lib64/python3.13/site-packages (from torch==2.7.0->torchvision) (3.13.1)\n",
      "Requirement already satisfied: typing-extensions>=4.10.0 in /home/teogalletta/Documents/university-ml-imgtostr/.venv/lib64/python3.13/site-packages (from torch==2.7.0->torchvision) (4.12.2)\n",
      "Requirement already satisfied: setuptools in /home/teogalletta/Documents/university-ml-imgtostr/.venv/lib64/python3.13/site-packages (from torch==2.7.0->torchvision) (70.2.0)\n",
      "Requirement already satisfied: sympy>=1.13.3 in /home/teogalletta/Documents/university-ml-imgtostr/.venv/lib64/python3.13/site-packages (from torch==2.7.0->torchvision) (1.13.3)\n",
      "Requirement already satisfied: networkx in /home/teogalletta/Documents/university-ml-imgtostr/.venv/lib64/python3.13/site-packages (from torch==2.7.0->torchvision) (3.3)\n",
      "Requirement already satisfied: jinja2 in /home/teogalletta/Documents/university-ml-imgtostr/.venv/lib64/python3.13/site-packages (from torch==2.7.0->torchvision) (3.1.4)\n",
      "Requirement already satisfied: fsspec in /home/teogalletta/Documents/university-ml-imgtostr/.venv/lib64/python3.13/site-packages (from torch==2.7.0->torchvision) (2024.6.1)\n",
      "Requirement already satisfied: intel-cmplr-lib-rt==2025.0.4 in /home/teogalletta/Documents/university-ml-imgtostr/.venv/lib64/python3.13/site-packages (from torch==2.7.0->torchvision) (2025.0.4)\n",
      "Requirement already satisfied: intel-cmplr-lib-ur==2025.0.4 in /home/teogalletta/Documents/university-ml-imgtostr/.venv/lib64/python3.13/site-packages (from torch==2.7.0->torchvision) (2025.0.4)\n",
      "Requirement already satisfied: intel-cmplr-lic-rt==2025.0.4 in /home/teogalletta/Documents/university-ml-imgtostr/.venv/lib64/python3.13/site-packages (from torch==2.7.0->torchvision) (2025.0.4)\n",
      "Requirement already satisfied: intel-sycl-rt==2025.0.4 in /home/teogalletta/Documents/university-ml-imgtostr/.venv/lib64/python3.13/site-packages (from torch==2.7.0->torchvision) (2025.0.4)\n",
      "Requirement already satisfied: tcmlib==1.2.0 in /home/teogalletta/Documents/university-ml-imgtostr/.venv/lib64/python3.13/site-packages (from torch==2.7.0->torchvision) (1.2.0)\n",
      "Requirement already satisfied: umf==0.9.1 in /home/teogalletta/Documents/university-ml-imgtostr/.venv/lib64/python3.13/site-packages (from torch==2.7.0->torchvision) (0.9.1)\n",
      "Requirement already satisfied: intel-pti==0.10.1 in /home/teogalletta/Documents/university-ml-imgtostr/.venv/lib64/python3.13/site-packages (from torch==2.7.0->torchvision) (0.10.1)\n",
      "Requirement already satisfied: pytorch-triton-xpu==3.3.0 in /home/teogalletta/Documents/university-ml-imgtostr/.venv/lib64/python3.13/site-packages (from torch==2.7.0->torchvision) (3.3.0)\n",
      "Requirement already satisfied: contourpy>=1.0.1 in /home/teogalletta/Documents/university-ml-imgtostr/.venv/lib64/python3.13/site-packages (from matplotlib) (1.3.2)\n",
      "Requirement already satisfied: cycler>=0.10 in /home/teogalletta/Documents/university-ml-imgtostr/.venv/lib64/python3.13/site-packages (from matplotlib) (0.12.1)\n",
      "Requirement already satisfied: fonttools>=4.22.0 in /home/teogalletta/Documents/university-ml-imgtostr/.venv/lib64/python3.13/site-packages (from matplotlib) (4.58.0)\n",
      "Requirement already satisfied: kiwisolver>=1.3.1 in /home/teogalletta/Documents/university-ml-imgtostr/.venv/lib64/python3.13/site-packages (from matplotlib) (1.4.8)\n",
      "Requirement already satisfied: packaging>=20.0 in /home/teogalletta/Documents/university-ml-imgtostr/.venv/lib64/python3.13/site-packages (from matplotlib) (25.0)\n",
      "Requirement already satisfied: pyparsing>=2.3.1 in /home/teogalletta/Documents/university-ml-imgtostr/.venv/lib64/python3.13/site-packages (from matplotlib) (3.2.3)\n",
      "Requirement already satisfied: python-dateutil>=2.7 in /home/teogalletta/Documents/university-ml-imgtostr/.venv/lib64/python3.13/site-packages (from matplotlib) (2.9.0.post0)\n",
      "Requirement already satisfied: absl-py>=0.4 in /home/teogalletta/Documents/university-ml-imgtostr/.venv/lib64/python3.13/site-packages (from tensorboard) (2.2.2)\n",
      "Requirement already satisfied: grpcio>=1.48.2 in /home/teogalletta/Documents/university-ml-imgtostr/.venv/lib64/python3.13/site-packages (from tensorboard) (1.71.0)\n",
      "Requirement already satisfied: markdown>=2.6.8 in /home/teogalletta/Documents/university-ml-imgtostr/.venv/lib64/python3.13/site-packages (from tensorboard) (3.8)\n",
      "Requirement already satisfied: protobuf!=4.24.0,>=3.19.6 in /home/teogalletta/Documents/university-ml-imgtostr/.venv/lib64/python3.13/site-packages (from tensorboard) (6.31.0)\n",
      "Requirement already satisfied: six>1.9 in /home/teogalletta/Documents/university-ml-imgtostr/.venv/lib64/python3.13/site-packages (from tensorboard) (1.17.0)\n",
      "Requirement already satisfied: tensorboard-data-server<0.8.0,>=0.7.0 in /home/teogalletta/Documents/university-ml-imgtostr/.venv/lib64/python3.13/site-packages (from tensorboard) (0.7.2)\n",
      "Requirement already satisfied: werkzeug>=1.0.1 in /home/teogalletta/Documents/university-ml-imgtostr/.venv/lib64/python3.13/site-packages (from tensorboard) (3.1.3)\n",
      "Requirement already satisfied: visdom in /home/teogalletta/Documents/university-ml-imgtostr/.venv/lib64/python3.13/site-packages (from torchnet) (0.2.4)\n",
      "Requirement already satisfied: scipy>=1.6.0 in /home/teogalletta/Documents/university-ml-imgtostr/.venv/lib64/python3.13/site-packages (from scikit-learn) (1.15.3)\n",
      "Requirement already satisfied: joblib>=1.2.0 in /home/teogalletta/Documents/university-ml-imgtostr/.venv/lib64/python3.13/site-packages (from scikit-learn) (1.5.0)\n",
      "Requirement already satisfied: threadpoolctl>=3.1.0 in /home/teogalletta/Documents/university-ml-imgtostr/.venv/lib64/python3.13/site-packages (from scikit-learn) (3.6.0)\n",
      "Requirement already satisfied: rapidfuzz<4.0.0,>=3.9.0 in /home/teogalletta/Documents/university-ml-imgtostr/.venv/lib64/python3.13/site-packages (from Levenshtein) (3.13.0)\n",
      "Requirement already satisfied: art>=1.8 in /home/teogalletta/Documents/university-ml-imgtostr/.venv/lib64/python3.13/site-packages (from pycm) (6.5)\n",
      "Requirement already satisfied: MarkupSafe>=2.1.1 in /home/teogalletta/Documents/university-ml-imgtostr/.venv/lib64/python3.13/site-packages (from werkzeug>=1.0.1->tensorboard) (3.0.2)\n",
      "Requirement already satisfied: requests in /home/teogalletta/Documents/university-ml-imgtostr/.venv/lib64/python3.13/site-packages (from visdom->torchnet) (2.32.3)\n",
      "Requirement already satisfied: tornado in /home/teogalletta/Documents/university-ml-imgtostr/.venv/lib64/python3.13/site-packages (from visdom->torchnet) (6.5)\n",
      "Requirement already satisfied: jsonpatch in /home/teogalletta/Documents/university-ml-imgtostr/.venv/lib64/python3.13/site-packages (from visdom->torchnet) (1.33)\n",
      "Requirement already satisfied: websocket-client in /home/teogalletta/Documents/university-ml-imgtostr/.venv/lib64/python3.13/site-packages (from visdom->torchnet) (1.8.0)\n",
      "Requirement already satisfied: mpmath<1.4,>=1.1.0 in /home/teogalletta/Documents/university-ml-imgtostr/.venv/lib64/python3.13/site-packages (from sympy>=1.13.3->torch==2.7.0->torchvision) (1.3.0)\n",
      "Requirement already satisfied: jsonpointer>=1.9 in /home/teogalletta/Documents/university-ml-imgtostr/.venv/lib64/python3.13/site-packages (from jsonpatch->visdom->torchnet) (3.0.0)\n",
      "Requirement already satisfied: charset-normalizer<4,>=2 in /home/teogalletta/Documents/university-ml-imgtostr/.venv/lib64/python3.13/site-packages (from requests->visdom->torchnet) (3.4.2)\n",
      "Requirement already satisfied: idna<4,>=2.5 in /home/teogalletta/Documents/university-ml-imgtostr/.venv/lib64/python3.13/site-packages (from requests->visdom->torchnet) (3.10)\n",
      "Requirement already satisfied: urllib3<3,>=1.21.1 in /home/teogalletta/Documents/university-ml-imgtostr/.venv/lib64/python3.13/site-packages (from requests->visdom->torchnet) (2.4.0)\n",
      "Requirement already satisfied: certifi>=2017.4.17 in /home/teogalletta/Documents/university-ml-imgtostr/.venv/lib64/python3.13/site-packages (from requests->visdom->torchnet) (2025.4.26)\n",
      "\n",
      "\u001b[1m[\u001b[0m\u001b[34;49mnotice\u001b[0m\u001b[1;39;49m]\u001b[0m\u001b[39;49m A new release of pip is available: \u001b[0m\u001b[31;49m24.3.1\u001b[0m\u001b[39;49m -> \u001b[0m\u001b[32;49m25.1.1\u001b[0m\n",
      "\u001b[1m[\u001b[0m\u001b[34;49mnotice\u001b[0m\u001b[1;39;49m]\u001b[0m\u001b[39;49m To update, run: \u001b[0m\u001b[32;49mpip install --upgrade pip\u001b[0m\n"
     ]
    }
   ],
   "source": [
    "!pip install torchvision matplotlib numpy tensorboard standard-imghdr torchnet scikit-learn opencv-python Levenshtein pycm"
   ]
  },
  {
   "cell_type": "code",
   "execution_count": 70,
   "id": "c0534afa",
   "metadata": {},
   "outputs": [],
   "source": [
    "import matplotlib.pyplot as plt\n",
    "import numpy as np\n",
    "import torch\n",
    "import torchvision\n",
    "import torchvision.transforms as transforms\n",
    "import torch.nn as nn\n",
    "import torch.nn.functional as F\n",
    "import torch.optim as optim\n",
    "from torch.utils.data.dataset import Dataset\n",
    "from PIL import Image, ImageDraw, ImageFont\n",
    "from sklearn.metrics import accuracy_score\n",
    "from torch.utils.tensorboard import SummaryWriter\n",
    "from ImageToStringNet import ImageToStringNet, classes\n",
    "import pandas as pd\n",
    "import Levenshtein\n",
    "import sys\n",
    "from torch.utils.data import random_split, DataLoader, Subset\n",
    "from pycm import ConfusionMatrix\n",
    "import json\n",
    "import os\n",
    "import random\n",
    "from torchvision import transforms\n"
   ]
  },
  {
   "cell_type": "code",
   "execution_count": 71,
   "id": "2dd7e5a0",
   "metadata": {},
   "outputs": [
    {
     "name": "stdout",
     "output_type": "stream",
     "text": [
      "Classes:  96\n"
     ]
    }
   ],
   "source": [
    "print(\"Classes: \", len(classes))\n",
    "\n",
    "class DigitDataset(Dataset):\n",
    "    def __init__(self, imgs_path, txt_path, transform=None):\n",
    "        self.imgs_path = imgs_path\n",
    "        self.images = np.loadtxt(txt_path, dtype=str, delimiter='\\t', comments=[])\n",
    "        self.transform = transform\n",
    "        self.targets = [classes.index(c) for _, c, _, _ in self.images]\n",
    "        self.targets = torch.LongTensor(self.targets)\n",
    "        \n",
    "        self.data = [Image.open(f'{self.imgs_path}/{i}').convert('L') for i, _, _, _ in self.images]\n",
    "        self.data = [self.transform(i) for i in self.data]\n",
    "        self.data = torch.stack(self.data, dim=0)\n",
    "\n",
    "    def __getitem__(self, index):\n",
    "        _, _, t, b = self.images[index]\n",
    "\n",
    "        # Image Tensor, Label, Top Margin (%), Bottom Margin (%)\n",
    "        return self.data[index], self.targets[index], np.float32(t), np.float32(b)\n",
    "\n",
    "    def __len__(self):\n",
    "        return len(self.images)"
   ]
  },
  {
   "cell_type": "code",
   "execution_count": 72,
   "id": "97306d14",
   "metadata": {},
   "outputs": [],
   "source": [
    "batch_size = 16 #256\n",
    "# transforms\n",
    "transform = transforms.Compose(\n",
    "    [transforms.ToTensor(),\n",
    "    transforms.Normalize((0.5,), (0.5,))])"
   ]
  },
  {
   "cell_type": "code",
   "execution_count": 73,
   "id": "244fcb1f",
   "metadata": {},
   "outputs": [],
   "source": [
    "# ---- impostazioni ----\n",
    "dataset_dir = \"../dataset/digit_dataset\"\n",
    "train_txt   = os.path.join(dataset_dir, \"train.txt\")\n",
    "test_txt    = os.path.join(dataset_dir, \"test.txt\")\n",
    "\n",
    "with open(train_txt, 'r') as f:\n",
    "    lines = f.read().splitlines()\n",
    "\n",
    "font_to_indices = {}\n",
    "for idx, line in enumerate(lines):\n",
    "    font_name = line.split()[0].split('/')[0]\n",
    "    font_to_indices.setdefault(font_name, []).append(idx)\n",
    "\n",
    "# ---- 2) split 80/20 sui font ----\n",
    "random.seed(1234)\n",
    "all_fonts = list(font_to_indices.keys())\n",
    "random.shuffle(all_fonts)\n",
    "\n",
    "n_train_fonts = int(0.8 * len(all_fonts))\n",
    "train_fonts = set(all_fonts[:n_train_fonts])\n",
    "val_fonts   = set(all_fonts[n_train_fonts:])\n",
    "\n",
    "train_idxs = []\n",
    "val_idxs   = []\n",
    "for font, idx_list in font_to_indices.items():\n",
    "    if font in train_fonts:\n",
    "        train_idxs.extend(idx_list)\n",
    "    else:\n",
    "        val_idxs.extend(idx_list)"
   ]
  },
  {
   "cell_type": "code",
   "execution_count": 74,
   "id": "90bc4c7e",
   "metadata": {},
   "outputs": [],
   "source": [
    "trainset = DigitDataset(imgs_path=dataset_dir,\n",
    "                        txt_path=train_txt,\n",
    "                        transform=transforms.ToTensor())\n",
    "testset  = DigitDataset(imgs_path=dataset_dir,\n",
    "                        txt_path=test_txt,\n",
    "                        transform=transforms.ToTensor())\n",
    "\n",
    "train_subset = Subset(trainset, train_idxs)\n",
    "val_subset   = Subset(trainset, val_idxs)\n",
    "\n",
    "\n",
    "trainloader = torch.utils.data.DataLoader(train_subset,\n",
    "                                          batch_size=batch_size,\n",
    "                                          shuffle=True,\n",
    "                                          num_workers=2)\n",
    "valloader = torch.utils.data.DataLoader(val_subset,\n",
    "                                        batch_size=batch_size,\n",
    "                                        shuffle=False,\n",
    "                                        num_workers=2)\n",
    "testloader = torch.utils.data.DataLoader(testset,\n",
    "                                         batch_size=batch_size,\n",
    "                                         shuffle=False,\n",
    "                                         num_workers=2)\n",
    "\n",
    "def matplotlib_imshow(img, one_channel=False):\n",
    "    if one_channel:\n",
    "        img = img.mean(dim=0)\n",
    "    img = img / 2 + 0.5     # unnormalize\n",
    "    npimg = img.numpy()\n",
    "    if one_channel:\n",
    "        plt.imshow(npimg, cmap=\"Greys\")\n",
    "    else:\n",
    "        plt.imshow(np.transpose(npimg, (1, 2, 0)))\n",
    "    plt.axis('off')"
   ]
  },
  {
   "cell_type": "code",
   "execution_count": 75,
   "id": "d35060c5",
   "metadata": {},
   "outputs": [],
   "source": [
    "net = ImageToStringNet(dropout_rate=0.5)"
   ]
  },
  {
   "cell_type": "code",
   "execution_count": 76,
   "id": "75b1ba0e",
   "metadata": {},
   "outputs": [],
   "source": [
    "criterion = nn.CrossEntropyLoss()\n",
    "optimizer = optim.SGD(net.parameters(), lr=0.001, momentum=0.9)"
   ]
  },
  {
   "cell_type": "code",
   "execution_count": 77,
   "id": "a8988577",
   "metadata": {},
   "outputs": [
    {
     "data": {
      "text/plain": [
       "torch.Size([16, 1, 28, 28])"
      ]
     },
     "execution_count": 77,
     "metadata": {},
     "output_type": "execute_result"
    }
   ],
   "source": [
    "dataiter = iter(trainloader)\n",
    "next(dataiter)[0].shape"
   ]
  },
  {
   "cell_type": "code",
   "execution_count": 78,
   "id": "79ad10c9",
   "metadata": {},
   "outputs": [],
   "source": [
    "writer = SummaryWriter(f'runs/demo')"
   ]
  },
  {
   "cell_type": "code",
   "execution_count": 79,
   "id": "0402b84a",
   "metadata": {},
   "outputs": [
    {
     "data": {
      "image/png": "[encoded data removed]",
      "text/plain": [
       "<Figure size 640x480 with 1 Axes>"
      ]
     },
     "metadata": {},
     "output_type": "display_data"
    }
   ],
   "source": [
    "# get some random training images\n",
    "dataiter = iter(trainloader)\n",
    "images, labels, t, b = next(dataiter)\n",
    "\n",
    "# create grid of images\n",
    "img_grid = torchvision.utils.make_grid(images)\n",
    "\n",
    "# show images\n",
    "matplotlib_imshow(img_grid, one_channel=True)\n",
    "\n",
    "# write to tensorboard\n",
    "writer.add_image('four_img-to-str_images', img_grid)"
   ]
  },
  {
   "cell_type": "code",
   "execution_count": 80,
   "id": "e677528f",
   "metadata": {},
   "outputs": [],
   "source": [
    "writer.add_graph(net, (images, t, b))\n",
    "writer.close()"
   ]
  },
  {
   "cell_type": "code",
   "execution_count": 81,
   "id": "cf20f8d3",
   "metadata": {},
   "outputs": [
    {
     "name": "stdout",
     "output_type": "stream",
     "text": [
      "Images shape:  torch.Size([100, 1, 28, 28])\n",
      "Labels shape:  torch.Size([100])\n",
      "warning: Embedding dir exists, did you set global_step for add_embedding()?\n"
     ]
    }
   ],
   "source": [
    "# helper function\n",
    "def select_n_random(data, labels, n=100):\n",
    "    '''\n",
    "    Selects n random datapoints and their corresponding labels from a dataset\n",
    "    '''\n",
    "    assert len(data) == len(labels)\n",
    "\n",
    "    perm = torch.randperm(len(data))\n",
    "    return data[perm][:n], labels[perm][:n]\n",
    "\n",
    "# select random images and their target indices\n",
    "images, labels = select_n_random(trainset.data, trainset.targets)\n",
    "print(\"Images shape: \", images.shape)\n",
    "print(\"Labels shape: \", labels.shape)\n",
    "\n",
    "# get the class labels for each image\n",
    "class_labels = [classes[lab] for lab in labels]\n",
    "\n",
    "# log embeddings\n",
    "features = images.view(-1, 28 * 28)\n",
    "writer.add_embedding(features,\n",
    "                    metadata=class_labels,\n",
    "                    label_img=images)\n",
    "writer.close()"
   ]
  },
  {
   "cell_type": "code",
   "execution_count": 82,
   "id": "521483c9",
   "metadata": {},
   "outputs": [],
   "source": [
    "# helper functions\n",
    "\n",
    "def images_to_probs(net, images, top_margin, bottom_margin):\n",
    "    '''\n",
    "    Generates predictions and corresponding probabilities from a trained\n",
    "    network and a list of images\n",
    "    '''\n",
    "    output = net(images, top_margin, bottom_margin)\n",
    "    # convert output probabilities to predicted class\n",
    "\n",
    "    output = output.cpu()\n",
    "\n",
    "    _, preds_tensor = torch.max(output, 1)\n",
    "    preds = np.squeeze(preds_tensor.numpy())\n",
    "    return preds, [F.softmax(el, dim=0)[i].item() for i, el in zip(preds, output)]\n",
    "\n",
    "\n",
    "def plot_classes_preds(net, images, labels, top_margin, bottom_margin):\n",
    "    '''\n",
    "    Generates matplotlib Figure using a trained network, along with images\n",
    "    and labels from a batch, that shows the network's top prediction along\n",
    "    with its probability, alongside the actual label, coloring this\n",
    "    information based on whether the prediction was correct or not.\n",
    "    Uses the \"images_to_probs\" function.\n",
    "    '''\n",
    "    preds, probs = images_to_probs(net, images, top_margin, bottom_margin)\n",
    "    # plot the images in the batch, along with predicted and true labels\n",
    "\n",
    "    images = images.cpu()\n",
    "\n",
    "    fig = plt.figure(figsize=(12, 48))\n",
    "    for idx in np.arange(4):\n",
    "        ax = fig.add_subplot(1, 4, idx+1, xticks=[], yticks=[])\n",
    "        matplotlib_imshow(images[idx], one_channel=True)\n",
    "        ax.set_title(\"{0}, {1:.1f}%\\n(label: {2})\".format(\n",
    "            classes[preds[idx]],\n",
    "            probs[idx] * 100.0,\n",
    "            classes[labels[idx]]),\n",
    "                    color=(\"green\" if preds[idx]==labels[idx].item() else \"red\"))\n",
    "    return fig"
   ]
  },
  {
   "cell_type": "code",
   "execution_count": 83,
   "id": "f089486f",
   "metadata": {},
   "outputs": [],
   "source": [
    "class AverageValueMeter():\n",
    "    def __init__(self):\n",
    "        self.reset()\n",
    "    \n",
    "    def reset(self):\n",
    "        self.sum = 0\n",
    "        self.num = 0\n",
    "    \n",
    "    def add(self, value, num):\n",
    "        self.sum += value * num\n",
    "        self.num += num\n",
    "    \n",
    "    def value(self):\n",
    "        try:\n",
    "            return self.sum / self.num\n",
    "        except:\n",
    "            return None"
   ]
  },
  {
   "cell_type": "code",
   "execution_count": 89,
   "id": "4aa3885c",
   "metadata": {},
   "outputs": [],
   "source": [
    "loss_meter = AverageValueMeter()\n",
    "accuracy_meter = AverageValueMeter()\n",
    "\n",
    "epochs = 10\n",
    "\n",
    "loader = {\n",
    "    'train': trainloader,\n",
    "    'val': valloader,\n",
    "    'test': testloader\n",
    "}"
   ]
  },
  {
   "cell_type": "code",
   "execution_count": 90,
   "id": "5753afe8",
   "metadata": {},
   "outputs": [
    {
     "data": {
      "text/plain": [
       "[{'learning_rate': 0.005, 'dropout': 0.3, 'momentum': 0.9},\n",
       " {'learning_rate': 0.005, 'dropout': 0.4, 'momentum': 0.0},\n",
       " {'learning_rate': 0.005, 'dropout': 0.4, 'momentum': 0.5},\n",
       " {'learning_rate': 0.005, 'dropout': 0.4, 'momentum': 0.9},\n",
       " {'learning_rate': 0.005, 'dropout': 0.5, 'momentum': 0.0}]"
      ]
     },
     "execution_count": 90,
     "metadata": {},
     "output_type": "execute_result"
    }
   ],
   "source": [
    "import re\n",
    "\n",
    "with open('validation_parameters.json', 'r') as f:\n",
    "    content = f.read()\n",
    "    # Remove multiline comments (/* ... */)\n",
    "    content = re.sub(r'/\\*.*?\\*/', '', content, flags=re.DOTALL)\n",
    "    configurations = json.loads(content)\n",
    "\n",
    "configurations[:5]"
   ]
  },
  {
   "cell_type": "code",
   "execution_count": 93,
   "id": "016dd3c7",
   "metadata": {},
   "outputs": [],
   "source": [
    "configurations = [\n",
    "\t{\n",
    "\t\t\"start_epoch\": 0,\n",
    "\t\t\"run_name_prefix\": \"exps5\",\n",
    "\t\t\"weight_name\": \"exps5\",\n",
    "        \"learning_rate\": 0.03,\n",
    "        \"dropout\": 0.2,\n",
    "        \"momentum\": 0.7\n",
    "    }\n",
    "]"
   ]
  },
  {
   "cell_type": "code",
   "execution_count": null,
   "id": "13499442",
   "metadata": {},
   "outputs": [
    {
     "name": "stdout",
     "output_type": "stream",
     "text": [
      "=============================================================\n",
      "CONFIGURATION:  {'start_epoch': 0, 'run_name_prefix': 'exps5', 'weight_name': 'exps5', 'learning_rate': 0.03, 'dropout': 0.2, 'momentum': 0.7}\n",
      "\n",
      "Epoch 1\n",
      "\t[train]\tLoss: 0.7958, Accuracy: 0.7597\n",
      "\t[val]\tLoss: 0.9136, Accuracy: 0.8149\n",
      "\n",
      "Epoch 2\n",
      "\t[train]\tLoss: 0.1145, Accuracy: 0.9478\n",
      "\t[val]\tLoss: 1.4133, Accuracy: 0.8133\n",
      "\n",
      "Epoch 3\n",
      "\t[train]\tLoss: 0.0766, Accuracy: 0.9681\n",
      "\t[val]\tLoss: 1.7788, Accuracy: 0.7935\n",
      "\n",
      "Epoch 4\n",
      "\t[train]\tLoss: 0.0482, Accuracy: 0.9796\n",
      "\t[val]\tLoss: 1.9582, Accuracy: 0.8191\n",
      "\n",
      "Epoch 5\n",
      "\t[train]\tLoss: 0.0423, Accuracy: 0.9829\n",
      "\t[val]\tLoss: 2.1693, Accuracy: 0.7967\n",
      "\n",
      "Epoch 6\n",
      "\t[train]\tLoss: 0.0465, Accuracy: 0.9828\n",
      "\t[val]\tLoss: 2.3931, Accuracy: 0.8157\n",
      "\n",
      "Epoch 7\n",
      "\t[train]\tLoss: 0.0256, Accuracy: 0.9886\n",
      "\t[val]\tLoss: 2.5190, Accuracy: 0.8085\n",
      "\n",
      "Epoch 8\n",
      "\t[train]\tLoss: 0.0160, Accuracy: 0.9924\n",
      "\t[val]\tLoss: 2.3090, Accuracy: 0.8098\n",
      "\n",
      "Epoch 9\n",
      "\t[train]\tLoss: 0.0204, Accuracy: 0.9911\n",
      "\t[val]\tLoss: 2.8367, Accuracy: 0.8144\n",
      "\n",
      "Epoch 10\n",
      "\t[train]\tLoss: 0.0105, Accuracy: 0.9944\n",
      "\t[val]\tLoss: 2.9912, Accuracy: 0.8101\n",
      "=============================================================\n"
     ]
    }
   ],
   "source": [
    "results = []\n",
    "\n",
    "torch.xpu.is_available = lambda: False  # Simulate XPU availability for this example\n",
    "\n",
    "for conf in configurations:\n",
    "    net = ImageToStringNet(dropout_rate=conf['dropout'])\n",
    "    if torch.xpu.is_available():\n",
    "        net = net.xpu()\n",
    "        \n",
    "    optimizer = optim.SGD(net.parameters(), lr=conf['learning_rate'], momentum=conf['momentum'])\n",
    "\n",
    "    run_name = f\"lr{conf['learning_rate']}_drop{conf['dropout']}_momentum{conf['momentum']}\"\n",
    "    if \"run_name_prefix\" not in conf:\n",
    "        conf[\"run_name_prefix\"] = \"exps\"\n",
    "    writer = SummaryWriter(f'runs/{conf[\"run_name_prefix\"]}_{run_name}')\n",
    "\n",
    "\n",
    "    weights_name = conf.get(\"weight_name\", f'{run_name}') + '.pth'\n",
    "    weights_path = f'./weights/{weights_name}'\n",
    "    if os.path.exists(weights_path):\n",
    "        net.load_state_dict(torch.load(weights_path))\n",
    "\n",
    "    print('=============================================================')\n",
    "    print(\"CONFIGURATION: \", conf)\n",
    "\n",
    "    global_step = conf.get(\"start_epoch\", 0)\n",
    "    for epoch in range(conf.get(\"start_epoch\", 0), conf.get(\"start_epoch\", 0) + epochs):\n",
    "        print(f'\\nEpoch {epoch + 1}')\n",
    "        global_step += 1\n",
    "        for mode in [\"train\", \"val\"]:\n",
    "            loss_meter.reset()\n",
    "            accuracy_meter.reset()\n",
    "            for i, data in enumerate(loader[mode]):\n",
    "                with torch.set_grad_enabled(mode == \"train\"):\n",
    "                    inputs, labels, t, b = data\n",
    "                    if torch.xpu.is_available():\n",
    "                        inputs, labels, t, b = inputs.xpu(), labels.xpu(), t.xpu(), b.xpu()\n",
    "\n",
    "                    if mode == \"val\":\n",
    "                        net.eval()\n",
    "\n",
    "                    outputs = net(inputs, t, b)\n",
    "                    loss = criterion(outputs, labels)\n",
    "\n",
    "                    if mode == \"train\":\n",
    "                        loss.backward()\n",
    "                        optimizer.step()\n",
    "                        optimizer.zero_grad()\n",
    "\n",
    "                    loss_meter.add(loss.item(), inputs.size(0))\n",
    "                    accuracy_meter.add(accuracy_score(labels.cpu(), outputs.cpu().max(1)[1]), inputs.size(0))\n",
    "\n",
    "                    #if i % 10 == 9:\n",
    "            writer.add_scalar(f'loss/{mode}', loss_meter.value(), global_step)\n",
    "            writer.add_scalar(f'accuracy/{mode}', accuracy_meter.value(), global_step)\n",
    "\n",
    "            print(f'\\t[{mode}]\\tLoss: {loss_meter.value():.4f}, Accuracy: {accuracy_meter.value():.4f}')\n",
    "\n",
    "        writer.add_figure('predictions vs. actuals',\n",
    "                          plot_classes_preds(net, inputs, labels, t, b),\n",
    "                          global_step)\n",
    "    \n",
    "    torch.save(net.state_dict(), weights_path)\n",
    "\n",
    "    print('=============================================================')"
   ]
  },
  {
   "cell_type": "markdown",
   "id": "168bb007",
   "metadata": {},
   "source": [
    "# Evaluation"
   ]
  },
  {
   "cell_type": "code",
   "execution_count": 102,
   "id": "c6732f68",
   "metadata": {},
   "outputs": [
    {
     "data": {
      "text/plain": [
       "<All keys matched successfully>"
      ]
     },
     "execution_count": 102,
     "metadata": {},
     "output_type": "execute_result"
    }
   ],
   "source": [
    "net = ImageToStringNet(dropout_rate=0.2) # dropout rate dell'exps5\n",
    "net.load_state_dict(torch.load(weights_path))"
   ]
  },
  {
   "cell_type": "code",
   "execution_count": 104,
   "id": "2477e987",
   "metadata": {},
   "outputs": [
    {
     "data": {
      "text/plain": [
       "ImageToStringNet(\n",
       "  (feature_extractor): Sequential(\n",
       "    (0): Conv2d(1, 6, kernel_size=(5, 5), stride=(1, 1))\n",
       "    (1): MaxPool2d(kernel_size=2, stride=2, padding=0, dilation=1, ceil_mode=False)\n",
       "    (2): ReLU()\n",
       "    (3): Conv2d(6, 16, kernel_size=(5, 5), stride=(1, 1))\n",
       "    (4): MaxPool2d(kernel_size=2, stride=2, padding=0, dilation=1, ceil_mode=False)\n",
       "    (5): ReLU()\n",
       "  )\n",
       "  (classifier): Sequential(\n",
       "    (0): Dropout(p=0.2, inplace=False)\n",
       "    (1): Linear(in_features=258, out_features=120, bias=True)\n",
       "    (2): ReLU()\n",
       "    (3): Dropout(p=0.2, inplace=False)\n",
       "    (4): Linear(in_features=120, out_features=84, bias=True)\n",
       "    (5): ReLU()\n",
       "    (6): Linear(in_features=84, out_features=96, bias=True)\n",
       "  )\n",
       ")"
      ]
     },
     "execution_count": 104,
     "metadata": {},
     "output_type": "execute_result"
    }
   ],
   "source": [
    "net"
   ]
  },
  {
   "cell_type": "markdown",
   "id": "a91ee81e",
   "metadata": {},
   "source": [
    "## accuracy"
   ]
  },
  {
   "cell_type": "code",
   "execution_count": 113,
   "id": "d693e266",
   "metadata": {},
   "outputs": [
    {
     "name": "stdout",
     "output_type": "stream",
     "text": [
      "Test Loss: 1.6092\n",
      "Test Accuracy: 0.8554\n"
     ]
    }
   ],
   "source": [
    "loss_meter.reset()\n",
    "accuracy_meter.reset()\n",
    "\n",
    "net.eval()\n",
    "\n",
    "with torch.no_grad():\n",
    "    for data in testloader:\n",
    "        inputs, labels, t, b = data\n",
    "\n",
    "        outputs = net(inputs, t, b)\n",
    "        loss = criterion(outputs, labels)\n",
    "\n",
    "        loss_meter.add(loss.item(), inputs.size(0))\n",
    "        accuracy_meter.add(accuracy_score(labels.cpu(), outputs.cpu().max(1)[1]), inputs.size(0))\n",
    "\n",
    "print(f\"Test Loss: {loss_meter.value():.4f}\")\n",
    "print(f\"Test Accuracy: {accuracy_meter.value():.4f}\")"
   ]
  },
  {
   "cell_type": "code",
   "execution_count": 115,
   "id": "aab97060",
   "metadata": {},
   "outputs": [],
   "source": [
    "net.eval()\n",
    "\n",
    "writer = SummaryWriter(f'runs/exps5')\n",
    "with torch.no_grad():\n",
    "\n",
    "    all_inputs = []\n",
    "    all_labels = []\n",
    "    all_t = []\n",
    "    all_b = []\n",
    "\n",
    "    for inputs, labels, t, b in testloader:\n",
    "        all_inputs.append(inputs)\n",
    "        all_labels.append(labels)\n",
    "        all_t.append(t)\n",
    "        all_b.append(b)\n",
    "\n",
    "    # Concatenate all the collected tensors\n",
    "    inputs = torch.cat(all_inputs, dim=0)\n",
    "    labels = torch.cat(all_labels, dim=0)\n",
    "    t = torch.cat(all_t, dim=0)\n",
    "    b = torch.cat(all_b, dim=0)\n",
    "\n",
    "    # Now you have a single, merged batch\n",
    "    outputs = net(inputs, t, b)\n",
    "    loss = criterion(outputs, labels)\n",
    "\n",
    "    writer.add_figure('predictions vs. actuals', plot_classes_preds(net, inputs, labels, t, b), 0)\n"
   ]
  },
  {
   "cell_type": "markdown",
   "id": "bcdd79d7",
   "metadata": {},
   "source": [
    "## confusion matrix"
   ]
  },
  {
   "cell_type": "code",
   "execution_count": null,
   "id": "4375dfa3",
   "metadata": {},
   "outputs": [],
   "source": [
    "ground_truth = []\n",
    "results = []\n",
    "results_insenstive = []\n",
    "\n",
    "net.eval()\n",
    "\n",
    "with torch.no_grad():\n",
    "    for data in testloader:\n",
    "        inputs, labels, t, b = data\n",
    "\n",
    "        outputs = net(inputs, t, b)\n",
    "        loss = criterion(outputs, labels)\n",
    "\n",
    "        _, predicted = torch.max(outputs, 1)\n",
    "        results.extend([classes[pred] for pred in predicted])\n",
    "        results_insenstive.extend([classes[pred].upper() for pred in predicted])\n",
    "\n",
    "\n",
    "        ground_truth.extend([classes[label] for label in labels])\n"
   ]
  },
  {
   "cell_type": "code",
   "execution_count": 108,
   "id": "c3142369",
   "metadata": {},
   "outputs": [
    {
     "data": {
      "text/plain": [
       "{'Status': True,\n",
       " 'Message': '/home/teogalletta/Documents/university-ml-imgtostr/src/../docs/assets/confusion_matrix_report.html'}"
      ]
     },
     "execution_count": 108,
     "metadata": {},
     "output_type": "execute_result"
    }
   ],
   "source": [
    "cm = ConfusionMatrix(actual_vector=ground_truth, predict_vector=results)\n",
    "\n",
    "cm.save_html(\"../docs/assets/confusion_matrix_report\", color=(100, 150, 255))  # Blu chiaro"
   ]
  },
  {
   "cell_type": "code",
   "execution_count": 110,
   "id": "f1e2b428",
   "metadata": {},
   "outputs": [
    {
     "data": {
      "text/plain": [
       "{'Status': True,\n",
       " 'Message': '/home/teogalletta/Documents/university-ml-imgtostr/src/../docs/assets/confusion_matrix_report_upper.html'}"
      ]
     },
     "execution_count": 110,
     "metadata": {},
     "output_type": "execute_result"
    }
   ],
   "source": [
    "cm = ConfusionMatrix(actual_vector=ground_truth, predict_vector=results_insenstive)\n",
    "\n",
    "cm.save_html(\"../docs/assets/confusion_matrix_report_upper\", color=(100, 150, 255))  # Blu chiaro"
   ]
  }
 ],
 "metadata": {
  "kernelspec": {
   "display_name": ".venv",
   "language": "python",
   "name": "python3"
  },
  "language_info": {
   "codemirror_mode": {
    "name": "ipython",
    "version": 3
   },
   "file_extension": ".py",
   "mimetype": "text/x-python",
   "name": "python",
   "nbconvert_exporter": "python",
   "pygments_lexer": "ipython3",
   "version": "3.8.10"
  }
 },
 "nbformat": 4,
 "nbformat_minor": 5
}
