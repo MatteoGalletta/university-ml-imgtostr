{
  "nbformat": 4,
  "nbformat_minor": 0,
  "metadata": {
    "colab": {
      "provenance": []
    },
    "kernelspec": {
      "name": "python3",
      "display_name": "Python 3"
    },
    "language_info": {
      "name": "python"
    }
  },
  "cells": [
    {
      "cell_type": "code",
      "execution_count": 28,
      "metadata": {
        "id": "15G7ZLLn1Czr"
      },
      "outputs": [],
      "source": [
        "import cv2\n",
        "import matplotlib.pyplot as plt\n",
        "import numpy as np"
      ]
    },
    {
      "cell_type": "code",
      "source": [
        "image_path = '/content/marcogionfriddo.jpeg'"
      ],
      "metadata": {
        "id": "QQPId7Hc1PPD"
      },
      "execution_count": 29,
      "outputs": []
    },
    {
      "cell_type": "code",
      "source": [
        "image_bgr = cv2.imread(image_path)\n",
        "image_rgb = cv2.cvtColor(image_bgr, cv2.COLOR_BGR2RGB)"
      ],
      "metadata": {
        "id": "33TA3xueSViK"
      },
      "execution_count": 30,
      "outputs": []
    },
    {
      "cell_type": "code",
      "source": [
        "# i valori 200, 130 sono dei valori da ottimizzare il più possibile.\n",
        "def binarization(image_rgb, mean_thresh=127):\n",
        "\n",
        "  gray_image = cv2.cvtColor(image_bgr, cv2.COLOR_BGR2GRAY)\n",
        "\n",
        "  mean_intensity = np.mean(gray_image)\n",
        "\n",
        "  if mean_intensity > mean_thresh:\n",
        "    # sfondo chiaro, testo scuro -> testo bianco su sfondo nero\n",
        "    _, binary = cv2.threshold(gray_image, 200, 255, cv2.THRESH_BINARY_INV)\n",
        "  else:\n",
        "    # sfondo scuro, testo chiaro -> testo bianco su sfondo nero\n",
        "    _, binary = cv2.threshold(gray_image, 130, 255, cv2.THRESH_BINARY)\n",
        "\n",
        "  return binary"
      ],
      "metadata": {
        "id": "RSnqYiE8TJ3s"
      },
      "execution_count": 31,
      "outputs": []
    },
    {
      "cell_type": "code",
      "source": [
        "def segment_and_merge_characters(binary_img, orig_img=None, min_area=0, merge_threshold=0.5, vertical_gap_ratio=1.5):\n",
        "\n",
        "    # Esegui connected components\n",
        "    num_labels, labels, stats, centroids = cv2.connectedComponentsWithStats(binary_img)\n",
        "\n",
        "    # Copia dell'immagine originale o scala di grigi per il disegno\n",
        "    if orig_img is None:\n",
        "        draw_img = cv2.cvtColor(binary_img, cv2.COLOR_GRAY2BGR)\n",
        "    else:\n",
        "        draw_img = orig_img.copy()\n",
        "\n",
        "    bboxes = []\n",
        "    for label in range(1, num_labels):\n",
        "        x, y, w, h, area = stats[label]\n",
        "        if area >= min_area:\n",
        "            bboxes.append((x, y, w, h))\n",
        "\n",
        "    # Ordina le bbox da sinistra a destra\n",
        "    bboxes.sort(key=lambda box: box[0])\n",
        "\n",
        "    merged = [False] * len(bboxes)\n",
        "    new_bboxes = []\n",
        "\n",
        "    for i in range(len(bboxes)):\n",
        "        if merged[i]:\n",
        "            continue\n",
        "        x1, y1, w1, h1 = bboxes[i]\n",
        "        merged_box = [x1, y1, x1 + w1, y1 + h1]  # [x_min, y_min, x_max, y_max]\n",
        "\n",
        "        for j in range(i + 1, len(bboxes)):\n",
        "            if merged[j]:\n",
        "                continue\n",
        "            x2, y2, w2, h2 = bboxes[j]\n",
        "\n",
        "            # Calcolo sovrapposizione proiezioni verticali (asse x)\n",
        "            x_overlap = max(0, min(x1 + w1, x2 + w2) - max(x1, x2))\n",
        "            min_width = min(w1, w2)\n",
        "            overlap_ratio = x_overlap / min_width if min_width > 0 else 0\n",
        "\n",
        "            # Distanza verticale tra i bounding box\n",
        "            vertical_distance = abs(y2 - (y1 + h1)) if y2 > y1 else abs(y1 - (y2 + h2))\n",
        "            max_height = max(h1, h2)\n",
        "\n",
        "            if overlap_ratio >= merge_threshold and vertical_distance <= vertical_gap_ratio * max_height:\n",
        "                # Unione delle bbox\n",
        "                merged_box[0] = min(merged_box[0], x2)\n",
        "                merged_box[1] = min(merged_box[1], y2)\n",
        "                merged_box[2] = max(merged_box[2], x2 + w2)\n",
        "                merged_box[3] = max(merged_box[3], y2 + h2)\n",
        "                merged[j] = True\n",
        "\n",
        "        new_bboxes.append((\n",
        "            merged_box[0],\n",
        "            merged_box[1],\n",
        "            merged_box[2] - merged_box[0],\n",
        "            merged_box[3] - merged_box[1]\n",
        "        ))\n",
        "\n",
        "    # Disegna le bounding box sull'immagine\n",
        "    for x, y, w, h in new_bboxes:\n",
        "        cv2.rectangle(draw_img, (x, y), (x + w, y + h), (0, 255, 0), 0)\n",
        "\n",
        "    return new_bboxes, draw_img"
      ],
      "metadata": {
        "id": "j5TGkhMbpfev"
      },
      "execution_count": 32,
      "outputs": []
    },
    {
      "cell_type": "code",
      "source": [
        "binary = binarization(image_rgb)\n",
        "bboxes, boxed_img = segment_and_merge_characters(binary, orig_img=image_rgb)\n",
        "\n",
        "plt.figure(figsize=(6, 6))\n",
        "plt.imshow(boxed_img)\n",
        "plt.title('Segmentazione e Unione delle Bounding Box')\n",
        "plt.axis('off')\n",
        "plt.show()"
      ],
      "metadata": {
        "colab": {
          "base_uri": "https://localhost:8080/",
          "height": 156
        },
        "id": "MFQLkUnerdEN",
        "outputId": "73db4e78-99be-45d1-bed7-a293c1c64d67"
      },
      "execution_count": 33,
      "outputs": [
        {
          "output_type": "display_data",
          "data": {
            "text/plain": [
              "<Figure size 600x600 with 1 Axes>"
            ],
            "image/png": "[encoded data removed]"
          },
          "metadata": {}
        }
      ]
    }
  ]
}