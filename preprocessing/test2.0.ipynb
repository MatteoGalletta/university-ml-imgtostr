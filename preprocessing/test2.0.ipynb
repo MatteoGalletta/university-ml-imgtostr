{
  "nbformat": 4,
  "nbformat_minor": 0,
  "metadata": {
    "colab": {
      "provenance": []
    },
    "kernelspec": {
      "name": "python3",
      "display_name": "Python 3"
    },
    "language_info": {
      "name": "python"
    }
  },
  "cells": [
    {
      "cell_type": "code",
      "execution_count": 653,
      "metadata": {
        "id": "15G7ZLLn1Czr"
      },
      "outputs": [],
      "source": [
        "import cv2\n",
        "import matplotlib.pyplot as plt\n",
        "import numpy as np"
      ]
    },
    {
      "cell_type": "code",
      "source": [
        "image_path = '/content/carmelozios.png'"
      ],
      "metadata": {
        "id": "QQPId7Hc1PPD"
      },
      "execution_count": 654,
      "outputs": []
    },
    {
      "cell_type": "code",
      "source": [
        "image_bgr = cv2.imread(image_path)\n",
        "image_rgb = cv2.cvtColor(image_bgr, cv2.COLOR_BGR2RGB)"
      ],
      "metadata": {
        "id": "33TA3xueSViK"
      },
      "execution_count": 655,
      "outputs": []
    },
    {
      "cell_type": "code",
      "source": [
        "def preprocessing(image_bgr, mean_thresh=127, to_binary=False):\n",
        "    # Converti in scala di grigi\n",
        "    gray = cv2.cvtColor(image_bgr, cv2.COLOR_BGR2GRAY)\n",
        "\n",
        "    # Normalizza tra 0 e 255\n",
        "    gray_norm = cv2.normalize(gray, None, alpha=0, beta=255, norm_type=cv2.NORM_MINMAX)\n",
        "\n",
        "    # Calcola la media d’intensità\n",
        "    mean_intensity = np.mean(gray_norm)\n",
        "\n",
        "    # Inversione se sfondo chiaro\n",
        "    if mean_intensity > mean_thresh:\n",
        "        gray_norm = cv2.bitwise_not(gray_norm)\n",
        "\n",
        "    if to_binary:\n",
        "        _, binary = cv2.threshold(gray_norm, 155, 255, cv2.THRESH_BINARY)\n",
        "        return binary\n",
        "\n",
        "    return gray_norm"
      ],
      "metadata": {
        "id": "6PMAhCprwLG0"
      },
      "execution_count": 656,
      "outputs": []
    },
    {
      "cell_type": "code",
      "source": [
        "def segment_and_analyze(binary_img, orig_img=None, min_area=0, merge_threshold=0.5, vertical_gap_ratio=1.5):\n",
        "\n",
        "    num_labels, labels, stats, centroids = cv2.connectedComponentsWithStats(binary_img)\n",
        "\n",
        "    if orig_img is None:\n",
        "        draw_img = cv2.cvtColor(binary_img, cv2.COLOR_GRAY2BGR)\n",
        "    else:\n",
        "        draw_img = orig_img.copy()\n",
        "\n",
        "    bboxes = []\n",
        "    for label in range(1, num_labels):\n",
        "        x, y, w, h, area = stats[label]\n",
        "        if area >= min_area:\n",
        "            bboxes.append((x, y, w, h))\n",
        "\n",
        "    bboxes.sort(key=lambda box: box[0])\n",
        "\n",
        "    merged = [False] * len(bboxes)\n",
        "    new_bboxes = []\n",
        "\n",
        "    for i in range(len(bboxes)):\n",
        "        if merged[i]:\n",
        "            continue\n",
        "        x1, y1, w1, h1 = bboxes[i]\n",
        "        merged_box = [x1, y1, x1 + w1, y1 + h1]\n",
        "\n",
        "        for j in range(i + 1, len(bboxes)):\n",
        "            if merged[j]:\n",
        "                continue\n",
        "            x2, y2, w2, h2 = bboxes[j]\n",
        "            x_overlap = max(0, min(x1 + w1, x2 + w2) - max(x1, x2))\n",
        "            min_width = min(w1, w2)\n",
        "            overlap_ratio = x_overlap / min_width if min_width > 0 else 0\n",
        "            vertical_distance = abs(y2 - (y1 + h1)) if y2 > y1 else abs(y1 - (y2 + h2))\n",
        "            max_height = max(h1, h2)\n",
        "\n",
        "            if overlap_ratio >= merge_threshold and vertical_distance <= vertical_gap_ratio * max_height:\n",
        "                merged_box[0] = min(merged_box[0], x2)\n",
        "                merged_box[1] = min(merged_box[1], y2)\n",
        "                merged_box[2] = max(merged_box[2], x2 + w2)\n",
        "                merged_box[3] = max(merged_box[3], y2 + h2)\n",
        "                merged[j] = True\n",
        "\n",
        "        final_box = (\n",
        "            merged_box[0],\n",
        "            merged_box[1],\n",
        "            merged_box[2] - merged_box[0],\n",
        "            merged_box[3] - merged_box[1]\n",
        "        )\n",
        "        new_bboxes.append(final_box)\n",
        "        cv2.rectangle(draw_img, (final_box[0], final_box[1]), (final_box[0] + final_box[2], final_box[1] + final_box[3]), (0, 255, 0), 1)\n",
        "\n",
        "    # Bounding box generale della parola\n",
        "    x_min = min(x for x, y, w, h in new_bboxes)\n",
        "    y_min = min(y for x, y, w, h in new_bboxes)\n",
        "    x_max = max(x + w for x, y, w, h in new_bboxes)\n",
        "    y_max = max(y + h for x, y, w, h in new_bboxes)\n",
        "    word_bbox = (x_min, y_min, x_max - x_min, y_max - y_min)\n",
        "\n",
        "    word_height = y_max - y_min\n",
        "\n",
        "    # Disegna la bounding box della parola\n",
        "    cv2.rectangle(draw_img, (x_min, y_min), (x_max, y_max), (255, 0, 0), 1)\n",
        "\n",
        "    # Calcola le distanze in percentuale top e bottom, orizzontale in pixel\n",
        "    distanze_verticali_top_pct = []\n",
        "    distanze_verticali_bottom_pct = []\n",
        "    distanze_orizzontali = []\n",
        "\n",
        "    for i, (x, y, w, h) in enumerate(new_bboxes):\n",
        "        dist_top_pct = 100 * (y - y_min) / word_height if word_height > 0 else 0\n",
        "        dist_bottom_pct = 100 * (y_max - (y + h)) / word_height if word_height > 0 else 0\n",
        "        distanze_verticali_top_pct.append(dist_top_pct)\n",
        "        distanze_verticali_bottom_pct.append(dist_bottom_pct)\n",
        "\n",
        "        if i < len(new_bboxes) - 1:\n",
        "            x2, _, _, _ = new_bboxes[i + 1]\n",
        "            distanza_dx = x2 - (x + w)\n",
        "            distanze_orizzontali.append(distanza_dx)\n",
        "        else:\n",
        "            distanze_orizzontali.append(None)\n",
        "\n",
        "    return new_bboxes, draw_img, word_bbox, distanze_verticali_top_pct, distanze_verticali_bottom_pct, distanze_orizzontali"
      ],
      "metadata": {
        "id": "zCbe2_mWizzV"
      },
      "execution_count": 657,
      "outputs": []
    },
    {
      "cell_type": "code",
      "source": [
        "def extract_letters(gray_image, bboxes):\n",
        "    letter_imgs = []\n",
        "    for x, y, w, h in bboxes:\n",
        "\n",
        "        cropped = gray_image[y:y+h, x:x+w]  # immagine in scala di grigi\n",
        "\n",
        "        # Resize proporzionale\n",
        "        if w > h:\n",
        "            scale = 28 / w\n",
        "            new_w = 28\n",
        "            new_h = int(h * scale)\n",
        "        else:\n",
        "            scale = 28 / h\n",
        "            new_h = 28\n",
        "            new_w = int(w * scale)\n",
        "\n",
        "        resized = cv2.resize(cropped, (new_w, new_h), interpolation=cv2.INTER_AREA)\n",
        "\n",
        "        # Canvas nero (1 canale)\n",
        "        canvas = np.zeros((28, 28), dtype=np.uint8)\n",
        "\n",
        "        # Centra la lettera\n",
        "        x_offset = (28 - new_w) // 2\n",
        "        y_offset = (28 - new_h) // 2\n",
        "        canvas[y_offset:y_offset + new_h, x_offset:x_offset + new_w] = resized\n",
        "\n",
        "        letter_imgs.append(canvas)\n",
        "    return letter_imgs"
      ],
      "metadata": {
        "id": "BOKmLGphp7CE"
      },
      "execution_count": 658,
      "outputs": []
    },
    {
      "cell_type": "code",
      "source": [
        "binary = preprocessing(image_rgb, mean_thresh=127, to_binary=True)\n",
        "bboxes, img_out, bbox_parola, dist_top, dist_bottom, dist_orizz = segment_and_analyze(binary, image_rgb)\n",
        "\n",
        "plt.figure(figsize=(6, 6))\n",
        "plt.imshow(img_out)\n",
        "plt.title('Segmentazione e Unione delle Bounding Box')\n",
        "plt.axis('off')\n",
        "plt.show()\n",
        "\n",
        "gray_image = preprocessing(image_rgb, mean_thresh=127, to_binary=False)\n",
        "letters_28x28 = extract_letters(gray_image, bboxes)\n",
        "plt.imshow(letters_28x28[7], cmap='gray')\n",
        "print(f\"Distanza top (in %): {dist_top[1]}\")\n",
        "print(f\"Distanza bottom (in %): {dist_bottom[1]}\")\n",
        "print(f\"Distanza orizzontale (in pixel) alla lettera successiva: {dist_orizz[1]}\")\n",
        "plt.axis('off')\n",
        "plt.show()"
      ],
      "metadata": {
        "colab": {
          "base_uri": "https://localhost:8080/",
          "height": 613
        },
        "id": "MFQLkUnerdEN",
        "outputId": "76b0d554-9d87-4ad7-adcd-99e5b3e7c4e7"
      },
      "execution_count": 659,
      "outputs": [
        {
          "output_type": "display_data",
          "data": {
            "text/plain": [
              "<Figure size 600x600 with 1 Axes>"
            ],
            "image/png": "[encoded data removed]"
          },
          "metadata": {}
        },
        {
          "output_type": "stream",
          "name": "stdout",
          "text": [
            "Distanza top (in %): 26.984126984126984\n",
            "Distanza bottom (in %): 0.0\n",
            "Distanza orizzontale (in pixel) alla lettera successiva: 12\n"
          ]
        },
        {
          "output_type": "display_data",
          "data": {
            "text/plain": [
              "<Figure size 640x480 with 1 Axes>"
            ],
            "image/png": "[encoded data removed]"
          },
          "metadata": {}
        }
      ]
    }
  ]
}