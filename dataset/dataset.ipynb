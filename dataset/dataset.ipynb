{
 "cells": [
  {
   "cell_type": "markdown",
   "metadata": {
    "id": "DSjc0u7qswIC"
   },
   "source": [
    "# Creazione dataset"
   ]
  },
  {
   "cell_type": "markdown",
   "metadata": {
    "id": "KeU4tY1_qDRC"
   },
   "source": [
    "## generazione immagini"
   ]
  },
  {
   "cell_type": "code",
   "execution_count": 6,
   "metadata": {
    "colab": {
     "base_uri": "https://localhost:8080/"
    },
    "executionInfo": {
     "elapsed": 2727,
     "status": "ok",
     "timestamp": 1745844101601,
     "user": {
      "displayName": "Kevin Speranza",
      "userId": "02783167933473171546"
     },
     "user_tz": -120
    },
    "id": "TYgPWv1wWf7W",
    "outputId": "76bc096a-3912-4d30-dc98-aba7aacc49b4"
   },
   "outputs": [
    {
     "name": "stdout",
     "output_type": "stream",
     "text": [
      "Requirement already satisfied: Pillow in /home/kevin/.pyenv/versions/3.8.10/lib/python3.8/site-packages (10.4.0)\n",
      "Requirement already satisfied: numpy in /home/kevin/.pyenv/versions/3.8.10/lib/python3.8/site-packages (1.24.4)\n",
      "Requirement already satisfied: pandas in /home/kevin/.pyenv/versions/3.8.10/lib/python3.8/site-packages (2.0.3)\n",
      "Requirement already satisfied: torch in /home/kevin/.pyenv/versions/3.8.10/lib/python3.8/site-packages (2.4.1)\n",
      "Collecting torchvision\n",
      "  Downloading torchvision-0.19.1-cp38-cp38-manylinux1_x86_64.whl (7.0 MB)\n",
      "\u001b[K     |████████████████████████████████| 7.0 MB 1.0 MB/s eta 0:00:01\n",
      "\u001b[?25hRequirement already satisfied: tzdata>=2022.1 in /home/kevin/.pyenv/versions/3.8.10/lib/python3.8/site-packages (from pandas) (2025.2)\n",
      "Requirement already satisfied: python-dateutil>=2.8.2 in /home/kevin/.pyenv/versions/3.8.10/lib/python3.8/site-packages (from pandas) (2.9.0.post0)\n",
      "Requirement already satisfied: pytz>=2020.1 in /home/kevin/.pyenv/versions/3.8.10/lib/python3.8/site-packages (from pandas) (2025.2)\n",
      "Requirement already satisfied: six>=1.5 in /home/kevin/.pyenv/versions/3.8.10/lib/python3.8/site-packages (from python-dateutil>=2.8.2->pandas) (1.17.0)\n",
      "Requirement already satisfied: nvidia-cusparse-cu12==12.1.0.106 in /home/kevin/.pyenv/versions/3.8.10/lib/python3.8/site-packages (from torch) (12.1.0.106)\n",
      "Requirement already satisfied: triton==3.0.0 in /home/kevin/.pyenv/versions/3.8.10/lib/python3.8/site-packages (from torch) (3.0.0)\n",
      "Requirement already satisfied: nvidia-cublas-cu12==12.1.3.1 in /home/kevin/.pyenv/versions/3.8.10/lib/python3.8/site-packages (from torch) (12.1.3.1)\n",
      "Requirement already satisfied: nvidia-cusolver-cu12==11.4.5.107 in /home/kevin/.pyenv/versions/3.8.10/lib/python3.8/site-packages (from torch) (11.4.5.107)\n",
      "Requirement already satisfied: networkx in /home/kevin/.pyenv/versions/3.8.10/lib/python3.8/site-packages (from torch) (3.1)\n",
      "Requirement already satisfied: filelock in /home/kevin/.pyenv/versions/3.8.10/lib/python3.8/site-packages (from torch) (3.16.1)\n",
      "Requirement already satisfied: nvidia-cufft-cu12==11.0.2.54 in /home/kevin/.pyenv/versions/3.8.10/lib/python3.8/site-packages (from torch) (11.0.2.54)\n",
      "Requirement already satisfied: typing-extensions>=4.8.0 in /home/kevin/.pyenv/versions/3.8.10/lib/python3.8/site-packages (from torch) (4.12.2)\n",
      "Requirement already satisfied: nvidia-cudnn-cu12==9.1.0.70 in /home/kevin/.pyenv/versions/3.8.10/lib/python3.8/site-packages (from torch) (9.1.0.70)\n",
      "Requirement already satisfied: nvidia-nvtx-cu12==12.1.105 in /home/kevin/.pyenv/versions/3.8.10/lib/python3.8/site-packages (from torch) (12.1.105)\n",
      "Requirement already satisfied: sympy in /home/kevin/.pyenv/versions/3.8.10/lib/python3.8/site-packages (from torch) (1.13.3)\n",
      "Requirement already satisfied: jinja2 in /home/kevin/.pyenv/versions/3.8.10/lib/python3.8/site-packages (from torch) (3.1.6)\n",
      "Requirement already satisfied: nvidia-cuda-runtime-cu12==12.1.105 in /home/kevin/.pyenv/versions/3.8.10/lib/python3.8/site-packages (from torch) (12.1.105)\n",
      "Requirement already satisfied: nvidia-cuda-nvrtc-cu12==12.1.105 in /home/kevin/.pyenv/versions/3.8.10/lib/python3.8/site-packages (from torch) (12.1.105)\n",
      "Requirement already satisfied: nvidia-cuda-cupti-cu12==12.1.105 in /home/kevin/.pyenv/versions/3.8.10/lib/python3.8/site-packages (from torch) (12.1.105)\n",
      "Requirement already satisfied: nvidia-curand-cu12==10.3.2.106 in /home/kevin/.pyenv/versions/3.8.10/lib/python3.8/site-packages (from torch) (10.3.2.106)\n",
      "Requirement already satisfied: fsspec in /home/kevin/.pyenv/versions/3.8.10/lib/python3.8/site-packages (from torch) (2025.3.0)\n",
      "Requirement already satisfied: nvidia-nccl-cu12==2.20.5 in /home/kevin/.pyenv/versions/3.8.10/lib/python3.8/site-packages (from torch) (2.20.5)\n",
      "Requirement already satisfied: nvidia-nvjitlink-cu12 in /home/kevin/.pyenv/versions/3.8.10/lib/python3.8/site-packages (from nvidia-cusolver-cu12==11.4.5.107->torch) (12.8.93)\n",
      "Requirement already satisfied: MarkupSafe>=2.0 in /home/kevin/.pyenv/versions/3.8.10/lib/python3.8/site-packages (from jinja2->torch) (2.1.5)\n",
      "Requirement already satisfied: mpmath<1.4,>=1.1.0 in /home/kevin/.pyenv/versions/3.8.10/lib/python3.8/site-packages (from sympy->torch) (1.3.0)\n",
      "Installing collected packages: torchvision\n",
      "Successfully installed torchvision-0.19.1\n",
      "\u001b[33mWARNING: You are using pip version 21.1.1; however, version 25.0.1 is available.\n",
      "You should consider upgrading via the '/home/kevin/.pyenv/versions/3.8.10/bin/python3.8 -m pip install --upgrade pip' command.\u001b[0m\n"
     ]
    }
   ],
   "source": [
    "!pip install Pillow numpy pandas torch torchvision"
   ]
  },
  {
   "cell_type": "code",
   "execution_count": 1,
   "metadata": {
    "executionInfo": {
     "elapsed": 8,
     "status": "ok",
     "timestamp": 1745849565093,
     "user": {
      "displayName": "Kevin Speranza",
      "userId": "02783167933473171546"
     },
     "user_tz": -120
    },
    "id": "h2OgSQhQZqbw"
   },
   "outputs": [],
   "source": [
    "dataset_dir = f\"./digit_dataset\""
   ]
  },
  {
   "cell_type": "code",
   "execution_count": 2,
   "metadata": {
    "executionInfo": {
     "elapsed": 2,
     "status": "ok",
     "timestamp": 1745850736367,
     "user": {
      "displayName": "Kevin Speranza",
      "userId": "02783167933473171546"
     },
     "user_tz": -120
    },
    "id": "VstILoDufh8S"
   },
   "outputs": [],
   "source": [
    "from PIL import Image, ImageDraw, ImageFont\n",
    "import os, numpy as np, pandas as pd, torch\n",
    "import random\n",
    "from torch.utils.data.dataset import Dataset\n",
    "import torchvision.transforms as transforms # Import the transforms module"
   ]
  },
  {
   "cell_type": "markdown",
   "metadata": {},
   "source": [
    "predisporre all'interno della cartella `./fonts` i font da cui verranno generati i caratteri"
   ]
  },
  {
   "cell_type": "code",
   "execution_count": 3,
   "metadata": {
    "executionInfo": {
     "elapsed": 46,
     "status": "ok",
     "timestamp": 1745848557657,
     "user": {
      "displayName": "Kevin Speranza",
      "userId": "02783167933473171546"
     },
     "user_tz": -120
    },
    "id": "xMxYMxhWfxJL"
   },
   "outputs": [],
   "source": [
    "# Parametri\n",
    "chars_to_generate = np.array(list(\"ABCDEFGHIJKLMNOPQRSTUVWXYZabcdefghijklmnopqrstuvwxyz0123456789\"))\n",
    "\n",
    "img_size = (28, 28)\n",
    "\n",
    "fonts_path = [os.path.join(f\"./fonts\", file) for file in os.listdir(f\"./fonts\") if file.endswith(\".ttf\")]\n",
    "fonts_name = [os.path.splitext(os.path.basename(file))[0] for file in fonts_path]\n",
    "\n",
    "font_size = 20\n",
    "\n",
    "colors = np.array([\"white\", \"black\", \"red\", \"blue\", \"green\", \"yellow\"])\n",
    "text_colors = colors\n",
    "background_colors = colors"
   ]
  },
  {
   "cell_type": "code",
   "execution_count": 4,
   "metadata": {
    "executionInfo": {
     "elapsed": 10,
     "status": "ok",
     "timestamp": 1745848560020,
     "user": {
      "displayName": "Kevin Speranza",
      "userId": "02783167933473171546"
     },
     "user_tz": -120
    },
    "id": "nEulM3-jf7TR"
   },
   "outputs": [],
   "source": [
    "# Crea la directory principale\n",
    "if not os.path.exists(dataset_dir):\n",
    "    os.makedirs(dataset_dir)"
   ]
  },
  {
   "cell_type": "code",
   "execution_count": 51,
   "metadata": {
    "colab": {
     "base_uri": "https://localhost:8080/"
    },
    "executionInfo": {
     "elapsed": 27924,
     "status": "ok",
     "timestamp": 1745850174223,
     "user": {
      "displayName": "Kevin Speranza",
      "userId": "02783167933473171546"
     },
     "user_tz": -120
    },
    "id": "BjEp10gDaPgB",
    "outputId": "615eec59-13cb-48d7-f048-9e3e3ce070ee"
   },
   "outputs": [
    {
     "name": "stdout",
     "output_type": "stream",
     "text": [
      "Roboto-Medium\n",
      "Muli\n",
      "Sansation-Light\n",
      "Oswald-Heavy\n",
      "PTN57F\n",
      "Oswald-DemiBold\n",
      "Antonio-Light\n",
      "Lato-Black\n",
      "PTN77F\n",
      "Sansation-Regular\n",
      "JosefinSans-Bold\n",
      "PTS75F\n",
      "Lato-Semibold\n",
      "Oswald-Bold\n",
      "Oswald-Light\n",
      "OpenSans-Regular\n",
      "PTC55F\n",
      "Antonio-Regular\n",
      "Muli-Light\n",
      "RobotoCondensed-Light\n",
      "Muli-Bold\n",
      "Lato-Heavy\n",
      "Roboto-Thin\n",
      "JosefinSans-Thin\n",
      "Lato-Thin\n",
      "Lato-Bold\n",
      "RobotoCondensed-Regular\n",
      "Caviar_Dreams_Bold\n",
      "Roboto-Black\n",
      "JosefinSans-Regular\n",
      "OpenSans-Light\n",
      "OpenSans-ExtraBold\n",
      "Oswald-ExtraLight\n",
      "Roboto-Regular\n",
      "JosefinSans-SemiBold\n",
      "PTC75F\n",
      "Oswald-Stencil\n",
      "Antonio-Bold\n",
      "Muli-ExtraLight\n",
      "Roboto-Bold\n",
      "Oswald-Medium\n",
      "JosefinSans-Light\n",
      "OpenSans-Bold\n",
      "Lato-Medium\n",
      "PTS56F\n",
      "PTS55F\n",
      "Courier Prime\n",
      "Oswald-Regular\n",
      "Lato-Light\n",
      "Lato-Regular\n",
      "OpenSans-Semibold\n",
      "Muli-SemiBold\n",
      "RobotoCondensed-Bold\n",
      "Roboto-Light\n",
      "Lato-Hairline\n",
      "ostrich-regular\n",
      "CaviarDreams\n",
      "Courier Prime Bold\n",
      "Sansation-Bold\n",
      "Dataset generato in: ./digit_dataset\n"
     ]
    }
   ],
   "source": [
    "dataset_file = os.path.join(dataset_dir, \"dataset.txt\")\n",
    "\n",
    "# Apri dataset.txt una sola volta in modalità scrittura\n",
    "with open(dataset_file, \"w\", encoding=\"utf-8\") as f:\n",
    "\tfor path in fonts_path:\n",
    "\t\tfont_name = os.path.splitext(os.path.basename(path))[0]\n",
    "\t\tprint(font_name)\n",
    "\n",
    "\t\tfor char in chars_to_generate:\n",
    "\t\t\tchar_dir = os.path.join(dataset_dir, char)\n",
    "\t\t\tif not os.path.exists(char_dir):\n",
    "\t\t\t\tos.makedirs(char_dir)\n",
    "\n",
    "\t\t\tfor text_color in text_colors:\n",
    "\t\t\t\tfor background_color in background_colors:\n",
    "\t\t\t\t\tif text_color == background_color:\n",
    "\t\t\t\t\t\tcontinue\n",
    "\n",
    "\t\t\t\t\tfont = ImageFont.truetype(path, font_size)\n",
    "\n",
    "\t\t\t\t\t# Crea una nuova immagine per il carattere\n",
    "\t\t\t\t\timg = Image.new('RGB', img_size, color=background_color)\n",
    "\t\t\t\t\tdraw = ImageDraw.Draw(img)\n",
    "\n",
    "\t\t\t\t\t# Centra il testo nell'immagine\n",
    "\t\t\t\t\ttry:\n",
    "\t\t\t\t\t\tbbox = draw.textbbox((0, 0), char, font=font)\n",
    "\t\t\t\t\t\ttext_width = bbox[2] - bbox[0]\n",
    "\t\t\t\t\t\ttext_height = bbox[3] - bbox[1]\n",
    "\t\t\t\t\t\tx = (img_size[0] - text_width) / 2 - bbox[0]\n",
    "\t\t\t\t\t\ty = (img_size[1] - text_height) / 2 - bbox[1]\n",
    "\t\t\t\t\texcept AttributeError:\n",
    "\t\t\t\t\t\ttext_width, text_height = draw.textsize(char, font=font)\n",
    "\t\t\t\t\t\tx = (img_size[0] - text_width) / 2\n",
    "\t\t\t\t\t\ty = (img_size[1] - text_height) / 2\n",
    "\n",
    "\t\t\t\t\t# Disegna il carattere\n",
    "\t\t\t\t\tdraw.text((x, y), char, fill=text_color, font=font)\n",
    "\n",
    "\t\t\t\t\t# Salva l'immagine nella cartella del carattere\n",
    "\t\t\t\t\timg_filename = f\"{font_name}_{background_color}_{text_color}.png\"\n",
    "\t\t\t\t\timg_path = os.path.join(char_dir, img_filename)\n",
    "\t\t\t\t\timg.save(img_path)\n",
    "\n",
    "\t\t\t\t\t# Scrivi una riga nel dataset.txt\n",
    "\t\t\t\t\tf.write(f\"{char}/{img_filename},{char}\\n\")\n",
    "\n",
    "print(f\"Dataset generato in: {dataset_dir}\")"
   ]
  },
  {
   "cell_type": "markdown",
   "metadata": {
    "id": "rAeuHI5bvKYh"
   },
   "source": [
    "dividiamo il file `dataset.txt` in due file `train.txt` e `test.txt`"
   ]
  },
  {
   "cell_type": "code",
   "execution_count": 52,
   "metadata": {
    "executionInfo": {
     "elapsed": 37,
     "status": "ok",
     "timestamp": 1745850261066,
     "user": {
      "displayName": "Kevin Speranza",
      "userId": "02783167933473171546"
     },
     "user_tz": -120
    },
    "id": "9oZzbPrSvMop"
   },
   "outputs": [],
   "source": [
    "train_file = os.path.join(dataset_dir, \"train.txt\")\n",
    "test_file = os.path.join(dataset_dir, \"test.txt\")\n",
    "\n",
    "# Leggi tutte le righe\n",
    "with open(dataset_file, \"r\", encoding=\"utf-8\") as f:\n",
    "    lines = f.readlines()\n",
    "\n",
    "# Mischia le righe casualmente\n",
    "random.shuffle(lines)\n",
    "\n",
    "# Dividi 80% train e 20% test\n",
    "split_idx = int(0.8 * len(lines))\n",
    "train_lines = lines[:split_idx]\n",
    "test_lines = lines[split_idx:]\n",
    "\n",
    "# Scrivi i file train.txt e test.txt\n",
    "with open(train_file, \"w\", encoding=\"utf-8\") as f:\n",
    "    f.writelines(train_lines)\n",
    "\n",
    "with open(test_file, \"w\", encoding=\"utf-8\") as f:\n",
    "    f.writelines(test_lines)"
   ]
  },
  {
   "cell_type": "markdown",
   "metadata": {
    "id": "9JriPk8zteZv"
   },
   "source": [
    "creare un file `classes.txt` che conterrà in ogni riga i nomi dei file dataset.\n",
    "\n",
    "Quindi avremo questo contenuto:\n",
    "```\n",
    "train.txt\n",
    "test.txt\n",
    "```\n",
    "\n",
    "**TODO**: da capire se dobbiamo mettere il validation"
   ]
  },
  {
   "cell_type": "markdown",
   "metadata": {
    "id": "zh6xKu-6qGw6"
   },
   "source": [
    "## pytorch dataset"
   ]
  },
  {
   "cell_type": "code",
   "execution_count": 56,
   "metadata": {
    "executionInfo": {
     "elapsed": 27,
     "status": "ok",
     "timestamp": 1745850118380,
     "user": {
      "displayName": "Kevin Speranza",
      "userId": "02783167933473171546"
     },
     "user_tz": -120
    },
    "id": "RSrMoE6qqQws"
   },
   "outputs": [],
   "source": [
    "class DigitDataset(Dataset):\n",
    "\tdef __init__(self, imgs_path, txt_path, transform=None):\n",
    "\t\tself.imgs_path = imgs_path\n",
    "\t\tself.images = np.loadtxt(txt_path, dtype=str, delimiter=',')\n",
    "\t\tself.transform = transform\n",
    "\n",
    "\tdef __getitem__(self, index):\n",
    "\t\t# carica il path e indice dell'immagine\n",
    "\t\tf, c = self.images[index]\n",
    "\n",
    "\t\tim = Image.open(f'{self.imgs_path}/{f}')\n",
    "\n",
    "\t\tif self.transform is not None:\n",
    "\t\t\tim = self.transform(im)\n",
    "\n",
    "\t\treturn {\n",
    "\t\t\t\"image\": im,\n",
    "\t\t\t\"label\": c\n",
    "\t\t}\n",
    "\n",
    "\tdef __len__(self):\n",
    "\t\treturn len(self.images)"
   ]
  },
  {
   "cell_type": "code",
   "execution_count": 57,
   "metadata": {
    "executionInfo": {
     "elapsed": 96,
     "status": "ok",
     "timestamp": 1745853244788,
     "user": {
      "displayName": "Kevin Speranza",
      "userId": "02783167933473171546"
     },
     "user_tz": -120
    },
    "id": "ZetENCSWrY9U"
   },
   "outputs": [],
   "source": [
    "train_path = f'{dataset_dir}/train.txt'\n",
    "\n",
    "dataset = DigitDataset(imgs_path=dataset_dir, txt_path=train_path, transform=transforms.ToTensor())"
   ]
  },
  {
   "cell_type": "code",
   "execution_count": 58,
   "metadata": {
    "colab": {
     "base_uri": "https://localhost:8080/"
    },
    "executionInfo": {
     "elapsed": 56,
     "status": "ok",
     "timestamp": 1745853244900,
     "user": {
      "displayName": "Kevin Speranza",
      "userId": "02783167933473171546"
     },
     "user_tz": -120
    },
    "id": "Fpr0LydZwFbK",
    "outputId": "a6d82473-9b9e-452b-ba6d-b480e4840dd1"
   },
   "outputs": [
    {
     "name": "stdout",
     "output_type": "stream",
     "text": [
      "torch.Size([3, 28, 28])\n",
      "S\n"
     ]
    }
   ],
   "source": [
    "sample = dataset[0]\n",
    "print(sample['image'].shape)\n",
    "print(sample['label'])"
   ]
  },
  {
   "cell_type": "markdown",
   "metadata": {
    "id": "dv-lI83Qycqh"
   },
   "source": [
    "## data normalization"
   ]
  },
  {
   "cell_type": "code",
   "execution_count": 60,
   "metadata": {
    "executionInfo": {
     "elapsed": 37,
     "status": "ok",
     "timestamp": 1745853247778,
     "user": {
      "displayName": "Kevin Speranza",
      "userId": "02783167933473171546"
     },
     "user_tz": -120
    },
    "id": "PW3kCHZlz0nS"
   },
   "outputs": [
    {
     "data": {
      "text/plain": [
       "(28, 28)"
      ]
     },
     "execution_count": 60,
     "metadata": {},
     "output_type": "execute_result"
    }
   ],
   "source": [
    "x_pixels_count = int(sample['image'].shape[1])\n",
    "y_pixels_count = int(sample['image'].shape[2])\n",
    "x_pixels_count, y_pixels_count"
   ]
  },
  {
   "cell_type": "markdown",
   "metadata": {
    "id": "_xn4lHO7zFix"
   },
   "source": [
    "media"
   ]
  },
  {
   "cell_type": "code",
   "execution_count": 61,
   "metadata": {
    "executionInfo": {
     "elapsed": 5201,
     "status": "ok",
     "timestamp": 1745853260016,
     "user": {
      "displayName": "Kevin Speranza",
      "userId": "02783167933473171546"
     },
     "user_tz": -120
    },
    "id": "BS05E1F_wkav"
   },
   "outputs": [],
   "source": [
    "m = np.zeros(3)\n",
    "for sample in dataset:\n",
    "  m += sample['image'].sum(1).sum(1).numpy()\n",
    "\n",
    "m = m / (len(dataset) * x_pixels_count * y_pixels_count)"
   ]
  },
  {
   "cell_type": "code",
   "execution_count": 62,
   "metadata": {
    "colab": {
     "base_uri": "https://localhost:8080/"
    },
    "executionInfo": {
     "elapsed": 58,
     "status": "ok",
     "timestamp": 1745853266764,
     "user": {
      "displayName": "Kevin Speranza",
      "userId": "02783167933473171546"
     },
     "user_tz": -120
    },
    "id": "tXNFPzNKzDjz",
    "outputId": "1e5283f5-f93a-486d-f898-0d27a5f8375e"
   },
   "outputs": [
    {
     "data": {
      "text/plain": [
       "('media', array([0.49894239, 0.41612808, 0.33276246]))"
      ]
     },
     "execution_count": 62,
     "metadata": {},
     "output_type": "execute_result"
    }
   ],
   "source": [
    "\"media\", m"
   ]
  },
  {
   "cell_type": "markdown",
   "metadata": {
    "id": "eLSSUii3zWHV"
   },
   "source": [
    "varianza"
   ]
  },
  {
   "cell_type": "code",
   "execution_count": 63,
   "metadata": {
    "executionInfo": {
     "elapsed": 5555,
     "status": "ok",
     "timestamp": 1745853283285,
     "user": {
      "displayName": "Kevin Speranza",
      "userId": "02783167933473171546"
     },
     "user_tz": -120
    },
    "id": "jc--GkCnzV0E"
   },
   "outputs": [],
   "source": [
    "s = np.zeros(3)\n",
    "for sample in dataset:\n",
    "  s += ((sample['image'] - torch.Tensor(m).view(3,1,1)) ** 2).sum(1).sum(1).numpy()\n",
    "\n",
    "s = np.sqrt(s / (len(dataset) * x_pixels_count * y_pixels_count))"
   ]
  },
  {
   "cell_type": "code",
   "execution_count": 64,
   "metadata": {
    "colab": {
     "base_uri": "https://localhost:8080/"
    },
    "executionInfo": {
     "elapsed": 16,
     "status": "ok",
     "timestamp": 1745853283328,
     "user": {
      "displayName": "Kevin Speranza",
      "userId": "02783167933473171546"
     },
     "user_tz": -120
    },
    "id": "03WaNCeS0Etu",
    "outputId": "ff0078d6-c692-44d1-8bb5-61a39377dd7b"
   },
   "outputs": [
    {
     "data": {
      "text/plain": [
       "('varianza', array([0.49364248, 0.44286803, 0.46521507]))"
      ]
     },
     "execution_count": 64,
     "metadata": {},
     "output_type": "execute_result"
    }
   ],
   "source": [
    "\"varianza\", s"
   ]
  },
  {
   "cell_type": "markdown",
   "metadata": {
    "id": "ePfzDsfF0Jxt"
   },
   "source": [
    "normalizziamo"
   ]
  },
  {
   "cell_type": "code",
   "execution_count": 65,
   "metadata": {
    "colab": {
     "base_uri": "https://localhost:8080/"
    },
    "executionInfo": {
     "elapsed": 50,
     "status": "ok",
     "timestamp": 1745853429148,
     "user": {
      "displayName": "Kevin Speranza",
      "userId": "02783167933473171546"
     },
     "user_tz": -120
    },
    "id": "PjaVuPOM0Hbh",
    "outputId": "18191657-037a-483f-dbd6-880c7a566f6b"
   },
   "outputs": [
    {
     "name": "stdout",
     "output_type": "stream",
     "text": [
      "torch.Size([2352])\n",
      "S\n"
     ]
    }
   ],
   "source": [
    "transform = transforms.Compose([\n",
    "    transforms.Resize(28),\n",
    "    transforms.ToTensor(),\n",
    "    transforms.Normalize(m, s),\n",
    "    transforms.Lambda(lambda x: x.view(-1))\n",
    "])\n",
    "\n",
    "dataset = DigitDataset(imgs_path=dataset_dir, txt_path=train_path, transform=transform)\n",
    "print(dataset[0]['image'].shape)\n",
    "print(dataset[0]['label'])"
   ]
  }
 ],
 "metadata": {
  "colab": {
   "provenance": []
  },
  "kernelspec": {
   "display_name": "Python 3",
   "language": "python",
   "name": "python3"
  },
  "language_info": {
   "codemirror_mode": {
    "name": "ipython",
    "version": 3
   },
   "file_extension": ".py",
   "mimetype": "text/x-python",
   "name": "python",
   "nbconvert_exporter": "python",
   "pygments_lexer": "ipython3",
   "version": "3.8.10"
  }
 },
 "nbformat": 4,
 "nbformat_minor": 0
}
