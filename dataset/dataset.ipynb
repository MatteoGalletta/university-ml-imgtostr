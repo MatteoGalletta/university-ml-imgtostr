{
 "cells": [
  {
   "cell_type": "markdown",
   "metadata": {
    "id": "DSjc0u7qswIC"
   },
   "source": [
    "# Creazione dataset"
   ]
  },
  {
   "cell_type": "markdown",
   "metadata": {
    "id": "KeU4tY1_qDRC"
   },
   "source": [
    "## generazione immagini"
   ]
  },
  {
   "cell_type": "code",
   "execution_count": 1,
   "metadata": {
    "colab": {
     "base_uri": "https://localhost:8080/"
    },
    "executionInfo": {
     "elapsed": 2727,
     "status": "ok",
     "timestamp": 1745844101601,
     "user": {
      "displayName": "Kevin Speranza",
      "userId": "02783167933473171546"
     },
     "user_tz": -120
    },
    "id": "TYgPWv1wWf7W",
    "outputId": "76bc096a-3912-4d30-dc98-aba7aacc49b4"
   },
   "outputs": [
    {
     "name": "stdout",
     "output_type": "stream",
     "text": [
      "Collecting Pillow\n",
      "  Using cached pillow-11.2.1-cp313-cp313-manylinux_2_28_x86_64.whl.metadata (8.9 kB)\n",
      "Collecting numpy\n",
      "  Using cached numpy-2.2.5-cp313-cp313-manylinux_2_17_x86_64.manylinux2014_x86_64.whl.metadata (62 kB)\n",
      "Collecting pandas\n",
      "  Using cached pandas-2.2.3-cp313-cp313-manylinux_2_17_x86_64.manylinux2014_x86_64.whl.metadata (89 kB)\n",
      "Requirement already satisfied: python-dateutil>=2.8.2 in ./.venv/lib/python3.13/site-packages (from pandas) (2.9.0.post0)\n",
      "Collecting pytz>=2020.1 (from pandas)\n",
      "  Using cached pytz-2025.2-py2.py3-none-any.whl.metadata (22 kB)\n",
      "Collecting tzdata>=2022.7 (from pandas)\n",
      "  Using cached tzdata-2025.2-py2.py3-none-any.whl.metadata (1.4 kB)\n",
      "Requirement already satisfied: six>=1.5 in ./.venv/lib/python3.13/site-packages (from python-dateutil>=2.8.2->pandas) (1.17.0)\n",
      "Using cached pillow-11.2.1-cp313-cp313-manylinux_2_28_x86_64.whl (4.6 MB)\n",
      "Using cached numpy-2.2.5-cp313-cp313-manylinux_2_17_x86_64.manylinux2014_x86_64.whl (16.1 MB)\n",
      "Using cached pandas-2.2.3-cp313-cp313-manylinux_2_17_x86_64.manylinux2014_x86_64.whl (12.7 MB)\n",
      "Using cached pytz-2025.2-py2.py3-none-any.whl (509 kB)\n",
      "Using cached tzdata-2025.2-py2.py3-none-any.whl (347 kB)\n",
      "Installing collected packages: pytz, tzdata, Pillow, numpy, pandas\n",
      "Successfully installed Pillow-11.2.1 numpy-2.2.5 pandas-2.2.3 pytz-2025.2 tzdata-2025.2\n",
      "\n",
      "\u001b[1m[\u001b[0m\u001b[34;49mnotice\u001b[0m\u001b[1;39;49m]\u001b[0m\u001b[39;49m A new release of pip is available: \u001b[0m\u001b[31;49m25.0.1\u001b[0m\u001b[39;49m -> \u001b[0m\u001b[32;49m25.1.1\u001b[0m\n",
      "\u001b[1m[\u001b[0m\u001b[34;49mnotice\u001b[0m\u001b[1;39;49m]\u001b[0m\u001b[39;49m To update, run: \u001b[0m\u001b[32;49mpip install --upgrade pip\u001b[0m\n"
     ]
    }
   ],
   "source": [
    "!pip install Pillow numpy pandas # torch torchvision"
   ]
  },
  {
   "cell_type": "code",
   "execution_count": 1,
   "metadata": {
    "executionInfo": {
     "elapsed": 8,
     "status": "ok",
     "timestamp": 1745849565093,
     "user": {
      "displayName": "Kevin Speranza",
      "userId": "02783167933473171546"
     },
     "user_tz": -120
    },
    "id": "h2OgSQhQZqbw"
   },
   "outputs": [],
   "source": [
    "dataset_dir = f\"./digit_dataset\""
   ]
  },
  {
   "cell_type": "code",
   "execution_count": 2,
   "metadata": {
    "executionInfo": {
     "elapsed": 2,
     "status": "ok",
     "timestamp": 1745850736367,
     "user": {
      "displayName": "Kevin Speranza",
      "userId": "02783167933473171546"
     },
     "user_tz": -120
    },
    "id": "VstILoDufh8S"
   },
   "outputs": [],
   "source": [
    "from PIL import Image, ImageDraw, ImageFont\n",
    "import os, numpy as np, pandas as pd#, torch\n",
    "import random\n",
    "#from torch.utils.data.dataset import Dataset\n",
    "#import torchvision.transforms as transforms # Import the transforms module"
   ]
  },
  {
   "cell_type": "markdown",
   "metadata": {},
   "source": [
    "predisporre all'interno della cartella `./fonts` i font da cui verranno generati i caratteri"
   ]
  },
  {
   "cell_type": "code",
   "execution_count": 3,
   "metadata": {
    "executionInfo": {
     "elapsed": 46,
     "status": "ok",
     "timestamp": 1745848557657,
     "user": {
      "displayName": "Kevin Speranza",
      "userId": "02783167933473171546"
     },
     "user_tz": -120
    },
    "id": "xMxYMxhWfxJL"
   },
   "outputs": [],
   "source": [
    "# Parametri\n",
    "#chars_to_generate = np.array(list(\"ABCDEFGHIJKLMNOPQRSTUVWXYZabcdefghijklmnopqrstuvwxyz0123456789,;.:!?'()[]{}<>/\\\\@#$€£%&~aèéìòù-+°\"))\n",
    "\n",
    "img_size = (28, 28)\n",
    "\n",
    "fonts_path = [os.path.join(f\"./fonts\", file) for file in os.listdir(f\"./fonts\") if file.endswith(\".ttf\")]\n",
    "fonts_name = [os.path.splitext(os.path.basename(file))[0] for file in fonts_path]\n",
    "\n",
    "font_size = 20\n",
    "\n",
    "colors = np.array([\"white\", \"black\", \"red\", \"blue\", \"green\", \"yellow\"])\n",
    "text_colors = colors[:1]\n",
    "background_colors = colors[1:2]"
   ]
  },
  {
   "cell_type": "code",
   "execution_count": 4,
   "metadata": {
    "executionInfo": {
     "elapsed": 10,
     "status": "ok",
     "timestamp": 1745848560020,
     "user": {
      "displayName": "Kevin Speranza",
      "userId": "02783167933473171546"
     },
     "user_tz": -120
    },
    "id": "nEulM3-jf7TR"
   },
   "outputs": [],
   "source": [
    "# Crea la directory principale\n",
    "if not os.path.exists(dataset_dir):\n",
    "    os.makedirs(dataset_dir)"
   ]
  },
  {
   "cell_type": "code",
   "execution_count": 21,
   "metadata": {
    "colab": {
     "base_uri": "https://localhost:8080/"
    },
    "executionInfo": {
     "elapsed": 27924,
     "status": "ok",
     "timestamp": 1745850174223,
     "user": {
      "displayName": "Kevin Speranza",
      "userId": "02783167933473171546"
     },
     "user_tz": -120
    },
    "id": "BjEp10gDaPgB",
    "outputId": "615eec59-13cb-48d7-f048-9e3e3ce070ee"
   },
   "outputs": [
    {
     "name": "stdout",
     "output_type": "stream",
     "text": [
      "Roboto-Regular\n",
      "Dataset generato in: ./digit_dataset\n"
     ]
    }
   ],
   "source": [
    "dataset_file = os.path.join(dataset_dir, \"dataset.txt\")\n",
    "\n",
    "# Apri dataset.txt una sola volta in modalità scrittura\n",
    "with open(dataset_file, \"w\", encoding=\"utf-8\") as f:\n",
    "\tfor path in fonts_path[:1]:\n",
    "\t\tfont_name = os.path.splitext(os.path.basename(path))[0]\n",
    "\t\tprint(font_name)\n",
    "\n",
    "\t\tinitial_font_size_for_bbox = 200 # Increased for potentially better bbox calculation\n",
    "\n",
    "\t\tfor idx, char in enumerate(chars_to_generate):\n",
    "\t\t\tchar_dir = os.path.join(dataset_dir, str(idx))\n",
    "\t\t\tif not os.path.exists(char_dir):\n",
    "\t\t\t\tos.makedirs(char_dir)\n",
    "\n",
    "\t\t\tfor text_color in text_colors:\n",
    "\t\t\t\tfor background_color in background_colors:\n",
    "\t\t\t\t\tif text_color == background_color:\n",
    "\t\t\t\t\t\tcontinue\n",
    "\t\t\t\t\t\n",
    "\t\t\t\t\t# Create a dummy image and draw object to get the bounding box\n",
    "\t\t\t\t\t# We don't save this image, it's just for measurement\n",
    "\t\t\t\t\tdummy_img = Image.new('RGB', (initial_font_size_for_bbox * 2, initial_font_size_for_bbox * 2), color=background_color) # Large enough dummy image\n",
    "\t\t\t\t\tdummy_draw = ImageDraw.Draw(dummy_img)\n",
    "\t\t\t\t\tdummy_font = ImageFont.truetype(path, initial_font_size_for_bbox)\n",
    "\n",
    "\t\t\t\t\ttry:\n",
    "\t\t\t\t\t\t# Get bounding box with the dummy large font size\n",
    "\t\t\t\t\t\tbbox = dummy_draw.textbbox((0, 0), char, font=dummy_font)\n",
    "\t\t\t\t\t\ttext_width = bbox[2] - bbox[0]\n",
    "\t\t\t\t\t\ttext_height = bbox[3] - bbox[1]\n",
    "\t\t\t\t\texcept AttributeError:\n",
    "\t\t\t\t\t\t# Fallback for older Pillow versions\n",
    "\t\t\t\t\t\ttext_width, text_height = dummy_draw.textsize(char, font=dummy_font)\n",
    "\n",
    "\t\t\t\t\t# Avoid division by zero if text_width or text_height is zero (e.g., for some control characters)\n",
    "\t\t\t\t\tif text_width == 0 or text_height == 0:\n",
    "\t\t\t\t\t\t print(f\"Warning: Could not get bounding box for character '{char}' with font '{font_name}'. Skipping.\")\n",
    "\t\t\t\t\t\t continue\n",
    "\n",
    "\t\t\t\t\t# Calculate scaling factor\n",
    "\t\t\t\t\twidth_ratio = img_size[0] / text_width\n",
    "\t\t\t\t\theight_ratio = img_size[1] / text_height\n",
    "\t\t\t\t\tscale_factor = min(width_ratio, height_ratio)\n",
    "\n",
    "\t\t\t\t\t# Calculate the new font size\n",
    "\t\t\t\t\tnew_font_size = int(initial_font_size_for_bbox * scale_factor)\n",
    "\n",
    "\t\t\t\t\t# Ensure font size is at least 1 to avoid errors\n",
    "\t\t\t\t\tif new_font_size <= 0:\n",
    "\t\t\t\t\t\tnew_font_size = 1\n",
    "\t\t\t\t\t\tprint(f\"Warning: Calculated font size for character '{char}' with font '{font_name}' is too small. Setting to 1.\")\n",
    "\n",
    "\n",
    "\t\t\t\t\t# Create the actual image with the correct size\n",
    "\t\t\t\t\timg = Image.new('RGB', img_size, color=background_color)\n",
    "\t\t\t\t\tdraw = ImageDraw.Draw(img)\n",
    "\n",
    "\t\t\t\t\ttry:\n",
    "\t\t\t\t\t   # Create a new font instance with the calculated size\n",
    "\t\t\t\t\t\tfont = ImageFont.truetype(path, new_font_size)\n",
    "\n",
    "\t\t\t\t\t\t# Get the bounding box with the new font size\n",
    "\t\t\t\t\t\tbbox = draw.textbbox((0, 0), char, font=font)\n",
    "\t\t\t\t\t\ttext_width = bbox[2] - bbox[0]\n",
    "\t\t\t\t\t\ttext_height = bbox[3] - bbox[1]\n",
    "\t\t\t\t\t\t# Calculate the position to center the scaled text\n",
    "\t\t\t\t\t\tx = (img_size[0] - text_width) / 2 - bbox[0]\n",
    "\t\t\t\t\t\ty = (img_size[1] - text_height) / 2 - bbox[1]\n",
    "\t\t\t\t\texcept AttributeError:\n",
    "\t\t\t\t\t\t# Fallback for older Pillow versions with the new font size\n",
    "\t\t\t\t\t\tfont = ImageFont.truetype(path, new_font_size) # Need to create font again\n",
    "\t\t\t\t\t\ttext_width, text_height = draw.textsize(char, font=font)\n",
    "\t\t\t\t\t\tx = (img_size[0] - text_width) / 2\n",
    "\t\t\t\t\t\ty = (img_size[1] - text_height) / 2\n",
    "\t\t\t\t\texcept Exception as e:\n",
    "\t\t\t\t\t\t print(f\"Error processing character '{char}' with font '{font_name}' at new font size {new_font_size}: {e}\")\n",
    "\t\t\t\t\t\t continue\n",
    "\n",
    "\n",
    "\t\t\t\t\t# Draw the character with the new font and centered position\n",
    "\t\t\t\t\tdraw.text((x, y), char, fill=text_color, font=font)\n",
    "\n",
    "\t\t\t\t\t# Save the image in the character folder\n",
    "\t\t\t\t\timg_filename = f\"{font_name}_{background_color}_{text_color}.png\"\n",
    "\t\t\t\t\timg_path = os.path.join(char_dir, img_filename)\n",
    "\t\t\t\t\timg.save(img_path)\n",
    "\n",
    "\t\t\t\t\t# Write a line in the dataset.txt\n",
    "\t\t\t\t\tf.write(f\"{char_dir}/{img_filename},{char}\\n\")\n",
    "\n",
    "print(f\"Dataset generato in: {dataset_dir}\")"
   ]
  },
  {
   "cell_type": "code",
   "execution_count": 10,
   "metadata": {},
   "outputs": [],
   "source": [
    "import os\n",
    "from PIL import Image, ImageDraw, ImageFont\n",
    "\n",
    "# Assume necessary variables are defined elsewhere, for example:\n",
    "# dataset_dir = \"generated_dataset\"\n",
    "# fonts_path = [\"/path/to/your/font1.ttf\", \"/path/to/your/font2.otf\"] # Replace with actual font paths\n",
    "# chars_to_generate = \"ABCDEFGHIJKLMNOPQRSTUVWXYZabcdefghijklmnopqrstuvwxyz0123456789\"\n",
    "# img_size = (64, 64) # Target image size (width, height)\n",
    "# text_colors = [(0, 0, 0), (255, 255, 255)] # Black and White\n",
    "# background_colors = [(255, 255, 255), (0, 0, 0)] # White and Black\n",
    "\n",
    "\n",
    "def get_ink_bbox(image, background_color, tolerance=5):\n",
    "\t\"\"\"\n",
    "\tFinds the tight bounding box of non-background pixels in an image.\n",
    "\n",
    "\tArgs:\n",
    "\t\timage: PIL Image object.\n",
    "\t\tbackground_color: The background color tuple (R, G, B).\n",
    "\t\ttolerance: Allows for a small difference in color to be considered background.\n",
    "\n",
    "\tReturns:\n",
    "\t\tA tuple (left, top, right, bottom) representing the ink bounding box,\n",
    "\t\tor None if the image is all background within the tolerance.\n",
    "\t\"\"\"\n",
    "\twidth, height = image.size\n",
    "\tleft, top = width, height\n",
    "\tright, bottom = -1, -1\n",
    "\n",
    "\t# Ensure background_color is in the same mode as the image for comparison\n",
    "\ttry:\n",
    "\t\t# Create a 1x1 image with the background color in the target image mode\n",
    "\t\tbg_color_check = Image.new(image.mode, (1, 1), color=background_color).getpixel((0, 0))\n",
    "\texcept Exception:\n",
    "\t\t# print(f\"Warning: Could not match background color mode for ink bbox detection. Using provided background_color directly.\")\n",
    "\t\tbg_color_check = background_color\n",
    "\n",
    "\tpixels = image.load()\n",
    "\n",
    "\tdef is_background(pixel, bg_color, tol):\n",
    "\t\t# Compare pixel color to background color within tolerance\n",
    "\t\tif isinstance(pixel, tuple) and isinstance(bg_color, tuple):\n",
    "\t\t\t if len(pixel) == len(bg_color):\n",
    "\t\t\t\t return all(abs(p - bg) <= tol for p, bg in zip(pixel, bg_color))\n",
    "\t\t\t elif len(pixel) == 4 and len(bg_color) == 3: # Compare RGBA pixel to RGB background (ignore alpha of pixel)\n",
    "\t\t\t\t  return all(abs(pixel[i] - bg_color[i]) <= tol for i in range(3))\n",
    "\t\telif isinstance(pixel, int) and isinstance(bg_color, int): # Handle grayscale or paletted images\n",
    "\t\t\t return abs(pixel - bg_color) <= tol\n",
    "\t\treturn pixel == bg_color # Fallback for exact match if types are unexpected\n",
    "\n",
    "\n",
    "\tfor y in range(height):\n",
    "\t\tfor x in range(width):\n",
    "\t\t\tif not is_background(pixels[x, y], bg_color_check, tolerance):\n",
    "\t\t\t\tleft = min(left, x)\n",
    "\t\t\t\ttop = min(top, y)\n",
    "\t\t\t\tright = max(right, x)\n",
    "\t\t\t\tbottom = max(bottom, y)\n",
    "\n",
    "\tif right == -1: # Image is all background within tolerance\n",
    "\t\treturn None\n",
    "\n",
    "\treturn (left, top, right, bottom)\n",
    "\n",
    "def generate_character_image(font_path, char, text_color, background_color, img_size, dataset_dir, char_idx, top_space=0, bottom_space=0):\n",
    "\t\"\"\"\n",
    "\tGenerates an image for a single character with specified spacing.\n",
    "\n",
    "\tArgs:\n",
    "\t\tfont_path: Path to the font file.\n",
    "\t\tchar: The character to render.\n",
    "\t\ttext_color: The color of the text (R, G, B).\n",
    "\t\tbackground_color: The background color (R, G, B).\n",
    "\t\timg_size: The target size of the output image (width, height).\n",
    "\t\tdataset_dir: The base directory for the dataset.\n",
    "\t\tchar_idx: The index of the character (for directory naming).\n",
    "\t\ttop_space: The number of pixels to leave as empty space at the top.\n",
    "\t\tbottom_space: The number of pixels to leave as empty space at the bottom.\n",
    "\n",
    "\tReturns:\n",
    "\t\tThe relative path to the saved image if successful, None otherwise.\n",
    "\t\"\"\"\n",
    "\tfont_name = os.path.splitext(os.path.basename(font_path))[0]\n",
    "\tchar_dir = os.path.join(dataset_dir, str(char_idx))\n",
    "\tif not os.path.exists(char_dir):\n",
    "\t\tos.makedirs(char_dir)\n",
    "\n",
    "\t# Use a large initial font size for accurate ink bbox measurement\n",
    "\tinitial_font_size_for_bbox = 100 # Increased initial size for better accuracy\n",
    "\t# Create a temporary image much larger than the initial font size\n",
    "\t# This ensures the entire glyph is captured, even for characters\n",
    "\t# with large ascenders/descenders or unusual placements.\n",
    "\ttemp_img_size = (initial_font_size_for_bbox * 4, initial_font_size_for_bbox * 4)\n",
    "\n",
    "\t# Create a temporary image and draw object\n",
    "\t# Use 'RGB' mode for consistency in pixel analysis\n",
    "\ttemp_img = Image.new('RGB', temp_img_size, color=background_color)\n",
    "\ttemp_draw = ImageDraw.Draw(temp_img)\n",
    "\n",
    "\t# Load the font with the initial large size\n",
    "\tinitial_font = ImageFont.truetype(font_path, initial_font_size_for_bbox)\n",
    "\n",
    "\t# Get the layout bounding box of the character with the initial font\n",
    "\t# This is used to position the character on the temporary image\n",
    "\t# relative to where Pillow thinks its origin is.\n",
    "\ttry:\n",
    "\t\t# Use textbbox for newer Pillow versions\n",
    "\t\ttemp_layout_bbox = temp_draw.textbbox((0, 0), char, font=initial_font)\n",
    "\texcept AttributeError:\n",
    "\t\t\t# Fallback to textsize for older Pillow versions\n",
    "\t\t\ttemp_text_width, temp_text_height = temp_draw.textsize(char, font=initial_font)\n",
    "\t\t\ttemp_layout_bbox = (0, 0, temp_text_width, temp_text_height) # Approximate bbox\n",
    "\n",
    "\ttemp_text_width = temp_layout_bbox[2] - temp_layout_bbox[0]\n",
    "\ttemp_text_height = temp_layout_bbox[3] - temp_layout_bbox[1]\n",
    "\n",
    "\t# Calculate drawing position on the temporary image to roughly center the layout bbox\n",
    "\t# Adding a buffer to ensure ink is not clipped at edges\n",
    "\tbuffer = initial_font_size_for_bbox // 2\n",
    "\tdraw_x_temp = (temp_img_size[0] - temp_text_width) / 2 - temp_layout_bbox[0] + buffer\n",
    "\tdraw_y_temp = (temp_img_size[1] - temp_text_height) / 2 - temp_layout_bbox[1] + buffer\n",
    "\n",
    "\n",
    "\t# Draw the character on the temporary image\n",
    "\ttemp_draw.text((draw_x_temp, draw_y_temp), char, fill=text_color, font=initial_font)\n",
    "\n",
    "\t# Find the tight ink bounding box on the temporary image\n",
    "\t# Use a small tolerance to account for anti-aliasing\n",
    "\tink_bbox = get_ink_bbox(temp_img, background_color, tolerance=10) # Increased tolerance slightly\n",
    "\n",
    "\tif ink_bbox is None:\n",
    "\t\t\tprint(f\"Warning: Could not find ink for character '{char}' with font '{font_name}'. Skipping this combination.\")\n",
    "\t\t\treturn None\n",
    "\n",
    "\tink_left, ink_top, ink_right, ink_bottom = ink_bbox\n",
    "\tink_width = ink_right - ink_left + 1 # Add 1 because bbox is inclusive\n",
    "\tink_height = ink_bottom - ink_top + 1 # Add 1\n",
    "\n",
    "\tif ink_width <= 0 or ink_height <= 0:\n",
    "\t\t\tprint(f\"Warning: Ink bounding box has zero or negative dimension for character '{char}' with font '{font_name}'. Skipping this combination.\")\n",
    "\t\t\treturn None\n",
    "\n",
    "\t# Calculate the effective height for scaling, considering top and bottom space\n",
    "\teffective_height = img_size[1] - top_space - bottom_space\n",
    "\tif effective_height <= 0:\n",
    "\t\t\tprint(f\"Error: Effective height for character '{char}' with font '{font_name}' is zero or negative after applying top/bottom space. Skipping.\")\n",
    "\t\t\treturn None\n",
    "\n",
    "\t# Calculate scaling factor based on ink bbox and the effective image size\n",
    "\twidth_ratio = img_size[0] / ink_width\n",
    "\theight_ratio = effective_height / ink_height\n",
    "\tscale_factor = min(width_ratio, height_ratio)\n",
    "\n",
    "\t# Calculate the optimal font size\n",
    "\toptimal_font_size = int(initial_font_size_for_bbox * scale_factor)\n",
    "\n",
    "\t# Ensure optimal font size is reasonable\n",
    "\tif optimal_font_size <= 0:\n",
    "\t\toptimal_font_size = 1\n",
    "\t\tprint(f\"Warning: Calculated optimal font size for character '{char}' with font '{font_name}' is too small. Setting to 1.\")\n",
    "\t# Prevent excessively large font sizes that could cause memory issues or errors\n",
    "\telif optimal_font_size > 200: # Increased arbitrary cap\n",
    "\t\t\toptimal_font_size = 200\n",
    "\t\t\tprint(f\"Warning: Calculated optimal font size for character '{char}' with font '{font_name}' is excessively large. Capping at {optimal_font_size}.\")\n",
    "\n",
    "\n",
    "\t# Create the final image with the correct size and background\n",
    "\timg = Image.new('RGB', img_size, color=background_color)\n",
    "\tdraw = ImageDraw.Draw(img)\n",
    "\n",
    "\t# Create the font instance with the optimal size\n",
    "\tif optimal_font_size <= 0:\n",
    "\t\t\tprint(f\"Error: Optimal font size for character '{char}' with font '{font_name}' is invalid ({optimal_font_size}). Skipping drawing.\")\n",
    "\t\t\treturn None\n",
    "\tfont = ImageFont.truetype(font_path, optimal_font_size)\n",
    "\n",
    "\t# Calculate the expected ink bbox at the optimal size by scaling\n",
    "\t# The ink bbox coordinates on the temporary image are relative to its top-left corner.\n",
    "\t# We need their position relative to the draw origin on the temporary image.\n",
    "\tink_bbox_relative_to_draw_temp = (ink_left - draw_x_temp, ink_top - draw_y_temp, ink_right - draw_x_temp, ink_bottom - draw_y_temp)\n",
    "\n",
    "\t# Scale these relative coordinates to the optimal font size scale\n",
    "\tscaled_ink_left = ink_bbox_relative_to_draw_temp[0] * scale_factor\n",
    "\tscaled_ink_top = ink_bbox_relative_to_draw_temp[1] * scale_factor\n",
    "\tscaled_ink_right = ink_bbox_relative_to_draw_temp[2] * scale_factor\n",
    "\tscaled_ink_bottom = ink_bbox_relative_to_draw_temp[3] * scale_factor\n",
    "\n",
    "\t# Calculate the drawing position on the final image to center the scaled ink bbox\n",
    "\t# within the effective height (img_size[1] - top_space - bottom_space) starting at top_space.\n",
    "\t# The draw.text position (x, y) is the top-left of the text's layout bounding box.\n",
    "\t# We want the center of the scaled ink bbox to be at the horizontal center of the image\n",
    "\t# and vertically centered within the effective height area.\n",
    "\n",
    "\tcenter_x_img = img_size[0] / 2\n",
    "\tcenter_y_effective_area = top_space + effective_height / 2\n",
    "\n",
    "\t# The center of the scaled ink bbox, relative to the final image's draw origin (0,0)\n",
    "\tcenter_x_ink_scaled = (scaled_ink_left + scaled_ink_right) / 2\n",
    "\tcenter_y_ink_scaled = (scaled_ink_top + scaled_ink_bottom) / 2\n",
    "\n",
    "\t# The required draw position (x, y) on the final image is where the layout bbox origin\n",
    "\t# should be placed so that the scaled ink bbox is centered as desired.\n",
    "\tdraw_x = center_x_img - center_x_ink_scaled\n",
    "\tdraw_y = center_y_effective_area - center_y_ink_scaled\n",
    "\n",
    "\n",
    "\t# Draw the character on the final image\n",
    "\tdraw.text((draw_x, draw_y), char, fill=text_color, font=font)\n",
    "\n",
    "\t# Save the image\n",
    "\timg_filename = f\"{font_name}_{background_color[0]}_{background_color[1]}_{background_color[2]}_{text_color[0]}_{text_color[1]}_{text_color[2]}_{top_space}_{bottom_space}.png\"\n",
    "\timg_path = os.path.join(char_dir, img_filename)\n",
    "\timg.save(img_path)\n",
    "\n",
    "\t# Return relative path from dataset_dir\n",
    "\treturn os.path.relpath(img_path, dataset_dir)\n",
    "\n",
    "# --- Main script execution ---\n",
    "dataset_file = os.path.join(dataset_dir, \"dataset.txt\")\n",
    "\n",
    "# Define top and bottom space (example values)\n",
    "top_space_pixels = 5\n",
    "bottom_space_pixels = 5"
   ]
  },
  {
   "cell_type": "code",
   "execution_count": 5,
   "metadata": {},
   "outputs": [],
   "source": [
    "# top and bottom spaces\n",
    "chars_with_spaces = [\n",
    "\t(\"ABCDEFGHIJKLMNOPQRSTUVWXYZbdfhklt0123456789!?()[]{}/\\\\@#$€£%&\", range(0, 2), range(0,6)),\n",
    "\t(\"aceimnorsuvwxz:aèéìòù\", range(0, 16), range(0,6)),\n",
    "\t(\"gjpqy;\", range(0,16), range(0,2)),\n",
    "\t(\",\", range(10, 24), range(0,2)),\n",
    "\t(\".\", range(10, 24), range(0,6)),\n",
    "\t(\":°\", range(10, 20), range(0,6)),\n",
    "\t(\"~-+\", range(0, 20), range(0,12)),\n",
    "\t(\"'°\", range(0, 2), range(0,24))\n",
    "]"
   ]
  },
  {
   "cell_type": "code",
   "execution_count": 11,
   "metadata": {},
   "outputs": [
    {
     "name": "stdout",
     "output_type": "stream",
     "text": [
      "Processing font: Roboto-Regular\n",
      "  Generating images for character: 'A' (Index: 0 - 0)\n",
      "  Generating images for character: 'B' (Index: 0 - 1)\n"
     ]
    },
    {
     "ename": "KeyboardInterrupt",
     "evalue": "",
     "output_type": "error",
     "traceback": [
      "\u001b[31m---------------------------------------------------------------------------\u001b[39m",
      "\u001b[31mAttributeError\u001b[39m                            Traceback (most recent call last)",
      "\u001b[36mFile \u001b[39m\u001b[32m~/Documents/university-ml-imgtostr/dataset/.venv/lib/python3.13/site-packages/PIL/ImageDraw.py:1006\u001b[39m, in \u001b[36mDraw\u001b[39m\u001b[34m(im, mode)\u001b[39m\n\u001b[32m   1005\u001b[39m \u001b[38;5;28;01mtry\u001b[39;00m:\n\u001b[32m-> \u001b[39m\u001b[32m1006\u001b[39m     \u001b[38;5;28;01mreturn\u001b[39;00m \u001b[38;5;28;43mgetattr\u001b[39;49m\u001b[43m(\u001b[49m\u001b[43mim\u001b[49m\u001b[43m,\u001b[49m\u001b[43m \u001b[49m\u001b[33;43m\"\u001b[39;49m\u001b[33;43mgetdraw\u001b[39;49m\u001b[33;43m\"\u001b[39;49m\u001b[43m)\u001b[49m(mode)\n\u001b[32m   1007\u001b[39m \u001b[38;5;28;01mexcept\u001b[39;00m \u001b[38;5;167;01mAttributeError\u001b[39;00m:\n",
      "\u001b[31mAttributeError\u001b[39m: 'Image' object has no attribute 'getdraw'",
      "\nDuring handling of the above exception, another exception occurred:\n",
      "\u001b[31mKeyboardInterrupt\u001b[39m                         Traceback (most recent call last)",
      "\u001b[36mCell\u001b[39m\u001b[36m \u001b[39m\u001b[32mIn[11]\u001b[39m\u001b[32m, line 19\u001b[39m\n\u001b[32m     17\u001b[39m \u001b[38;5;28;01mfor\u001b[39;00m t_sp \u001b[38;5;129;01min\u001b[39;00m top_range:\n\u001b[32m     18\u001b[39m \t\u001b[38;5;28;01mfor\u001b[39;00m b_sp \u001b[38;5;129;01min\u001b[39;00m bottom_range:\n\u001b[32m---> \u001b[39m\u001b[32m19\u001b[39m \t\trelative_img_path = \u001b[43mgenerate_character_image\u001b[49m\u001b[43m(\u001b[49m\n\u001b[32m     20\u001b[39m \u001b[43m\t\t\t\u001b[49m\u001b[43mfont_path\u001b[49m\u001b[43m=\u001b[49m\u001b[43mfonts_path\u001b[49m\u001b[43m[\u001b[49m\u001b[32;43m0\u001b[39;49m\u001b[43m]\u001b[49m\u001b[43m,\u001b[49m\n\u001b[32m     21\u001b[39m \u001b[43m\t\t\t\u001b[49m\u001b[43mchar\u001b[49m\u001b[43m=\u001b[49m\u001b[43mchar\u001b[49m\u001b[43m,\u001b[49m\n\u001b[32m     22\u001b[39m \u001b[43m\t\t\t\u001b[49m\u001b[43mtext_color\u001b[49m\u001b[43m=\u001b[49m\u001b[43mtext_color\u001b[49m\u001b[43m,\u001b[49m\n\u001b[32m     23\u001b[39m \u001b[43m\t\t\t\u001b[49m\u001b[43mbackground_color\u001b[49m\u001b[43m=\u001b[49m\u001b[43mbackground_color\u001b[49m\u001b[43m,\u001b[49m\n\u001b[32m     24\u001b[39m \u001b[43m\t\t\t\u001b[49m\u001b[43mimg_size\u001b[49m\u001b[43m=\u001b[49m\u001b[43mimg_size\u001b[49m\u001b[43m,\u001b[49m\n\u001b[32m     25\u001b[39m \u001b[43m\t\t\t\u001b[49m\u001b[43mdataset_dir\u001b[49m\u001b[43m=\u001b[49m\u001b[43mdataset_dir\u001b[49m\u001b[43m,\u001b[49m\n\u001b[32m     26\u001b[39m \u001b[43m\t\t\t\u001b[49m\u001b[43mchar_idx\u001b[49m\u001b[43m=\u001b[49m\u001b[38;5;28;43mstr\u001b[39;49m\u001b[43m(\u001b[49m\u001b[43midx1\u001b[49m\u001b[43m)\u001b[49m\u001b[43m+\u001b[49m\u001b[33;43m\"\u001b[39;49m\u001b[33;43m_\u001b[39;49m\u001b[33;43m\"\u001b[39;49m\u001b[43m+\u001b[49m\u001b[38;5;28;43mstr\u001b[39;49m\u001b[43m(\u001b[49m\u001b[43midx2\u001b[49m\u001b[43m)\u001b[49m\u001b[43m,\u001b[49m\n\u001b[32m     27\u001b[39m \u001b[43m\t\t\t\u001b[49m\u001b[43mtop_space\u001b[49m\u001b[43m=\u001b[49m\u001b[43mt_sp\u001b[49m\u001b[43m,\u001b[49m\n\u001b[32m     28\u001b[39m \u001b[43m\t\t\t\u001b[49m\u001b[43mbottom_space\u001b[49m\u001b[43m=\u001b[49m\u001b[43mb_sp\u001b[49m\n\u001b[32m     29\u001b[39m \u001b[43m\t\t\u001b[49m\u001b[43m)\u001b[49m\n\u001b[32m     31\u001b[39m \t\t\u001b[38;5;28;01mif\u001b[39;00m relative_img_path:\n\u001b[32m     32\u001b[39m \t\t\t\u001b[38;5;66;03m# Write to dataset.txt\u001b[39;00m\n\u001b[32m     33\u001b[39m \t\t\tf.write(\u001b[33mf\u001b[39m\u001b[33m\"\u001b[39m\u001b[38;5;132;01m{\u001b[39;00mrelative_img_path\u001b[38;5;132;01m}\u001b[39;00m\u001b[33m,\u001b[39m\u001b[38;5;132;01m{\u001b[39;00mchar\u001b[38;5;132;01m}\u001b[39;00m\u001b[38;5;130;01m\\n\u001b[39;00m\u001b[33m\"\u001b[39m)\n",
      "\u001b[36mCell\u001b[39m\u001b[36m \u001b[39m\u001b[32mIn[10]\u001b[39m\u001b[32m, line 169\u001b[39m, in \u001b[36mgenerate_character_image\u001b[39m\u001b[34m(font_path, char, text_color, background_color, img_size, dataset_dir, char_idx, top_space, bottom_space)\u001b[39m\n\u001b[32m    167\u001b[39m \u001b[38;5;66;03m# Create the final image with the correct size and background\u001b[39;00m\n\u001b[32m    168\u001b[39m img = Image.new(\u001b[33m'\u001b[39m\u001b[33mRGB\u001b[39m\u001b[33m'\u001b[39m, img_size, color=background_color)\n\u001b[32m--> \u001b[39m\u001b[32m169\u001b[39m draw = \u001b[43mImageDraw\u001b[49m\u001b[43m.\u001b[49m\u001b[43mDraw\u001b[49m\u001b[43m(\u001b[49m\u001b[43mimg\u001b[49m\u001b[43m)\u001b[49m\n\u001b[32m    171\u001b[39m \u001b[38;5;66;03m# Create the font instance with the optimal size\u001b[39;00m\n\u001b[32m    172\u001b[39m \u001b[38;5;28;01mif\u001b[39;00m optimal_font_size <= \u001b[32m0\u001b[39m:\n",
      "\u001b[36mFile \u001b[39m\u001b[32m~/Documents/university-ml-imgtostr/dataset/.venv/lib/python3.13/site-packages/PIL/ImageDraw.py:1008\u001b[39m, in \u001b[36mDraw\u001b[39m\u001b[34m(im, mode)\u001b[39m\n\u001b[32m   1006\u001b[39m     \u001b[38;5;28;01mreturn\u001b[39;00m \u001b[38;5;28mgetattr\u001b[39m(im, \u001b[33m\"\u001b[39m\u001b[33mgetdraw\u001b[39m\u001b[33m\"\u001b[39m)(mode)\n\u001b[32m   1007\u001b[39m \u001b[38;5;28;01mexcept\u001b[39;00m \u001b[38;5;167;01mAttributeError\u001b[39;00m:\n\u001b[32m-> \u001b[39m\u001b[32m1008\u001b[39m     \u001b[38;5;28;01mreturn\u001b[39;00m \u001b[43mImageDraw\u001b[49m\u001b[43m(\u001b[49m\u001b[43mim\u001b[49m\u001b[43m,\u001b[49m\u001b[43m \u001b[49m\u001b[43mmode\u001b[49m\u001b[43m)\u001b[49m\n",
      "\u001b[36mFile \u001b[39m\u001b[32m~/Documents/university-ml-imgtostr/dataset/.venv/lib/python3.13/site-packages/PIL/ImageDraw.py:66\u001b[39m, in \u001b[36mImageDraw.__init__\u001b[39m\u001b[34m(self, im, mode)\u001b[39m\n\u001b[32m     61\u001b[39m \u001b[38;5;28;01mclass\u001b[39;00m\u001b[38;5;250m \u001b[39m\u001b[34;01mImageDraw\u001b[39;00m:\n\u001b[32m     62\u001b[39m     font: (\n\u001b[32m     63\u001b[39m         ImageFont.ImageFont | ImageFont.FreeTypeFont | ImageFont.TransposedFont | \u001b[38;5;28;01mNone\u001b[39;00m\n\u001b[32m     64\u001b[39m     ) = \u001b[38;5;28;01mNone\u001b[39;00m\n\u001b[32m---> \u001b[39m\u001b[32m66\u001b[39m     \u001b[38;5;28;01mdef\u001b[39;00m\u001b[38;5;250m \u001b[39m\u001b[34m__init__\u001b[39m(\u001b[38;5;28mself\u001b[39m, im: Image.Image, mode: \u001b[38;5;28mstr\u001b[39m | \u001b[38;5;28;01mNone\u001b[39;00m = \u001b[38;5;28;01mNone\u001b[39;00m) -> \u001b[38;5;28;01mNone\u001b[39;00m:\n\u001b[32m     67\u001b[39m \u001b[38;5;250m        \u001b[39m\u001b[33;03m\"\"\"\u001b[39;00m\n\u001b[32m     68\u001b[39m \u001b[33;03m        Create a drawing instance.\u001b[39;00m\n\u001b[32m     69\u001b[39m \n\u001b[32m   (...)\u001b[39m\u001b[32m     75\u001b[39m \u001b[33;03m           defaults to the mode of the image.\u001b[39;00m\n\u001b[32m     76\u001b[39m \u001b[33;03m        \"\"\"\u001b[39;00m\n\u001b[32m     77\u001b[39m         im.load()\n",
      "\u001b[31mKeyboardInterrupt\u001b[39m: "
     ]
    }
   ],
   "source": [
    "dataset_file = os.path.join(dataset_dir, \"dataset.txt\")\n",
    "\n",
    "with open(dataset_file, \"w\", encoding=\"utf-8\") as f:\n",
    "\tfor path in fonts_path[:1]:\n",
    "\t\tfont_name = os.path.splitext(os.path.basename(path))[0]\n",
    "\t\tprint(f\"Processing font: {font_name}\")\n",
    "\n",
    "\t\tfor idx1, (char_list, top_range, bottom_range) in enumerate(chars_with_spaces):\n",
    "\t\t\tfor idx2, char in enumerate(char_list):\n",
    "\t\t\t\tprint(f\"  Generating images for character: '{char}' (Index: {idx1} - {idx2})\")\n",
    "\n",
    "\t\t\t\tfor text_color in text_colors:\n",
    "\t\t\t\t\tfor background_color in background_colors:\n",
    "\t\t\t\t\t\tif text_color == background_color:\n",
    "\t\t\t\t\t\t\tcontinue\n",
    "\n",
    "\t\t\t\t\t\tfor t_sp in top_range:\n",
    "\t\t\t\t\t\t\tfor b_sp in bottom_range:\n",
    "\t\t\t\t\t\t\t\trelative_img_path = generate_character_image(\n",
    "\t\t\t\t\t\t\t\t\tfont_path=fonts_path[0],\n",
    "\t\t\t\t\t\t\t\t\tchar=char,\n",
    "\t\t\t\t\t\t\t\t\ttext_color=text_color,\n",
    "\t\t\t\t\t\t\t\t\tbackground_color=background_color,\n",
    "\t\t\t\t\t\t\t\t\timg_size=img_size,\n",
    "\t\t\t\t\t\t\t\t\tdataset_dir=dataset_dir,\n",
    "\t\t\t\t\t\t\t\t\tchar_idx=str(idx1)+\"_\"+str(idx2),\n",
    "\t\t\t\t\t\t\t\t\ttop_space=t_sp,\n",
    "\t\t\t\t\t\t\t\t\tbottom_space=b_sp\n",
    "\t\t\t\t\t\t\t\t)\n",
    "\n",
    "\t\t\t\t\t\t\t\tif relative_img_path:\n",
    "\t\t\t\t\t\t\t\t\t# Write to dataset.txt\n",
    "\t\t\t\t\t\t\t\t\tf.write(f\"{relative_img_path},{char}\\n\")\n",
    "\n",
    "print(\"Image generation complete.\")\n"
   ]
  },
  {
   "cell_type": "code",
   "execution_count": null,
   "metadata": {},
   "outputs": [],
   "source": [
    "\n",
    "with open(dataset_file, \"w\", encoding=\"utf-8\") as f:\n",
    "\tfor path in fonts_path: # Process all fonts in the list\n",
    "\t\tfont_name = os.path.splitext(os.path.basename(path))[0]\n",
    "\t\tprint(f\"Processing font: {font_name}\")\n",
    "\n",
    "\t\tfor idx, char in enumerate(chars_to_generate):\n",
    "\t\t\tprint(f\"  Generating images for character: '{char}' (Index: {idx})\")\n",
    "\n",
    "\t\t\tfor text_color in text_colors:\n",
    "\t\t\t\tfor background_color in background_colors:\n",
    "\t\t\t\t\tif text_color == background_color:\n",
    "\t\t\t\t\t\tcontinue\n",
    "\n",
    "\t\t\t\t\trelative_img_path = generate_character_image(\n",
    "\t\t\t\t\t\tfont_path=path,\n",
    "\t\t\t\t\t\tchar=char,\n",
    "\t\t\t\t\t\ttext_color=text_color,\n",
    "\t\t\t\t\t\tbackground_color=background_color,\n",
    "\t\t\t\t\t\timg_size=img_size,\n",
    "\t\t\t\t\t\tdataset_dir=dataset_dir,\n",
    "\t\t\t\t\t\tchar_idx=idx,\n",
    "\t\t\t\t\t\ttop_space=top_space_pixels, # Use the defined top space\n",
    "\t\t\t\t\t\tbottom_space=bottom_space_pixels # Use the defined bottom space\n",
    "\t\t\t\t\t)\n",
    "\n",
    "\t\t\t\t\tif relative_img_path:\n",
    "\t\t\t\t\t\t# Write to dataset.txt\n",
    "\t\t\t\t\t\tf.write(f\"{relative_img_path},{char}\\n\")\n",
    "\n",
    "print(\"Image generation complete.\")"
   ]
  },
  {
   "cell_type": "markdown",
   "metadata": {
    "id": "rAeuHI5bvKYh"
   },
   "source": [
    "dividiamo il file `dataset.txt` in due file `train.txt` e `test.txt`"
   ]
  },
  {
   "cell_type": "code",
   "execution_count": 52,
   "metadata": {
    "executionInfo": {
     "elapsed": 37,
     "status": "ok",
     "timestamp": 1745850261066,
     "user": {
      "displayName": "Kevin Speranza",
      "userId": "02783167933473171546"
     },
     "user_tz": -120
    },
    "id": "9oZzbPrSvMop"
   },
   "outputs": [],
   "source": [
    "train_file = os.path.join(dataset_dir, \"train.txt\")\n",
    "test_file = os.path.join(dataset_dir, \"test.txt\")\n",
    "\n",
    "# Leggi tutte le righe\n",
    "with open(dataset_file, \"r\", encoding=\"utf-8\") as f:\n",
    "    lines = f.readlines()\n",
    "\n",
    "# Mischia le righe casualmente\n",
    "random.shuffle(lines)\n",
    "\n",
    "# Dividi 80% train e 20% test\n",
    "split_idx = int(0.8 * len(lines))\n",
    "train_lines = lines[:split_idx]\n",
    "test_lines = lines[split_idx:]\n",
    "\n",
    "# Scrivi i file train.txt e test.txt\n",
    "with open(train_file, \"w\", encoding=\"utf-8\") as f:\n",
    "    f.writelines(train_lines)\n",
    "\n",
    "with open(test_file, \"w\", encoding=\"utf-8\") as f:\n",
    "    f.writelines(test_lines)"
   ]
  },
  {
   "cell_type": "markdown",
   "metadata": {
    "id": "9JriPk8zteZv"
   },
   "source": [
    "creare un file `classes.txt` che conterrà in ogni riga i nomi dei file dataset.\n",
    "\n",
    "Quindi avremo questo contenuto:\n",
    "```\n",
    "train.txt\n",
    "test.txt\n",
    "```\n",
    "\n",
    "**TODO**: da capire se dobbiamo mettere il validation"
   ]
  },
  {
   "cell_type": "markdown",
   "metadata": {
    "id": "zh6xKu-6qGw6"
   },
   "source": [
    "## pytorch dataset"
   ]
  },
  {
   "cell_type": "code",
   "execution_count": 56,
   "metadata": {
    "executionInfo": {
     "elapsed": 27,
     "status": "ok",
     "timestamp": 1745850118380,
     "user": {
      "displayName": "Kevin Speranza",
      "userId": "02783167933473171546"
     },
     "user_tz": -120
    },
    "id": "RSrMoE6qqQws"
   },
   "outputs": [],
   "source": [
    "class DigitDataset(Dataset):\n",
    "\tdef __init__(self, imgs_path, txt_path, transform=None):\n",
    "\t\tself.imgs_path = imgs_path\n",
    "\t\tself.images = np.loadtxt(txt_path, dtype=str, delimiter=',')\n",
    "\t\tself.transform = transform\n",
    "\n",
    "\tdef __getitem__(self, index):\n",
    "\t\t# carica il path e indice dell'immagine\n",
    "\t\tf, c = self.images[index]\n",
    "\n",
    "\t\tim = Image.open(f'{self.imgs_path}/{f}')\n",
    "\n",
    "\t\tif self.transform is not None:\n",
    "\t\t\tim = self.transform(im)\n",
    "\n",
    "\t\treturn {\n",
    "\t\t\t\"image\": im,\n",
    "\t\t\t\"label\": c\n",
    "\t\t}\n",
    "\n",
    "\tdef __len__(self):\n",
    "\t\treturn len(self.images)"
   ]
  },
  {
   "cell_type": "code",
   "execution_count": 57,
   "metadata": {
    "executionInfo": {
     "elapsed": 96,
     "status": "ok",
     "timestamp": 1745853244788,
     "user": {
      "displayName": "Kevin Speranza",
      "userId": "02783167933473171546"
     },
     "user_tz": -120
    },
    "id": "ZetENCSWrY9U"
   },
   "outputs": [],
   "source": [
    "train_path = f'{dataset_dir}/train.txt'\n",
    "\n",
    "dataset = DigitDataset(imgs_path=dataset_dir, txt_path=train_path, transform=transforms.ToTensor())"
   ]
  },
  {
   "cell_type": "code",
   "execution_count": 58,
   "metadata": {
    "colab": {
     "base_uri": "https://localhost:8080/"
    },
    "executionInfo": {
     "elapsed": 56,
     "status": "ok",
     "timestamp": 1745853244900,
     "user": {
      "displayName": "Kevin Speranza",
      "userId": "02783167933473171546"
     },
     "user_tz": -120
    },
    "id": "Fpr0LydZwFbK",
    "outputId": "a6d82473-9b9e-452b-ba6d-b480e4840dd1"
   },
   "outputs": [
    {
     "name": "stdout",
     "output_type": "stream",
     "text": [
      "torch.Size([3, 28, 28])\n",
      "S\n"
     ]
    }
   ],
   "source": [
    "sample = dataset[0]\n",
    "print(sample['image'].shape)\n",
    "print(sample['label'])"
   ]
  },
  {
   "cell_type": "markdown",
   "metadata": {
    "id": "dv-lI83Qycqh"
   },
   "source": [
    "## data normalization"
   ]
  },
  {
   "cell_type": "code",
   "execution_count": 60,
   "metadata": {
    "executionInfo": {
     "elapsed": 37,
     "status": "ok",
     "timestamp": 1745853247778,
     "user": {
      "displayName": "Kevin Speranza",
      "userId": "02783167933473171546"
     },
     "user_tz": -120
    },
    "id": "PW3kCHZlz0nS"
   },
   "outputs": [
    {
     "data": {
      "text/plain": [
       "(28, 28)"
      ]
     },
     "execution_count": 60,
     "metadata": {},
     "output_type": "execute_result"
    }
   ],
   "source": [
    "x_pixels_count = int(sample['image'].shape[1])\n",
    "y_pixels_count = int(sample['image'].shape[2])\n",
    "x_pixels_count, y_pixels_count"
   ]
  },
  {
   "cell_type": "markdown",
   "metadata": {
    "id": "_xn4lHO7zFix"
   },
   "source": [
    "media"
   ]
  },
  {
   "cell_type": "code",
   "execution_count": 61,
   "metadata": {
    "executionInfo": {
     "elapsed": 5201,
     "status": "ok",
     "timestamp": 1745853260016,
     "user": {
      "displayName": "Kevin Speranza",
      "userId": "02783167933473171546"
     },
     "user_tz": -120
    },
    "id": "BS05E1F_wkav"
   },
   "outputs": [],
   "source": [
    "m = np.zeros(3)\n",
    "for sample in dataset:\n",
    "  m += sample['image'].sum(1).sum(1).numpy()\n",
    "\n",
    "m = m / (len(dataset) * x_pixels_count * y_pixels_count)"
   ]
  },
  {
   "cell_type": "code",
   "execution_count": 62,
   "metadata": {
    "colab": {
     "base_uri": "https://localhost:8080/"
    },
    "executionInfo": {
     "elapsed": 58,
     "status": "ok",
     "timestamp": 1745853266764,
     "user": {
      "displayName": "Kevin Speranza",
      "userId": "02783167933473171546"
     },
     "user_tz": -120
    },
    "id": "tXNFPzNKzDjz",
    "outputId": "1e5283f5-f93a-486d-f898-0d27a5f8375e"
   },
   "outputs": [
    {
     "data": {
      "text/plain": [
       "('media', array([0.49894239, 0.41612808, 0.33276246]))"
      ]
     },
     "execution_count": 62,
     "metadata": {},
     "output_type": "execute_result"
    }
   ],
   "source": [
    "\"media\", m"
   ]
  },
  {
   "cell_type": "markdown",
   "metadata": {
    "id": "eLSSUii3zWHV"
   },
   "source": [
    "varianza"
   ]
  },
  {
   "cell_type": "code",
   "execution_count": 63,
   "metadata": {
    "executionInfo": {
     "elapsed": 5555,
     "status": "ok",
     "timestamp": 1745853283285,
     "user": {
      "displayName": "Kevin Speranza",
      "userId": "02783167933473171546"
     },
     "user_tz": -120
    },
    "id": "jc--GkCnzV0E"
   },
   "outputs": [],
   "source": [
    "s = np.zeros(3)\n",
    "for sample in dataset:\n",
    "  s += ((sample['image'] - torch.Tensor(m).view(3,1,1)) ** 2).sum(1).sum(1).numpy()\n",
    "\n",
    "s = np.sqrt(s / (len(dataset) * x_pixels_count * y_pixels_count))"
   ]
  },
  {
   "cell_type": "code",
   "execution_count": 64,
   "metadata": {
    "colab": {
     "base_uri": "https://localhost:8080/"
    },
    "executionInfo": {
     "elapsed": 16,
     "status": "ok",
     "timestamp": 1745853283328,
     "user": {
      "displayName": "Kevin Speranza",
      "userId": "02783167933473171546"
     },
     "user_tz": -120
    },
    "id": "03WaNCeS0Etu",
    "outputId": "ff0078d6-c692-44d1-8bb5-61a39377dd7b"
   },
   "outputs": [
    {
     "data": {
      "text/plain": [
       "('varianza', array([0.49364248, 0.44286803, 0.46521507]))"
      ]
     },
     "execution_count": 64,
     "metadata": {},
     "output_type": "execute_result"
    }
   ],
   "source": [
    "\"varianza\", s"
   ]
  },
  {
   "cell_type": "markdown",
   "metadata": {
    "id": "ePfzDsfF0Jxt"
   },
   "source": [
    "normalizziamo"
   ]
  },
  {
   "cell_type": "code",
   "execution_count": 65,
   "metadata": {
    "colab": {
     "base_uri": "https://localhost:8080/"
    },
    "executionInfo": {
     "elapsed": 50,
     "status": "ok",
     "timestamp": 1745853429148,
     "user": {
      "displayName": "Kevin Speranza",
      "userId": "02783167933473171546"
     },
     "user_tz": -120
    },
    "id": "PjaVuPOM0Hbh",
    "outputId": "18191657-037a-483f-dbd6-880c7a566f6b"
   },
   "outputs": [
    {
     "name": "stdout",
     "output_type": "stream",
     "text": [
      "torch.Size([2352])\n",
      "S\n"
     ]
    }
   ],
   "source": [
    "transform = transforms.Compose([\n",
    "    transforms.Resize(28),\n",
    "    transforms.ToTensor(),\n",
    "    transforms.Normalize(m, s),\n",
    "    transforms.Lambda(lambda x: x.view(-1))\n",
    "])\n",
    "\n",
    "dataset = DigitDataset(imgs_path=dataset_dir, txt_path=train_path, transform=transform)\n",
    "print(dataset[0]['image'].shape)\n",
    "print(dataset[0]['label'])"
   ]
  }
 ],
 "metadata": {
  "colab": {
   "provenance": []
  },
  "kernelspec": {
   "display_name": "Python 3",
   "language": "python",
   "name": "python3"
  },
  "language_info": {
   "codemirror_mode": {
    "name": "ipython",
    "version": 3
   },
   "file_extension": ".py",
   "mimetype": "text/x-python",
   "name": "python",
   "nbconvert_exporter": "python",
   "pygments_lexer": "ipython3",
   "version": "3.13.3"
  }
 },
 "nbformat": 4,
 "nbformat_minor": 0
}
